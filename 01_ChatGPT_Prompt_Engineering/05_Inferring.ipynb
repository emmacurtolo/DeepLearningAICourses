{
 "cells": [
  {
   "cell_type": "markdown",
   "id": "b2c38783",
   "metadata": {},
   "source": [
    "# Inferring\n",
    "In this lesson, you will infer sentiment and topics from product reviews and news articles.\n",
    "\n",
    "The model takes a text as input and performs some kind of analysis. So this could be extracting labels, extracting names, kind of understanding the sentiment of a text.\n",
    "\n",
    "So if you want to extract a sentiment, positive or negative, of a piece of text, in the traditional \n",
    "machine learning workflow, you'd have to collect the label data set, train \n",
    "a model, figure out how to deploy the model somewhere in \n",
    "the cloud and make inferences. And that could work pretty well, but \n",
    "it was, you know, just a lot of work to \n",
    "go through that process. And also for every task, such \n",
    "as sentiment versus extracting names versus \n",
    "something else, you have to train and deploy a separate model.\n",
    "\n",
    "One of the really nice \n",
    "things about large language model is that for \n",
    "many tasks like these, you can just write a \n",
    "prompt and have it start generating results pretty \n",
    "much right away. And that gives tremendous speed in terms \n",
    "of application development. And you can also just use one model, one \n",
    "API to do many different tasks rather than \n",
    "needing to figure out how to train and deploy a lot of \n",
    "different models.\n",
    "\n",
    "## Setup"
   ]
  },
  {
   "cell_type": "code",
   "execution_count": null,
   "id": "cfe6509b",
   "metadata": {},
   "outputs": [],
   "source": [
    "import openai\n",
    "import os\n",
    "\n",
    "from dotenv import load_dotenv, find_dotenv\n",
    "_ = load_dotenv(find_dotenv()) # read local .env file\n",
    "\n",
    "openai.api_key  = os.getenv('OPENAI_API_KEY')"
   ]
  },
  {
   "cell_type": "code",
   "execution_count": null,
   "id": "87c02e72",
   "metadata": {},
   "outputs": [],
   "source": [
    "def get_completion(prompt, model=\"gpt-3.5-turbo\"):\n",
    "    messages = [{\"role\": \"user\", \"content\": prompt}]\n",
    "    response = openai.ChatCompletion.create(\n",
    "        model=model,\n",
    "        messages=messages,\n",
    "        temperature=0, # this is the degree of randomness of the model's output\n",
    "    )\n",
    "    return response.choices[0].message[\"content\"]"
   ]
  },
  {
   "cell_type": "markdown",
   "id": "d6097d82",
   "metadata": {},
   "source": [
    "## Product review text"
   ]
  },
  {
   "cell_type": "code",
   "execution_count": null,
   "id": "4704497a",
   "metadata": {},
   "outputs": [],
   "source": [
    "lamp_review = \"\"\"\n",
    "Needed a nice lamp for my bedroom, and this one had \\\n",
    "additional storage and not too high of a price point. \\\n",
    "Got it fast.  The string to our lamp broke during the \\\n",
    "transit and the company happily sent over a new one. \\\n",
    "Came within a few days as well. It was easy to put \\\n",
    "together.  I had a missing part, so I contacted their \\\n",
    "support and they very quickly got me the missing piece! \\\n",
    "Lumina seems to me to be a great company that cares \\\n",
    "about their customers and products!!\n",
    "\"\"\""
   ]
  },
  {
   "cell_type": "markdown",
   "id": "b7b5d692",
   "metadata": {},
   "source": [
    "## Sentiment (positive/negative)"
   ]
  },
  {
   "cell_type": "code",
   "execution_count": null,
   "id": "99e186cb",
   "metadata": {},
   "outputs": [],
   "source": [
    "prompt = f\"\"\"\n",
    "What is the sentiment of the following product review, \n",
    "which is delimited with triple backticks?\n",
    "\n",
    "Review text: '''{lamp_review}'''\n",
    "\"\"\"\n",
    "response = get_completion(prompt)\n",
    "print(response)"
   ]
  },
  {
   "cell_type": "markdown",
   "id": "be47fc58",
   "metadata": {},
   "source": [
    "*OUTPUT*\n",
    "\n",
    "*The sentiment of the product review is positive.*\n",
    "\n",
    "It's pretty right."
   ]
  },
  {
   "cell_type": "code",
   "execution_count": null,
   "id": "e2d9e2be",
   "metadata": {},
   "outputs": [],
   "source": [
    "# If you want more concise response to make it easier for post-processing\n",
    "\n",
    "prompt = f\"\"\"\n",
    "What is the sentiment of the following product review, \n",
    "which is delimited with triple backticks?\n",
    "\n",
    "Give your answer as a single word, either \"positive\" \\\n",
    "or \"negative\".\n",
    "\n",
    "Review text: '''{lamp_review}'''\n",
    "\"\"\"\n",
    "response = get_completion(prompt)\n",
    "print(response)"
   ]
  },
  {
   "cell_type": "markdown",
   "id": "573e418e",
   "metadata": {},
   "source": [
    "*OUTPUT*\n",
    "\n",
    "*positive*"
   ]
  },
  {
   "cell_type": "markdown",
   "id": "80a679fb",
   "metadata": {},
   "source": [
    "## Identify types of emotions\n",
    "\n",
    "Large language models are pretty good at extracting \n",
    "specific things out of a piece of text."
   ]
  },
  {
   "cell_type": "code",
   "execution_count": null,
   "id": "6f594804",
   "metadata": {},
   "outputs": [],
   "source": [
    "prompt = f\"\"\"\n",
    "Identify a list of emotions that the writer of the \\\n",
    "following review is expressing. Include no more than \\\n",
    "five items in the list. Format your answer as a list of \\\n",
    "lower-case words separated by commas.\n",
    "\n",
    "Review text: '''{lamp_review}'''\n",
    "\"\"\"\n",
    "response = get_completion(prompt)\n",
    "print(response)"
   ]
  },
  {
   "cell_type": "markdown",
   "id": "654a4670",
   "metadata": {},
   "source": [
    "*OUTPUT*\n",
    "\n",
    "*satisfied, pleased, grateful, impressed, happy*"
   ]
  },
  {
   "cell_type": "markdown",
   "id": "b675541e",
   "metadata": {},
   "source": [
    "## Identify anger"
   ]
  },
  {
   "cell_type": "code",
   "execution_count": null,
   "id": "da2d76ab",
   "metadata": {},
   "outputs": [],
   "source": [
    "prompt = f\"\"\"\n",
    "Is the writer of the following review expressing anger?\\\n",
    "The review is delimited with triple backticks. \\\n",
    "Give your answer as either yes or no.\n",
    "\n",
    "Review text: '''{lamp_review}'''\n",
    "\"\"\"\n",
    "response = get_completion(prompt)\n",
    "print(response)"
   ]
  },
  {
   "cell_type": "markdown",
   "id": "e2b4ca88",
   "metadata": {},
   "source": [
    "*OUTPUT*\n",
    "\n",
    "*No*\n",
    "\n",
    "Notice that \n",
    "with supervised learning, if I had \n",
    "wanted to build all of these classifiers, there's no way \n",
    "I would have been able to do this with \n",
    "supervised learning in the just a few minutes."
   ]
  },
  {
   "cell_type": "markdown",
   "id": "15d7357c",
   "metadata": {},
   "source": [
    "## Extract product and company name from customer reviews\n",
    "\n",
    "Information extraction is the part of NLP, \n",
    "of Natural Language Processing, that relates to taking \n",
    "a piece of text and extracting certain things \n",
    "that you want to know from the text."
   ]
  },
  {
   "cell_type": "code",
   "execution_count": null,
   "id": "c3de08e3",
   "metadata": {},
   "outputs": [],
   "source": [
    "prompt = f\"\"\"\n",
    "Identify the following items from the review text: \n",
    "- Item purchased by reviewer\n",
    "- Company that made the item\n",
    "\n",
    "The review is delimited with triple backticks. \\\n",
    "Format your response as a JSON object with \\\n",
    "\"Item\" and \"Brand\" as the keys. \n",
    "If the information isn't present, use \"unknown\" \\\n",
    "as the value.\n",
    "Make your response as short as possible.\n",
    "  \n",
    "Review text: '''{lamp_review}'''\n",
    "\"\"\"\n",
    "response = get_completion(prompt)\n",
    "print(response)"
   ]
  },
  {
   "cell_type": "markdown",
   "id": "5ca4bacc",
   "metadata": {},
   "source": [
    "*OUTPUT*\n",
    "```json\n",
    "{\n",
    "  \"Item\": \"lamp\",\n",
    "  \"Brand\": \"Lumina\"\n",
    "}\n",
    "```\n",
    "you can easily load this \n",
    "into the Python dictionary to then do additional processing \n",
    "on this output."
   ]
  },
  {
   "cell_type": "markdown",
   "id": "eaef7b0f",
   "metadata": {},
   "source": [
    "## Doing multiple tasks at once\n",
    "\n",
    "Write a prompt:\n",
    "- to recognize the sentiment, \n",
    "- figure out if someone is angry,\n",
    "- then also extract the item and the brand.\n",
    "Write a \n",
    "single prompt to extract all of this information \n",
    "at the same time"
   ]
  },
  {
   "cell_type": "code",
   "execution_count": null,
   "id": "fb92a2af",
   "metadata": {},
   "outputs": [],
   "source": [
    "prompt = f\"\"\"\n",
    "Identify the following items from the review text: \n",
    "- Sentiment (positive or negative)\n",
    "- Is the reviewer expressing anger? (true or false)\n",
    "- Item purchased by reviewer\n",
    "- Company that made the item\n",
    "\n",
    "The review is delimited with triple backticks. \\\n",
    "Format your response as a JSON object with \\\n",
    "\"Sentiment\", \"Anger\", \"Item\" and \"Brand\" as the keys.\n",
    "If the information isn't present, use \"unknown\" \\\n",
    "as the value.\n",
    "Make your response as short as possible.\n",
    "Format the Anger value as a boolean.\n",
    "\n",
    "Review text: '''{lamp_review}'''\n",
    "\"\"\"\n",
    "response = get_completion(prompt)\n",
    "print(response)"
   ]
  },
  {
   "cell_type": "markdown",
   "id": "86f84c94",
   "metadata": {},
   "source": [
    "*OUTPUT*\n",
    "```json\n",
    "{\n",
    "  \"Sentiment\": \"positive\",\n",
    "  \"Anger\": false,\n",
    "  \"Item\": \"lamp\",\n",
    "  \"Brand\": \"Lumina\"\n",
    "}\n",
    "```"
   ]
  },
  {
   "cell_type": "markdown",
   "id": "895f1be6",
   "metadata": {},
   "source": [
    "## Inferring topics"
   ]
  },
  {
   "cell_type": "code",
   "execution_count": null,
   "id": "5302162f",
   "metadata": {},
   "outputs": [],
   "source": [
    "story = \"\"\"\n",
    "In a recent survey conducted by the government, \n",
    "public sector employees were asked to rate their level \n",
    "of satisfaction with the department they work at. \n",
    "The results revealed that NASA was the most popular \n",
    "department with a satisfaction rating of 95%.\n",
    "\n",
    "One NASA employee, John Smith, commented on the findings, \n",
    "stating, \"I'm not surprised that NASA came out on top. \n",
    "It's a great place to work with amazing people and \n",
    "incredible opportunities. I'm proud to be a part of \n",
    "such an innovative organization.\"\n",
    "\n",
    "The results were also welcomed by NASA's management team, \n",
    "with Director Tom Johnson stating, \"We are thrilled to \n",
    "hear that our employees are satisfied with their work at NASA. \n",
    "We have a talented and dedicated team who work tirelessly \n",
    "to achieve our goals, and it's fantastic to see that their \n",
    "hard work is paying off.\"\n",
    "\n",
    "The survey also revealed that the \n",
    "Social Security Administration had the lowest satisfaction \n",
    "rating, with only 45% of employees indicating they were \n",
    "satisfied with their job. The government has pledged to \n",
    "address the concerns raised by employees in the survey and \n",
    "work towards improving job satisfaction across all departments.\n",
    "\"\"\""
   ]
  },
  {
   "cell_type": "markdown",
   "id": "6088eb28",
   "metadata": {},
   "source": [
    "## Infer 5 topics"
   ]
  },
  {
   "cell_type": "code",
   "execution_count": null,
   "id": "ca4343dc",
   "metadata": {},
   "outputs": [],
   "source": [
    "prompt = f\"\"\"\n",
    "Determine five topics that are being discussed in the \\\n",
    "following text, which is delimited by triple backticks.\n",
    "\n",
    "Make each item one or two words long. \n",
    "\n",
    "Format your response as a list of items separated by commas.\n",
    "\n",
    "Text sample: '''{story}'''\n",
    "\"\"\"\n",
    "response = get_completion(prompt)\n",
    "print(response)"
   ]
  },
  {
   "cell_type": "markdown",
   "id": "b6b06274",
   "metadata": {},
   "source": [
    "*OUTPUT*\n",
    "\n",
    "1. Government survey\n",
    "2. Department satisfaction rating\n",
    "3. NASA\n",
    "4. Social Security Administration\n",
    "5. Job satisfaction improvement"
   ]
  },
  {
   "cell_type": "code",
   "execution_count": null,
   "id": "327d76a3",
   "metadata": {},
   "outputs": [],
   "source": [
    "response.split(sep=',')"
   ]
  },
  {
   "cell_type": "markdown",
   "id": "bff91441",
   "metadata": {},
   "source": [
    "*OUTPUT*\n",
    "```python\n",
    "['1. Government survey\\n2. Department satisfaction rating\\n3. NASA\\n4. Social Security Administration\\n5. Job satisfaction improvement']\n",
    "```\n",
    "\n",
    "You can also split it so you get a Python list with the five topics that \n",
    "this article was about. \n",
    "And if you have a collection of articles and extract \n",
    "topics, you can then also use a large language \n",
    "model to help you index into different topics."
   ]
  },
  {
   "cell_type": "code",
   "execution_count": null,
   "id": "efb8cda8",
   "metadata": {},
   "outputs": [],
   "source": [
    "topic_list = [\n",
    "    \"nasa\", \"local government\", \"engineering\", \n",
    "    \"employee satisfaction\", \"federal government\"\n",
    "]"
   ]
  },
  {
   "cell_type": "markdown",
   "id": "bb90df7a",
   "metadata": {},
   "source": [
    "## Make a news alert for certain topics"
   ]
  },
  {
   "cell_type": "code",
   "execution_count": null,
   "id": "c7ddffd4",
   "metadata": {},
   "outputs": [],
   "source": [
    "prompt = f\"\"\"\n",
    "Determine whether each item in the following list of \\\n",
    "topics is a topic in the text below, which\n",
    "is delimited with triple backticks.\n",
    "\n",
    "Give your answer as json with 0 or 1 for each topic.\\\n",
    "\n",
    "List of topics: {\", \".join(topic_list)}\n",
    "\n",
    "Text sample: '''{story}'''\n",
    "\"\"\"\n",
    "response = get_completion(prompt)\n",
    "print(response)"
   ]
  },
  {
   "cell_type": "markdown",
   "id": "ae590d45",
   "metadata": {},
   "source": [
    "*OUTPUT*\n",
    "```json\n",
    "{\n",
    "  \"nasa\": 1,\n",
    "  \"local government\": 0,\n",
    "  \"engineering\": 0,\n",
    "  \"employee satisfaction\": 1,\n",
    "  \"federal government\": 1\n",
    "}\n",
    "```\n",
    "\n",
    "In machine learning, this is sometimes called a \"Zero-Shot Learning Algorithm\", \n",
    "because we didn't give it any training data that was \n",
    "labeled, so that's Zero-Shot. And with just a prompt, it \n",
    "was able to determine which of these topics are covered in that news article.\n",
    "\n",
    "topic_dict =\n",
    "\n",
    "\n",
    "nasa : 1\n",
    "local goverment : 0\n",
    "engineering : 0\n",
    "employee satisfaction : 1\n",
    "federal goverment : 1"
   ]
  },
  {
   "cell_type": "code",
   "execution_count": null,
   "id": "413edc50",
   "metadata": {},
   "outputs": [],
   "source": [
    "topic_dict = {i.split(': ')[0]: int(i.split(': ')[1]) for i in response.split(sep='\\n')}\n",
    "if topic_dict['nasa'] == 1:\n",
    "    print(\"ALERT: New NASA story!\")"
   ]
  },
  {
   "cell_type": "markdown",
   "id": "e85d2535",
   "metadata": {},
   "source": [
    "*OUTPUT*\n",
    "\n",
    "*ALERT: New NASA story!*\n",
    "\n",
    "And in just a few minutes, you \n",
    "can build multiple systems for making inferences about text \n",
    "that previously just would have taken days or even \n",
    "weeks for a skilled machine learning developer."
   ]
  }
 ],
 "metadata": {
  "kernelspec": {
   "display_name": "Python 3 (ipykernel)",
   "language": "python",
   "name": "python3"
  },
  "language_info": {
   "codemirror_mode": {
    "name": "ipython",
    "version": 3
   },
   "file_extension": ".py",
   "mimetype": "text/x-python",
   "name": "python",
   "nbconvert_exporter": "python",
   "pygments_lexer": "ipython3",
   "version": "3.10.10"
  }
 },
 "nbformat": 4,
 "nbformat_minor": 5
}
