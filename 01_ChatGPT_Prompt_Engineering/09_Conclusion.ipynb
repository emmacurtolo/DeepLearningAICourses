{
 "cells": [
  {
   "cell_type": "markdown",
   "id": "789bea5d",
   "metadata": {},
   "source": [
    "Congratulations on making it to the end of this short course. \n",
    "In summary, in this short course you've \n",
    "learned about two key principles for prompting. \n",
    "\n",
    "Write \n",
    "clear and specific instructions, and when it's appropriate, give the \n",
    "model time to think. You also learned about iterative \n",
    "prompt development and how having a \n",
    "process to get to the prompt that's right for \n",
    "your application is key. And we went through a few capabilities of large \n",
    "language models that are useful for many applications, specifically \n",
    "summarizing, inferring, transforming, and expanding. \n",
    "And you also saw how to build a \n",
    "custom chatbot. That was a lot that you learned in just \n",
    "one short course, and I hope you enjoyed going through \n",
    "these materials. \n",
    "\n",
    "We hope you'll come up with some ideas for applications that \n",
    "you can build yourself now. Please go try this out and let us know \n",
    "what you come up with. No application is too small, it's fine \n",
    "to start with something that's kind of a very small project with \n",
    "maybe a little bit of utility or maybe it's not even useful \n",
    "at all, it's just something fun. \n",
    "Yeah, and I find playing with these models actually really fun, \n",
    "so go play with it! \n",
    "\n",
    "I agree, it's a good weekend activity, speaking \n",
    "from experience. \n",
    "Uhm, and just, you know, please use the learnings \n",
    "from your first project to build a better \n",
    "second project and you know, maybe even a better third project, \n",
    "so on. That's kind of how I have kind of grown over time \n",
    "using these models myself as well. \n",
    "Or if you have an idea for a bigger project already, \n",
    "just go for it. And you know, as \n",
    "a reminder, these kind of large language models are a very \n",
    "powerful technology, so it kind of goes without saying that \n",
    "we ask you to use them responsibly and \n",
    "please only build things that will have a positive impact. \n",
    "\n",
    "Yeah, I fully agree. I think in this age, \n",
    "people that build AI systems can have a \n",
    "huge impact on others. So it's more important than ever \n",
    "that all of us only use these tools responsibly. Uhm, and I think building \n",
    "large language model based applications is just a very \n",
    "exciting and growing field right now. And \n",
    "now that you've finished this course, I think \n",
    "you now have a wealth of knowledge that let you build things \n",
    "that few people today know how to. So, I hope \n",
    "you also help us to spread the word and encourage others to \n",
    "take this course too. In closing, I hope \n",
    "you had fun doing this course, and I want to thank you for \n",
    "finishing this course. And both Ezra and I look forward to hearing about \n",
    "the amazing things that you build. "
   ]
  }
 ],
 "metadata": {
  "kernelspec": {
   "display_name": "Python 3 (ipykernel)",
   "language": "python",
   "name": "python3"
  },
  "language_info": {
   "codemirror_mode": {
    "name": "ipython",
    "version": 3
   },
   "file_extension": ".py",
   "mimetype": "text/x-python",
   "name": "python",
   "nbconvert_exporter": "python",
   "pygments_lexer": "ipython3",
   "version": "3.10.10"
  }
 },
 "nbformat": 4,
 "nbformat_minor": 5
}
