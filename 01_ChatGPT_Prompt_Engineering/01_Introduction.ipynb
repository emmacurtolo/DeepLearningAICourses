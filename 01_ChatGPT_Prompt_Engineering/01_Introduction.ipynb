{
 "cells": [
  {
   "cell_type": "markdown",
   "id": "9c398b9e",
   "metadata": {},
   "source": [
    "Using API calls to LLMs for quickly building software applications:\n",
    "\n",
    "1. Learn some best practices for software development when using prompting.\n",
    "2. Common use cases include summarizing, inferring, transforming, and expanding.\n",
    "3. Develop a chat bot utilizing an LLM.\n",
    "\n",
    "## Two types of large language models (LLMs):\n",
    "\n",
    "### - Base LLM:\n",
    "\n",
    "The base LLM is trained to predict the next word in a sentence using text training data, often derived from a vast amount of internet and other sources. Its purpose is to determine the most probable word to follow.\n",
    "(Predicting the next several words of a sentence)\n",
    "\n",
    "### - Instruction Tuned LLM:\n",
    "\n",
    "The instruction-tuned LLM is trained to follow instructions. It undergoes fine-tuning using inputs and outputs that consist of instructions and successful attempts to follow those instructions. This refinement process may include techniques such as Reinforcement Learning from Human Feedback (RLHF), enhancing the system's ability to provide assistance and adhere to instructions. These models are trained to be Helpful, Honest, and Harmless, reducing the likelihood of generating problematic text (toxic content).\n",
    "\n",
    "When providing instructions, it is essential to be clear and specific. Additionally, specifying the desired tone of the text can help generate the desired output.\n",
    "\n",
    "Examples of clear and specific instructions are crucial when prompting LLMs. Another important principle is allowing the model sufficient time to generate a response.\n",
    "\n",
    "### Principles and tactics for working with language models like ChatGPT:\n",
    "\n",
    "### The first principle is to write clear and specific instructions.\n",
    "\n",
    "### The second principle is to give the model time to think.\n"
   ]
  },
  {
   "cell_type": "markdown",
   "id": "cd775f16",
   "metadata": {},
   "source": [
    "![Introduction](introduction.png)"
   ]
  }
 ],
 "metadata": {
  "kernelspec": {
   "display_name": "Python 3 (ipykernel)",
   "language": "python",
   "name": "python3"
  },
  "language_info": {
   "codemirror_mode": {
    "name": "ipython",
    "version": 3
   },
   "file_extension": ".py",
   "mimetype": "text/x-python",
   "name": "python",
   "nbconvert_exporter": "python",
   "pygments_lexer": "ipython3",
   "version": "3.10.10"
  }
 },
 "nbformat": 4,
 "nbformat_minor": 5
}
