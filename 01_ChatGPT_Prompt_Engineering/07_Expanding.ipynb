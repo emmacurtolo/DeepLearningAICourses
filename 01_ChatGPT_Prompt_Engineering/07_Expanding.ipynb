{
 "cells": [
  {
   "cell_type": "markdown",
   "id": "f90126a8",
   "metadata": {},
   "source": [
    "# Expanding\n",
    "In this lesson, you will generate customer service emails that are tailored to each customer's review.\n",
    "\n",
    "Large language model as a brainstorming partner.\n",
    "\n",
    "We're also going \n",
    "to use another one of the model's input parameters called \n",
    "\"temperature\" and this kind of allows you to vary \n",
    "the kind of degree of exploration and variety \n",
    "in the kind of model's responses.\n",
    "\n",
    "## Setup"
   ]
  },
  {
   "cell_type": "code",
   "execution_count": null,
   "id": "70c3189a",
   "metadata": {},
   "outputs": [],
   "source": [
    "import openai\n",
    "import os\n",
    "\n",
    "from dotenv import load_dotenv, find_dotenv\n",
    "_ = load_dotenv(find_dotenv()) # read local .env file\n",
    "\n",
    "openai.api_key  = os.getenv('OPENAI_API_KEY')"
   ]
  },
  {
   "cell_type": "code",
   "execution_count": null,
   "id": "0879de39",
   "metadata": {},
   "outputs": [],
   "source": [
    "def get_completion(prompt, model=\"gpt-3.5-turbo\",temperature=0): # Andrew mentioned that the prompt/ completion paradigm is preferable for this class\n",
    "    messages = [{\"role\": \"user\", \"content\": prompt}]\n",
    "    response = openai.ChatCompletion.create(\n",
    "        model=model,\n",
    "        messages=messages,\n",
    "        temperature=temperature, # this is the degree of randomness of the model's output\n",
    "    )\n",
    "    return response.choices[0].message[\"content\"]"
   ]
  },
  {
   "cell_type": "markdown",
   "id": "8813fb81",
   "metadata": {},
   "source": [
    "## Customize the automated reply to a customer email"
   ]
  },
  {
   "cell_type": "code",
   "execution_count": null,
   "id": "e255c04a",
   "metadata": {},
   "outputs": [],
   "source": [
    "# given the sentiment from the lesson on \"inferring\",\n",
    "# and the original customer message, customize the email\n",
    "sentiment = \"negative\"\n",
    "\n",
    "# review for a blender\n",
    "review = f\"\"\"\n",
    "So, they still had the 17 piece system on seasonal \\\n",
    "sale for around $49 in the month of November, about \\\n",
    "half off, but for some reason (call it price gouging) \\\n",
    "around the second week of December the prices all went \\\n",
    "up to about anywhere from between $70-$89 for the same \\\n",
    "system. And the 11 piece system went up around $10 or \\\n",
    "so in price also from the earlier sale price of $29. \\\n",
    "So it looks okay, but if you look at the base, the part \\\n",
    "where the blade locks into place doesn’t look as good \\\n",
    "as in previous editions from a few years ago, but I \\\n",
    "plan to be very gentle with it (example, I crush \\\n",
    "very hard items like beans, ice, rice, etc. in the \\ \n",
    "blender first then pulverize them in the serving size \\\n",
    "I want in the blender then switch to the whipping \\\n",
    "blade for a finer flour, and use the cross cutting blade \\\n",
    "first when making smoothies, then use the flat blade \\\n",
    "if I need them finer/less pulpy). Special tip when making \\\n",
    "smoothies, finely cut and freeze the fruits and \\\n",
    "vegetables (if using spinach-lightly stew soften the \\ \n",
    "spinach then freeze until ready for use-and if making \\\n",
    "sorbet, use a small to medium sized food processor) \\ \n",
    "that you plan to use that way you can avoid adding so \\\n",
    "much ice if at all-when making your smoothie. \\\n",
    "After about a year, the motor was making a funny noise. \\\n",
    "I called customer service but the warranty expired \\\n",
    "already, so I had to buy another one. FYI: The overall \\\n",
    "quality has gone done in these types of products, so \\\n",
    "they are kind of counting on brand recognition and \\\n",
    "consumer loyalty to maintain sales. Got it in about \\\n",
    "two days.\n",
    "\"\"\""
   ]
  },
  {
   "cell_type": "code",
   "execution_count": null,
   "id": "e4dec7bf",
   "metadata": {},
   "outputs": [],
   "source": [
    "prompt = f\"\"\"\n",
    "You are a customer service AI assistant.\n",
    "Your task is to send an email reply to a valued customer.\n",
    "Given the customer email delimited by ```, \\\n",
    "Generate a reply to thank the customer for their review.\n",
    "If the sentiment is positive or neutral, thank them for \\\n",
    "their review.\n",
    "If the sentiment is negative, apologize and suggest that \\\n",
    "they can reach out to customer service. \n",
    "Make sure to use specific details from the review.\n",
    "Write in a concise and professional tone.\n",
    "Sign the email as `AI customer agent`.\n",
    "Customer review: ```{review}```\n",
    "Review sentiment: {sentiment}\n",
    "\"\"\"\n",
    "response = get_completion(prompt)\n",
    "print(response)"
   ]
  },
  {
   "cell_type": "markdown",
   "id": "00f9b6f3",
   "metadata": {},
   "source": [
    "*OUTPUT*\n",
    "\n",
    "Dear Valued Customer,\n",
    "\n",
    "Thank you for taking the time to share your review with us. We appreciate your feedback and apologize for any inconvenience you may have experienced.\n",
    "\n",
    "We are sorry to hear about the price increase you noticed in December. We strive to provide competitive prices for our customers, and we understand your frustration. If you have any further concerns regarding pricing, we recommend reaching out to our customer service team who will be happy to assist you.\n",
    "\n",
    "We also appreciate your feedback regarding the base of the system. We continuously work to improve the quality of our products, and your comments will be taken into consideration for future enhancements.\n",
    "\n",
    "We apologize for any inconvenience caused by the motor issue you encountered. Our customer service team is available to assist you with any product-related concerns, even if the warranty has expired. Please feel free to contact them for further assistance.\n",
    "\n",
    "Thank you once again for your review. We value your feedback and will use it to improve our products and services. If you have any other questions or concerns, please do not hesitate to reach out to us.\n",
    "\n",
    "Best regards,\n",
    "\n",
    "AI customer agent"
   ]
  },
  {
   "cell_type": "markdown",
   "id": "44219dcd",
   "metadata": {},
   "source": [
    "### We're going to use a parameter of the language model called \"temperature\" that will allow us to change the kind of variety of the model's responses. So you can kind of think of temperature as the degree of exploration or kind of randomness of the model."
   ]
  },
  {
   "cell_type": "markdown",
   "id": "2f15111f",
   "metadata": {},
   "source": [
    "![Temperature](temperature.png)"
   ]
  },
  {
   "cell_type": "markdown",
   "id": "8a3bdf36",
   "metadata": {},
   "source": [
    "In general, when building \n",
    "applications where you want a predictable \n",
    "response, I would recommend using temperature \n",
    "zero. Throughout all of these videos, we've been using \n",
    "temperature zero, and I think that if you're trying to build \n",
    "a system that is reliable and predictable, you should go with \n",
    "this. If you're trying to use the model in a more creative \n",
    "way, where you might want a kind of wider variety \n",
    "of different outputs, you might want to use \n",
    "a higher temperature. "
   ]
  },
  {
   "cell_type": "markdown",
   "id": "c9cbd3ed",
   "metadata": {},
   "source": [
    "## Remind the model to use details from the customer's email"
   ]
  },
  {
   "cell_type": "code",
   "execution_count": null,
   "id": "3406eb33",
   "metadata": {},
   "outputs": [],
   "source": [
    "prompt = f\"\"\"\n",
    "You are a customer service AI assistant.\n",
    "Your task is to send an email reply to a valued customer.\n",
    "Given the customer email delimited by ```, \\\n",
    "Generate a reply to thank the customer for their review.\n",
    "If the sentiment is positive or neutral, thank them for \\\n",
    "their review.\n",
    "If the sentiment is negative, apologize and suggest that \\\n",
    "they can reach out to customer service. \n",
    "Make sure to use specific details from the review.\n",
    "Write in a concise and professional tone.\n",
    "Sign the email as `AI customer agent`.\n",
    "Customer review: ```{review}```\n",
    "Review sentiment: {sentiment}\n",
    "\"\"\"\n",
    "response = get_completion(prompt, temperature=0.7)\n",
    "print(response)\n",
    "\n",
    "#  Whereas with temperature 0.7, you'll get a different output every time."
   ]
  },
  {
   "cell_type": "markdown",
   "id": "2540fdfd",
   "metadata": {},
   "source": [
    "*OUTPUT*\n",
    "\n",
    "Dear Valued Customer,\n",
    "\n",
    "Thank you for taking the time to share your review with us. We appreciate your feedback and are sorry to hear about your experience with the pricing changes and the decrease in the quality of our product.\n",
    "\n",
    "We apologize for any inconvenience this may have caused you. We strive to provide our customers with the best products and services, and we understand that consistency is key in maintaining customer satisfaction. We apologize for falling short of your expectations in this regard.\n",
    "\n",
    "If you have any further concerns or if there is anything else we can assist you with, please do not hesitate to reach out to our customer service team. They are available to address any issues you may have and provide you with the assistance you need.\n",
    "\n",
    "Once again, we apologize for any inconvenience caused and thank you for bringing this matter to our attention. We truly value your feedback as it helps us improve our products and services.\n",
    "\n",
    "Sincerely,\n",
    "AI customer agent"
   ]
  }
 ],
 "metadata": {
  "kernelspec": {
   "display_name": "Python 3 (ipykernel)",
   "language": "python",
   "name": "python3"
  },
  "language_info": {
   "codemirror_mode": {
    "name": "ipython",
    "version": 3
   },
   "file_extension": ".py",
   "mimetype": "text/x-python",
   "name": "python",
   "nbconvert_exporter": "python",
   "pygments_lexer": "ipython3",
   "version": "3.10.10"
  }
 },
 "nbformat": 4,
 "nbformat_minor": 5
}
