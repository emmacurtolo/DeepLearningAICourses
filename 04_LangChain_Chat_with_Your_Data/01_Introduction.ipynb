{
 "cells": [
  {
   "cell_type": "markdown",
   "id": "6b7c0ffe",
   "metadata": {},
   "source": [
    "# Introduction"
   ]
  },
  {
   "cell_type": "markdown",
   "id": "43873eb5",
   "metadata": {},
   "source": [
    "Hi, I'm excited to share with you this new course \n",
    "on using LangChain to chat with your data. This \n",
    "is built in collaboration with Harrison Chase, co-founder \n",
    "and CEO of LangChain. \n",
    "Large language models or LLMs such as ChatGPT \n",
    "can answer questions about a lot of topics, \n",
    "but an LLM in isolation knows only what it was trained on, \n",
    "which doesn't include your personal data, such \n",
    "as if you're in a company and have proprietary documents not on \n",
    "the internet, as well as data or articles that were written after \n",
    "the LLM was trained. \n",
    "\n",
    "So wouldn't it be useful if you or others such as your customers can \n",
    "have a conversation with your own documents and get \n",
    "questions answered using information from those \n",
    "documents and using an LLM? \n",
    "\n",
    "In this short course, we will cover how to use \n",
    "LangChain to chat with your data. LangChain is an open-source \n",
    "developer framework for building LLM applications. LangChain \n",
    "consists of several modular components as \n",
    "well as more end-to-end templates. The modular components \n",
    "in LangChain include prompts, models, indexes, chains, \n",
    "and agents. For a more detailed look at these \n",
    "components, you can see our first course that I \n",
    "taught with Andrew. \n",
    "\n",
    "In this course, we will zoom in and focus on one of the \n",
    "more popular use cases of LangChain, how to use LangChain \n",
    "to chat with your data. We will first cover how to \n",
    "use LangChain document loaders to load data from a \n",
    "variety of exciting sources. We will then touch on how \n",
    "to split these documents into semantically \n",
    "meaningful chunks. This pre-processing step may seem simple but \n",
    "has a lot of nuance. \n",
    "Next, we'll give an overview of semantic search, a \n",
    "basic method for fetching relevant information \n",
    "given a user question. This is the easiest method \n",
    "to get started with but there are several \n",
    "cases where it fails. We'll go over these cases and then we'll go over \n",
    "how to fix them. We'll then show how to use those retrieved documents to \n",
    "enable an LLM to answer questions about a document \n",
    "but show that you're still missing one key piece in order \n",
    "to fully recreate that chatbot experience. Finally, we'll cover \n",
    "that missing piece, memory, and show how to build a \n",
    "fully functioning chatbot through which you can chat \n",
    "with your data. \n",
    "\n",
    "This will be an exciting short course. We're grateful to Ankush Gola as well \n",
    "as Lance Martin from the LangChain team for working on all the \n",
    "materials that you hear Harrison present later, as \n",
    "well as on the deeplearning.ai side, Geoff Ladwig \n",
    "and Diala Ezzeddine. \n",
    "In case you're going through this course and decide you'd like \n",
    "a refresher on the basics of LangChain, I encourage you to also \n",
    "take that earlier short course on LangChain for LLM \n",
    "application development that Harrison had mentioned \n",
    "as well. But with that, let us now go on to \n",
    "the next video where Harrison will show you \n",
    "how to use LangChain's very convenient collection of document \n",
    "loaders. "
   ]
  },
  {
   "cell_type": "markdown",
   "id": "f7e21943",
   "metadata": {},
   "source": [
    "![Image](immagini/01_introduction.png)"
   ]
  },
  {
   "cell_type": "markdown",
   "id": "f0d86646",
   "metadata": {},
   "source": [
    "![Image](immagini/02_introduction.png)"
   ]
  },
  {
   "cell_type": "markdown",
   "id": "8811871c",
   "metadata": {},
   "source": [
    "![Image](immagini/03_introduction.png)"
   ]
  },
  {
   "cell_type": "markdown",
   "id": "b7bacfb5",
   "metadata": {},
   "source": [
    "![Image](immagini/04_introduction.png)"
   ]
  }
 ],
 "metadata": {
  "kernelspec": {
   "display_name": "Python 3 (ipykernel)",
   "language": "python",
   "name": "python3"
  },
  "language_info": {
   "codemirror_mode": {
    "name": "ipython",
    "version": 3
   },
   "file_extension": ".py",
   "mimetype": "text/x-python",
   "name": "python",
   "nbconvert_exporter": "python",
   "pygments_lexer": "ipython3",
   "version": "3.10.10"
  }
 },
 "nbformat": 4,
 "nbformat_minor": 5
}
