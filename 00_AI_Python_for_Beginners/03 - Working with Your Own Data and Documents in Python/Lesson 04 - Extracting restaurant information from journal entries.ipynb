{
 "cells": [
  {
   "cell_type": "markdown",
   "metadata": {},
   "source": [
    "# Lesson 4: Extracting restaurant information from journal entries\n",
    "\n",
    "In this lesson you'll use an LLM to extract specific information from a text file - in this case restaurant names and signature dishes.\n",
    "\n",
    "Start by importing some helper functions:"
   ]
  },
  {
   "cell_type": "code",
   "execution_count": 1,
   "metadata": {
    "height": 47
   },
   "outputs": [],
   "source": [
    "from helper_functions import *\n",
    "from IPython.display import display, HTML"
   ]
  },
  {
   "cell_type": "markdown",
   "metadata": {},
   "source": [
    "## Using AI to highlight important information"
   ]
  },
  {
   "cell_type": "markdown",
   "metadata": {},
   "source": [
    "Load the journal entry for Rio de Janeiro, stored in the `rio_de_janeiro.txt` file. \n",
    "* You'll use a new helper function called `read_journal`\n",
    "* Don't worry about how this works for now, you'll learn about it in a later lesson in this course"
   ]
  },
  {
   "cell_type": "code",
   "execution_count": 2,
   "metadata": {
    "height": 30
   },
   "outputs": [],
   "source": [
    "journal_rio_de_janeiro = read_journal(\"rio_de_janeiro.txt\")"
   ]
  },
  {
   "cell_type": "markdown",
   "metadata": {},
   "source": [
    "Next, write and print out a prompt that asks the LLM to highlight the restaurants and their best dishes in the journal entry:"
   ]
  },
  {
   "cell_type": "code",
   "execution_count": 3,
   "metadata": {
    "height": 217
   },
   "outputs": [
    {
     "name": "stdout",
     "output_type": "stream",
     "text": [
      "\n",
      "Given the following journal entry from a food critic, identify the restaurants and their best dishes.\n",
      "Highlight and bold each restaurant (in orange) and best dish (in blue) within the original text. \n",
      "\n",
      "Provide the output as HTML suitable for display in a Jupyter notebook. \n",
      "\n",
      "Journal entry:\n",
      "First up was Confeitaria Colombo, a legendary and picturesque café in central Rio. Known for its pastel de nata (custard tart), Colombo serves a delightful treat that is hard to beat. The crispy, flaky pastry filled with creamy, sweet custard was an excellent start to the day. The café's historic Belle Époque ambiance added an extra layer of charm.\n",
      "\n",
      "Next, I visited Fogo de Chão, a quintessential Brazilian steakhouse in Botafogo. Famous for its picanha (top sirloin), this churrascaria impressed with its perfectly grilled meat. The picanha was juicy, tender, and bursting with flavor, showcasing the high quality of Brazilian beef. The endless array of grilled meats served tableside made for a hearty and satisfying meal.\n",
      "\n",
      "For a more modern dining experience, I headed to Olympe in Lagoa. This Michelin-starred restaurant specializes in contemporary Brazilian cuisine. The highlight was their moqueca de caju (cashew nut stew). This rich and creamy stew, made from cashew nuts and complemented by fresh seafood and vegetables, was an exquisite dish in an elegant and refined setting.\n",
      "\n",
      "Finally, I concluded my culinary tour at Aprazível, renowned for its breathtaking views and farm-to-table approach. Their signature dish, galinhada (Brazilian chicken and rice), was outstanding. The tender and flavorful chicken, cooked with a mix of rice, vegetables, and spices, and served with farofa (toasted cassava flour), perfectly highlighted the fresh, locally sourced ingredients. The lush, garden-like setting of the restaurant provided a serene end to the culinary adventure.\n",
      "\n",
      "\n"
     ]
    }
   ],
   "source": [
    "prompt = f\"\"\"\n",
    "Given the following journal entry from a food critic, identify the restaurants and their best dishes.\n",
    "Highlight and bold each restaurant (in orange) and best dish (in blue) within the original text. \n",
    "\n",
    "Provide the output as HTML suitable for display in a Jupyter notebook. \n",
    "\n",
    "Journal entry:\n",
    "{journal_rio_de_janeiro}\n",
    "\"\"\"\n",
    "\n",
    "print(prompt)"
   ]
  },
  {
   "cell_type": "markdown",
   "metadata": {},
   "source": [
    "Pass this prompt to an LLM and store the response in a variable called `html_response`. Then print the result:"
   ]
  },
  {
   "cell_type": "code",
   "execution_count": 4,
   "metadata": {
    "height": 47
   },
   "outputs": [
    {
     "name": "stdout",
     "output_type": "stream",
     "text": [
      "```html\n",
      "<p>First up was <span style=\"color: orange; font-weight: bold;\">Confeitaria Colombo</span>, a legendary and picturesque café in central Rio. Known for its <span style=\"color: blue; font-weight: bold;\">pastel de nata</span> (custard tart), Colombo serves a delightful treat that is hard to beat. The crispy, flaky pastry filled with creamy, sweet custard was an excellent start to the day. The café's historic Belle Époque ambiance added an extra layer of charm.</p>\n",
      "\n",
      "<p>Next, I visited <span style=\"color: orange; font-weight: bold;\">Fogo de Chão</span>, a quintessential Brazilian steakhouse in Botafogo. Famous for its <span style=\"color: blue; font-weight: bold;\">picanha</span> (top sirloin), this churrascaria impressed with its perfectly grilled meat. The picanha was juicy, tender, and bursting with flavor, showcasing the high quality of Brazilian beef. The endless array of grilled meats served tableside made for a hearty and satisfying meal.</p>\n",
      "\n",
      "<p>For a more modern dining experience, I headed to <span style=\"color: orange; font-weight: bold;\">Olympe</span> in Lagoa. This Michelin-starred restaurant specializes in contemporary Brazilian cuisine. The highlight was their <span style=\"color: blue; font-weight: bold;\">moqueca de caju</span> (cashew nut stew). This rich and creamy stew, made from cashew nuts and complemented by fresh seafood and vegetables, was an exquisite dish in an elegant and refined setting.</p>\n",
      "\n",
      "<p>Finally, I concluded my culinary tour at <span style=\"color: orange; font-weight: bold;\">Aprazível</span>, renowned for its breathtaking views and farm-to-table approach. Their signature dish, <span style=\"color: blue; font-weight: bold;\">galinhada</span> (Brazilian chicken and rice), was outstanding. The tender and flavorful chicken, cooked with a mix of rice, vegetables, and spices, and served with farofa (toasted cassava flour), perfectly highlighted the fresh, locally sourced ingredients. The lush, garden-like setting of the restaurant provided a serene end to the culinary adventure.</p>\n",
      "```\n"
     ]
    }
   ],
   "source": [
    "html_response = get_llm_response(prompt)\n",
    "print(html_response)"
   ]
  },
  {
   "cell_type": "markdown",
   "metadata": {},
   "source": [
    "The 'print' function here displays the raw text - including all of the HTML tags that a web browser uses to display the text with proper formatting. \n",
    "* Use display and HTML to display the HTML formatted output properly in the Jupyter notebook:"
   ]
  },
  {
   "cell_type": "code",
   "execution_count": 5,
   "metadata": {
    "height": 30
   },
   "outputs": [
    {
     "data": {
      "text/html": [
       "```html\n",
       "<p>First up was <span style=\"color: orange; font-weight: bold;\">Confeitaria Colombo</span>, a legendary and picturesque café in central Rio. Known for its <span style=\"color: blue; font-weight: bold;\">pastel de nata</span> (custard tart), Colombo serves a delightful treat that is hard to beat. The crispy, flaky pastry filled with creamy, sweet custard was an excellent start to the day. The café's historic Belle Époque ambiance added an extra layer of charm.</p>\n",
       "\n",
       "<p>Next, I visited <span style=\"color: orange; font-weight: bold;\">Fogo de Chão</span>, a quintessential Brazilian steakhouse in Botafogo. Famous for its <span style=\"color: blue; font-weight: bold;\">picanha</span> (top sirloin), this churrascaria impressed with its perfectly grilled meat. The picanha was juicy, tender, and bursting with flavor, showcasing the high quality of Brazilian beef. The endless array of grilled meats served tableside made for a hearty and satisfying meal.</p>\n",
       "\n",
       "<p>For a more modern dining experience, I headed to <span style=\"color: orange; font-weight: bold;\">Olympe</span> in Lagoa. This Michelin-starred restaurant specializes in contemporary Brazilian cuisine. The highlight was their <span style=\"color: blue; font-weight: bold;\">moqueca de caju</span> (cashew nut stew). This rich and creamy stew, made from cashew nuts and complemented by fresh seafood and vegetables, was an exquisite dish in an elegant and refined setting.</p>\n",
       "\n",
       "<p>Finally, I concluded my culinary tour at <span style=\"color: orange; font-weight: bold;\">Aprazível</span>, renowned for its breathtaking views and farm-to-table approach. Their signature dish, <span style=\"color: blue; font-weight: bold;\">galinhada</span> (Brazilian chicken and rice), was outstanding. The tender and flavorful chicken, cooked with a mix of rice, vegetables, and spices, and served with farofa (toasted cassava flour), perfectly highlighted the fresh, locally sourced ingredients. The lush, garden-like setting of the restaurant provided a serene end to the culinary adventure.</p>\n",
       "```"
      ],
      "text/plain": [
       "<IPython.core.display.HTML object>"
      ]
     },
     "metadata": {},
     "output_type": "display_data"
    }
   ],
   "source": [
    "display(HTML(html_response))"
   ]
  },
  {
   "cell_type": "markdown",
   "metadata": {},
   "source": [
    "Try the same steps with the Tokyo journal entry:"
   ]
  },
  {
   "cell_type": "code",
   "execution_count": 6,
   "metadata": {
    "height": 268
   },
   "outputs": [
    {
     "data": {
      "text/html": [
       "```html\n",
       "<p>Tokyo's culinary landscape is nothing short of extraordinary. Each spot offers a unique taste of the city's diverse food culture. Here's a quick guide to some must-try places and dishes.</p>\n",
       "\n",
       "<ul>\n",
       "    <li><span style=\"color: orange; font-weight: bold;\">Sukiyabashi Jiro</span>\n",
       "        <ul>\n",
       "            <li>Location: Ginza</li>\n",
       "            <li>Dish: <span style=\"color: blue; font-weight: bold;\">Omakase sushi</span></li>\n",
       "            <li>Highlight: Impeccably crafted sushi made by the legendary Jiro Ono. Each piece is a masterclass in balance and flavor.</li>\n",
       "        </ul>\n",
       "    </li>\n",
       "    \n",
       "    <li><span style=\"color: orange; font-weight: bold;\">Ichiran Ramen</span>\n",
       "        <ul>\n",
       "            <li>Location: Shibuya</li>\n",
       "            <li>Dish: <span style=\"color: blue; font-weight: bold;\">Tonkotsu ramen</span></li>\n",
       "            <li>Highlight: A personal ramen booth for focused, uninterrupted enjoyment. Rich, creamy broth with perfectly cooked noodles.</li>\n",
       "        </ul>\n",
       "    </li>\n",
       "    \n",
       "    <li><span style=\"color: orange; font-weight: bold;\">Tsukiji Outer Market</span>\n",
       "        <ul>\n",
       "            <li>Location: Tsukiji</li>\n",
       "            <li>Dish: <span style=\"color: blue; font-weight: bold;\">Fresh sashimi and street food</span></li>\n",
       "            <li>Highlight: Vibrant market atmosphere. Indulge in ultra-fresh sashimi, grilled seafood, and other Japanese street food delights.</li>\n",
       "        </ul>\n",
       "    </li>\n",
       "    \n",
       "    <li><span style=\"color: orange; font-weight: bold;\">Narisawa</span>\n",
       "        <ul>\n",
       "            <li>Location: Minato</li>\n",
       "            <li>Dish: <span style=\"color: blue; font-weight: bold;\">Innovative tasting menu</span></li>\n",
       "            <li>Highlight: A fusion of French and Japanese techniques. Creative dishes with an emphasis on sustainability and local ingredients.</li>\n",
       "        </ul>\n",
       "    </li>\n",
       "    \n",
       "    <li><span style=\"color: orange; font-weight: bold;\">Ginza Kojyu</span>\n",
       "        <ul>\n",
       "            <li>Location: Ginza</li>\n",
       "            <li>Dish: <span style=\"color: blue; font-weight: bold;\">Kaiseki (traditional multi-course meal)</span></li>\n",
       "            <li>Highlight: Exquisite presentation and meticulous preparation. A journey through seasonal Japanese flavors.</li>\n",
       "        </ul>\n",
       "    </li>\n",
       "    \n",
       "    <li><span style=\"color: orange; font-weight: bold;\">Akasaka Kikunoi</span>\n",
       "        <ul>\n",
       "            <li>Location: Akasaka</li>\n",
       "            <li>Dish: <span style=\"color: blue; font-weight: bold;\">Kaiseki</span></li>\n",
       "            <li>Highlight: Elegant and serene setting. Seasonal ingredients transformed into artful, delicious courses.</li>\n",
       "        </ul>\n",
       "    </li>\n",
       "</ul>\n",
       "```"
      ],
      "text/plain": [
       "<IPython.core.display.HTML object>"
      ]
     },
     "metadata": {},
     "output_type": "display_data"
    }
   ],
   "source": [
    "journal_tokyo = read_journal(\"tokyo.txt\") \n",
    "\n",
    "prompt = f\"\"\"\n",
    "Given the following journal entry from a food critic, identify the restaurants and their best dishes.\n",
    "Highlight and bold each restaurant (in orange) and best dish (in blue) within the original text. \n",
    "\n",
    "Provide the output as HTML suitable for display in a Jupyter notebook. \n",
    "\n",
    "Journal entry:\n",
    "{journal_tokyo}\n",
    "\"\"\"\n",
    "\n",
    "html_response = get_llm_response(prompt)\n",
    "display(HTML(html_response))"
   ]
  },
  {
   "cell_type": "markdown",
   "metadata": {},
   "source": [
    "Notice that even though the structure of this text is very different from the previous one, the LLM is able to identify and highlight the correct items."
   ]
  },
  {
   "cell_type": "markdown",
   "metadata": {},
   "source": [
    "## Try for yourself!\n",
    "\n",
    "If you like, pause the video here and try modifying the prompt above to do other things, for example:\n",
    "- Have the LLM highlight any desserts in green\n",
    "- Have the LLM add a relevant emoji beside any ingredients"
   ]
  },
  {
   "cell_type": "markdown",
   "metadata": {},
   "source": [
    "## Extracting restaurants and their best dishes"
   ]
  },
  {
   "cell_type": "markdown",
   "metadata": {},
   "source": [
    "Next, you'll modify the prompt to extract the information from the text and list it out, instead of highlighting it.\n",
    "\n",
    "Here is the modified prompt with the new instructions to save the data in CSV, or **Comma Separated Value** format:"
   ]
  },
  {
   "cell_type": "code",
   "execution_count": 7,
   "metadata": {
    "height": 336
   },
   "outputs": [
    {
     "name": "stdout",
     "output_type": "stream",
     "text": [
      "Restaurant,Dish  \n",
      "Confeitaria Colombo,pastel de nata  \n",
      "Fogo de Chão,picanha  \n",
      "Olympe,moqueca de caju  \n",
      "Aprazível,galinhada  \n"
     ]
    }
   ],
   "source": [
    "prompt = f\"\"\"Please extract a comprehensive list of the restaurants \n",
    "and their respective best dishes mentioned in the following journal entry. \n",
    "Ensure that each restaurant name is accurately identified and listed. \n",
    "\n",
    "Provide your answer in CSV format, ready to save. \n",
    "Exclude the \"```csv\" declaration, don't add spaces after the comma, include column headers.\n",
    "\n",
    "Format:\n",
    "Restaurant, Dish\n",
    "Res_1, Dsh_1\n",
    "...\n",
    "\n",
    "Journal entry:\n",
    "{journal_rio_de_janeiro}\n",
    "\"\"\"\n",
    "\n",
    "restaurants_csv_ready_string = get_llm_response(prompt)\n",
    "\n",
    "print(restaurants_csv_ready_string)"
   ]
  },
  {
   "cell_type": "markdown",
   "metadata": {},
   "source": [
    "Notice how the output now only contains the restaurants and names of dishes. \n",
    "\n",
    "The first line indicates what information each row contains, in this case the name of the restaurant, then a comma, then the name of the dish."
   ]
  },
  {
   "cell_type": "markdown",
   "metadata": {},
   "source": [
    "## Looping through multiple journals"
   ]
  },
  {
   "cell_type": "markdown",
   "metadata": {},
   "source": [
    "In this section, you'll iterate through all the journal entries using a `for` loop and extract the restaurants and best dishes from each file:"
   ]
  },
  {
   "cell_type": "code",
   "execution_count": 8,
   "metadata": {
    "height": 506
   },
   "outputs": [
    {
     "name": "stdout",
     "output_type": "stream",
     "text": [
      "cape_town.txt\n",
      "Restaurant,Dish  \n",
      "The Test Kitchen,Pickled Fish Tacos  \n",
      "La Colombe,Tuna La Colombe  \n",
      "Harbour House,Grilled Kingklip  \n",
      "The Pot Luck Club,Beef Tataki  \n",
      "\n",
      "istanbul.txt\n",
      "Restaurant,Dish\n",
      "Çiya Sofrası,Kuzu Tandir\n",
      "Karaköy Lokantası,Midye Dolma\n",
      "Asitane,Mutancana\n",
      "Mikla,Lamb Rump\n",
      "\n",
      "new_york.txt\n",
      "Restaurant, Dish\n",
      "Katz's Delicatessen, pastrami on rye\n",
      "Peter Luger Steak House, porterhouse steak\n",
      "Lobster Place, lobster rolls\n",
      "Gramercy Tavern, roasted chicken with seasonal vegetables\n",
      "\n",
      "paris.txt\n",
      "Restaurant,Dish  \n",
      "Le Comptoir du Relais,Coq au Vin  \n",
      "Le Jules Verne,Filet de Boeuf  \n",
      "Pierre Hermé,Ispahan  \n",
      "L'Ambroisie,Turbot with Artichokes and Truffle  \n",
      "\n",
      "rio_de_janeiro.txt\n",
      "Restaurant,Dish  \n",
      "Confeitaria Colombo,pastel de nata  \n",
      "Fogo de Chão,picanha  \n",
      "Olympe,moqueca de caju  \n",
      "Aprazível,galinhada  \n",
      "\n",
      "sydney.txt\n",
      "Restaurant, Dish\n",
      "Saint Peter, Murray Cod\n",
      "Billy Kwong, Crispy Skin Duck with Davidson’s Plum Sauce\n",
      "The Lord Nelson Brewery Hotel, Roast Lamb\n",
      "Vic's Meat Market, BBQ Beef Brisket\n",
      "Bennelong, Sydney Rock Oysters\n",
      "\n",
      "tokyo.txt\n",
      "Restaurant,Dish\n",
      "Sukiyabashi Jiro,Omakase sushi\n",
      "Ichiran Ramen,Tonkotsu ramen\n",
      "Tsukiji Outer Market,Fresh sashimi and street food\n",
      "Narisawa,Innovative tasting menu\n",
      "Ginza Kojyu,Kaiseki (traditional multi-course meal)\n",
      "Akasaka Kikunoi,Kaiseki\n",
      "\n"
     ]
    }
   ],
   "source": [
    "files = [\"cape_town.txt\", \"istanbul.txt\", \"new_york.txt\", \"paris.txt\", \n",
    "          \"rio_de_janeiro.txt\", \"sydney.txt\", \"tokyo.txt\"]\n",
    "\n",
    "for file in files:\n",
    "    #Open file and read contents\n",
    "    journal_entry = read_journal(file)\n",
    "\n",
    "    #Extract restaurants and display csv\n",
    "    prompt =  f\"\"\"Please extract a comprehensive list of the restaurants \n",
    "    and their respective best dishes mentioned in the following journal entry. \n",
    "    \n",
    "    Ensure that each restaurant name is accurately identified and listed. \n",
    "    Provide your answer in CSV format, ready to save.\n",
    "\n",
    "    Exclude the \"```csv\" declaration, don't add spaces after the \n",
    "    comma, include column headers.\n",
    "\n",
    "    Format:\n",
    "    Restaurant, Dish\n",
    "    Res_1, Dsh_1\n",
    "    ...\n",
    "\n",
    "    Journal entry:\n",
    "    {journal_entry}\n",
    "    \"\"\"\n",
    "    \n",
    "    print(file)\n",
    "    print_llm_response(prompt)\n",
    "    print(\"\") # Prints a blank line!"
   ]
  },
  {
   "cell_type": "markdown",
   "metadata": {},
   "source": [
    "## Try for yourself! \n",
    "Try modifying the prompt inside the `for` loop above to extract different information. For example\n",
    "* Extract the restaurant name and the neighborhood it is located in\n",
    "* Extract each dish and it's main ingredient"
   ]
  },
  {
   "cell_type": "markdown",
   "metadata": {},
   "source": [
    "## Writing Files"
   ]
  },
  {
   "cell_type": "markdown",
   "metadata": {},
   "source": [
    "Here, you will learn how you can save files with the data you have created using Python and LLM.\n",
    "\n",
    "As a reminder, print the html_response variable to see it's contents:"
   ]
  },
  {
   "cell_type": "code",
   "execution_count": 9,
   "metadata": {
    "height": 30
   },
   "outputs": [
    {
     "data": {
      "text/html": [
       "```html\n",
       "<p>Tokyo's culinary landscape is nothing short of extraordinary. Each spot offers a unique taste of the city's diverse food culture. Here's a quick guide to some must-try places and dishes.</p>\n",
       "\n",
       "<ul>\n",
       "    <li><span style=\"color: orange; font-weight: bold;\">Sukiyabashi Jiro</span>\n",
       "        <ul>\n",
       "            <li>Location: Ginza</li>\n",
       "            <li>Dish: <span style=\"color: blue; font-weight: bold;\">Omakase sushi</span></li>\n",
       "            <li>Highlight: Impeccably crafted sushi made by the legendary Jiro Ono. Each piece is a masterclass in balance and flavor.</li>\n",
       "        </ul>\n",
       "    </li>\n",
       "    \n",
       "    <li><span style=\"color: orange; font-weight: bold;\">Ichiran Ramen</span>\n",
       "        <ul>\n",
       "            <li>Location: Shibuya</li>\n",
       "            <li>Dish: <span style=\"color: blue; font-weight: bold;\">Tonkotsu ramen</span></li>\n",
       "            <li>Highlight: A personal ramen booth for focused, uninterrupted enjoyment. Rich, creamy broth with perfectly cooked noodles.</li>\n",
       "        </ul>\n",
       "    </li>\n",
       "    \n",
       "    <li><span style=\"color: orange; font-weight: bold;\">Tsukiji Outer Market</span>\n",
       "        <ul>\n",
       "            <li>Location: Tsukiji</li>\n",
       "            <li>Dish: <span style=\"color: blue; font-weight: bold;\">Fresh sashimi and street food</span></li>\n",
       "            <li>Highlight: Vibrant market atmosphere. Indulge in ultra-fresh sashimi, grilled seafood, and other Japanese street food delights.</li>\n",
       "        </ul>\n",
       "    </li>\n",
       "    \n",
       "    <li><span style=\"color: orange; font-weight: bold;\">Narisawa</span>\n",
       "        <ul>\n",
       "            <li>Location: Minato</li>\n",
       "            <li>Dish: <span style=\"color: blue; font-weight: bold;\">Innovative tasting menu</span></li>\n",
       "            <li>Highlight: A fusion of French and Japanese techniques. Creative dishes with an emphasis on sustainability and local ingredients.</li>\n",
       "        </ul>\n",
       "    </li>\n",
       "    \n",
       "    <li><span style=\"color: orange; font-weight: bold;\">Ginza Kojyu</span>\n",
       "        <ul>\n",
       "            <li>Location: Ginza</li>\n",
       "            <li>Dish: <span style=\"color: blue; font-weight: bold;\">Kaiseki (traditional multi-course meal)</span></li>\n",
       "            <li>Highlight: Exquisite presentation and meticulous preparation. A journey through seasonal Japanese flavors.</li>\n",
       "        </ul>\n",
       "    </li>\n",
       "    \n",
       "    <li><span style=\"color: orange; font-weight: bold;\">Akasaka Kikunoi</span>\n",
       "        <ul>\n",
       "            <li>Location: Akasaka</li>\n",
       "            <li>Dish: <span style=\"color: blue; font-weight: bold;\">Kaiseki</span></li>\n",
       "            <li>Highlight: Elegant and serene setting. Seasonal ingredients transformed into artful, delicious courses.</li>\n",
       "        </ul>\n",
       "    </li>\n",
       "</ul>\n",
       "```"
      ],
      "text/plain": [
       "<IPython.core.display.HTML object>"
      ]
     },
     "metadata": {},
     "output_type": "display_data"
    }
   ],
   "source": [
    "display(HTML(html_response))"
   ]
  },
  {
   "cell_type": "markdown",
   "metadata": {},
   "source": [
    "Next, save the data in html_response to a file:"
   ]
  },
  {
   "cell_type": "code",
   "execution_count": 10,
   "metadata": {
    "height": 64
   },
   "outputs": [],
   "source": [
    "f = open(\"highlighted_text.html\", 'w') \n",
    "f.write(html_response) \n",
    "f.close()"
   ]
  },
  {
   "cell_type": "markdown",
   "metadata": {},
   "source": [
    "Note that you use `'w'` instead of `'r'` and `f.write` instead of `f.read` here, in contrast to when you read in a file."
   ]
  },
  {
   "attachments": {
    "image.png": {
     "image/png": "[encoded data removed]"
    }
   },
   "cell_type": "markdown",
   "metadata": {},
   "source": [
    "![image.png](attachment:image.png)"
   ]
  },
  {
   "cell_type": "markdown",
   "metadata": {},
   "source": [
    "<p style=\"background-color:#F5C780; padding:15px\"> 🤖 <b>Use the Chatbot</b>:\n",
    "    <br><br>\n",
    "    Explain this code line by line:\n",
    "    <br><br>f = open(\"highlighted_text.html\", 'w')\n",
    "    <br>f.write(html_response)\n",
    "    <br>f.close()\n",
    "</p>"
   ]
  },
  {
   "cell_type": "markdown",
   "metadata": {},
   "source": [
    "You can use the following button to download the file you just wrote above.\n",
    "* Make sure to provide the right file name: 'highlighted_text.html' when asked!"
   ]
  },
  {
   "cell_type": "code",
   "execution_count": 11,
   "metadata": {
    "height": 30
   },
   "outputs": [
    {
     "data": {
      "application/vnd.jupyter.widget-view+json": {
       "model_id": "227b5fae420c4c7ab136a785cd6e446a",
       "version_major": 2,
       "version_minor": 0
      },
      "text/plain": [
       "HBox(children=(Text(value='', description='File:', placeholder='Enter file name'), Button(description='Downloa…"
      ]
     },
     "metadata": {},
     "output_type": "display_data"
    },
    {
     "data": {
      "application/vnd.jupyter.widget-view+json": {
       "model_id": "88dc49c3dac5424191aeff7aa9182174",
       "version_major": 2,
       "version_minor": 0
      },
      "text/plain": [
       "Output()"
      ]
     },
     "metadata": {},
     "output_type": "display_data"
    }
   ],
   "source": [
    "download_file()"
   ]
  },
  {
   "cell_type": "markdown",
   "metadata": {},
   "source": [
    "## Extra practice\n",
    "\n",
    "### Exercise 1\n",
    "\n",
    "Modify the prompt below to create an HTML file that highlights all the **restaurant names in green** and the **neighborhoods in pink** in the Sydney journal entry."
   ]
  },
  {
   "cell_type": "code",
   "execution_count": 15,
   "metadata": {
    "height": 285
   },
   "outputs": [
    {
     "data": {
      "text/html": [
       "```html\n",
       "<!DOCTYPE html>\n",
       "<html lang=\"en\">\n",
       "<head>\n",
       "    <meta charset=\"UTF-8\">\n",
       "    <meta name=\"viewport\" content=\"width=device-width, initial-scale=1.0\">\n",
       "    <title>Food Critic Journal Entry</title>\n",
       "    <style>\n",
       "        .restaurant { color: green; font-weight: bold; }\n",
       "        .neighborhood { color: pink; }\n",
       "    </style>\n",
       "</head>\n",
       "<body>\n",
       "    <h1>Tokyo's Culinary Landscape</h1>\n",
       "    <p>Tokyo's culinary landscape is nothing short of extraordinary. Each spot offers a unique taste of the city's diverse food culture. Here's a quick guide to some must-try places and dishes.</p>\n",
       "\n",
       "    <ul>\n",
       "        <li>\n",
       "            <span class=\"restaurant\">Sukiyabashi Jiro</span><br>\n",
       "            Location: <span class=\"neighborhood\">Ginza</span><br>\n",
       "            Dish: Omakase sushi<br>\n",
       "            Highlight: Impeccably crafted sushi made by the legendary Jiro Ono. Each piece is a masterclass in balance and flavor.\n",
       "        </li>\n",
       "        <li>\n",
       "            <span class=\"restaurant\">Ichiran Ramen</span><br>\n",
       "            Location: <span class=\"neighborhood\">Shibuya</span><br>\n",
       "            Dish: Tonkotsu ramen<br>\n",
       "            Highlight: A personal ramen booth for focused, uninterrupted enjoyment. Rich, creamy broth with perfectly cooked noodles.\n",
       "        </li>\n",
       "        <li>\n",
       "            <span class=\"restaurant\">Tsukiji Outer Market</span><br>\n",
       "            Location: <span class=\"neighborhood\">Tsukiji</span><br>\n",
       "            Dish: Fresh sashimi and street food<br>\n",
       "            Highlight: Vibrant market atmosphere. Indulge in ultra-fresh sashimi, grilled seafood, and other Japanese street food delights.\n",
       "        </li>\n",
       "        <li>\n",
       "            <span class=\"restaurant\">Narisawa</span><br>\n",
       "            Location: <span class=\"neighborhood\">Minato</span><br>\n",
       "            Dish: Innovative tasting menu<br>\n",
       "            Highlight: A fusion of French and Japanese techniques. Creative dishes with an emphasis on sustainability and local ingredients.\n",
       "        </li>\n",
       "        <li>\n",
       "            <span class=\"restaurant\">Ginza Kojyu</span><br>\n",
       "            Location: <span class=\"neighborhood\">Ginza</span><br>\n",
       "            Dish: Kaiseki (traditional multi-course meal)<br>\n",
       "            Highlight: Exquisite presentation and meticulous preparation. A journey through seasonal Japanese flavors.\n",
       "        </li>\n",
       "        <li>\n",
       "            <span class=\"restaurant\">Akasaka Kikunoi</span><br>\n",
       "            Location: <span class=\"neighborhood\">Akasaka</span><br>\n",
       "            Dish: Kaiseki<br>\n",
       "            Highlight: Elegant and serene setting. Seasonal ingredients transformed into artful, delicious courses.\n",
       "        </li>\n",
       "    </ul>\n",
       "</body>\n",
       "</html>\n",
       "```"
      ],
      "text/plain": [
       "<IPython.core.display.HTML object>"
      ]
     },
     "metadata": {},
     "output_type": "display_data"
    }
   ],
   "source": [
    "journal_sydney = read_journal(\"sydney.txt\") \n",
    "\n",
    "# Modify the prompt below\n",
    "prompt = f\"\"\"\n",
    "Given the following journal entry from a food critic, identify the \n",
    "restaurants and their best dishes. Highlight and bold each restaurant \n",
    "(in green) and neighborhoods (in pink) within the original text. \n",
    "\n",
    "Provide the output as HTML suitable for display in a Jupyter notebook. \n",
    "\n",
    "Journal entry:\n",
    "{journal_tokyo}\n",
    "\"\"\"\n",
    "\n",
    "html_sydney = get_llm_response(prompt)\n",
    "display(HTML(html_sydney))"
   ]
  },
  {
   "cell_type": "markdown",
   "metadata": {},
   "source": [
    "### Exercise 2\n",
    "\n",
    "Modify the code below to save the output of the LLM to an HTML file. The file should be called `highlighted_sydney.html`."
   ]
  },
  {
   "cell_type": "code",
   "execution_count": 17,
   "metadata": {
    "height": 81
   },
   "outputs": [],
   "source": [
    "f = open(\"highlighted_sydney.html\", 'w') \n",
    "\n",
    "f.write(html_sydney) \n",
    "f.close()"
   ]
  },
  {
   "cell_type": "markdown",
   "metadata": {},
   "source": [
    "You can then download the file, if you'd like!"
   ]
  },
  {
   "cell_type": "code",
   "execution_count": 18,
   "metadata": {
    "height": 30
   },
   "outputs": [
    {
     "data": {
      "application/vnd.jupyter.widget-view+json": {
       "model_id": "30fea28cf35a45aca15579e140ab530e",
       "version_major": 2,
       "version_minor": 0
      },
      "text/plain": [
       "HBox(children=(Text(value='', description='File:', placeholder='Enter file name'), Button(description='Downloa…"
      ]
     },
     "metadata": {},
     "output_type": "display_data"
    },
    {
     "data": {
      "application/vnd.jupyter.widget-view+json": {
       "model_id": "e4b28f13530340d38181922c9fd9a123",
       "version_major": 2,
       "version_minor": 0
      },
      "text/plain": [
       "Output()"
      ]
     },
     "metadata": {},
     "output_type": "display_data"
    }
   ],
   "source": [
    "download_file()"
   ]
  }
 ],
 "metadata": {
  "kernelspec": {
   "display_name": "Python 3 (ipykernel)",
   "language": "python",
   "name": "python3"
  },
  "language_info": {
   "codemirror_mode": {
    "name": "ipython",
    "version": 3
   },
   "file_extension": ".py",
   "mimetype": "text/x-python",
   "name": "python",
   "nbconvert_exporter": "python",
   "pygments_lexer": "ipython3",
   "version": "3.9.19"
  }
 },
 "nbformat": 4,
 "nbformat_minor": 2
}
