{
 "cells": [
  {
   "cell_type": "markdown",
   "id": "4d34e74c",
   "metadata": {},
   "source": [
    "# L2: Evaluate Inputs: Classification"
   ]
  },
  {
   "cell_type": "markdown",
   "id": "538533cd",
   "metadata": {},
   "source": [
    "## Setup\n",
    "#### Load the API key and relevant Python libaries.\n",
    "In this course, we've provided some code that loads the OpenAI API key for you."
   ]
  },
  {
   "cell_type": "code",
   "execution_count": null,
   "id": "13c15af5",
   "metadata": {},
   "outputs": [],
   "source": [
    "import os\n",
    "import openai\n",
    "from dotenv import load_dotenv, find_dotenv\n",
    "_ = load_dotenv(find_dotenv()) # read local .env file\n",
    "\n",
    "openai.api_key  = os.environ['OPENAI_API_KEY']"
   ]
  },
  {
   "cell_type": "code",
   "execution_count": null,
   "id": "cf2904ba",
   "metadata": {},
   "outputs": [],
   "source": [
    "def get_completion_from_messages(messages, \n",
    "                                 model=\"gpt-3.5-turbo\", \n",
    "                                 temperature=0, \n",
    "                                 max_tokens=500):\n",
    "    response = openai.ChatCompletion.create(\n",
    "        model=model,\n",
    "        messages=messages,\n",
    "        temperature=temperature, \n",
    "        max_tokens=max_tokens,\n",
    "    )\n",
    "    return response.choices[0].message[\"content\"]"
   ]
  },
  {
   "cell_type": "markdown",
   "id": "be22d935",
   "metadata": {},
   "source": [
    "For tasks in which lots of independent sets \n",
    "of instructions are needed to handle different cases, \n",
    "it can be beneficial to first **classify the type of query**, \n",
    "and then use that classification to **determine which instructions to use**. \n",
    "\n",
    "This can be achieved by defining fixed categories and hard-coding \n",
    "instructions that are relevant for handling tasks in \n",
    "a given category.\n",
    "\n",
    "For instance, when building a customer service assistant, \n",
    "it might be important to first classify the type of query, \n",
    "and then determine which instructions to use based on \n",
    "that classification. "
   ]
  },
  {
   "cell_type": "markdown",
   "id": "c9f78f63",
   "metadata": {},
   "source": [
    "#### Classify customer queries to handle different cases"
   ]
  },
  {
   "cell_type": "markdown",
   "id": "748ebf54",
   "metadata": {},
   "source": [
    "A **DELIMITER** is just a way to separate different parts of \n",
    "an instruction or output, and it helps the model kind \n",
    "of determine the different sections. And so for this example, we'll \n",
    "use the delimiter 4 hashtags. And this is a nice \n",
    "delimiter because it's actually <u>represented as one token.</u>\n",
    "\n",
    " "
   ]
  },
  {
   "cell_type": "code",
   "execution_count": null,
   "id": "d0a7e7b2",
   "metadata": {},
   "outputs": [],
   "source": [
    "delimiter = \"####\"\n",
    "system_message = f\"\"\"\n",
    "You will be provided with customer service queries. \\\n",
    "The customer service query will be delimited with \\\n",
    "{delimiter} characters.\n",
    "Classify each query into a primary category \\\n",
    "and a secondary category. \n",
    "Provide your output in json format with the \\\n",
    "keys: primary and secondary.\n",
    "\n",
    "Primary categories: Billing, Technical Support, \\\n",
    "Account Management, or General Inquiry.\n",
    "\n",
    "Billing secondary categories:\n",
    "Unsubscribe or upgrade\n",
    "Add a payment method\n",
    "Explanation for charge\n",
    "Dispute a charge\n",
    "\n",
    "Technical Support secondary categories:\n",
    "General troubleshooting\n",
    "Device compatibility\n",
    "Software updates\n",
    "\n",
    "Account Management secondary categories:\n",
    "Password reset\n",
    "Update personal information\n",
    "Close account\n",
    "Account security\n",
    "\n",
    "General Inquiry secondary categories:\n",
    "Product information\n",
    "Pricing\n",
    "Feedback\n",
    "Speak to a human\n",
    "\n",
    "\"\"\"\n",
    "user_message = f\"\"\"\\\n",
    "I want you to delete my profile and all of my user data\"\"\"\n",
    "messages =  [  \n",
    "{'role':'system', \n",
    " 'content': system_message},    \n",
    "{'role':'user', \n",
    " 'content': f\"{delimiter}{user_message}{delimiter}\"},  \n",
    "] # we'll just format this into a messages list with the system message and the user message delimited with these hashtags. \n",
    "response = get_completion_from_messages(messages)\n",
    "print(response)"
   ]
  },
  {
   "cell_type": "markdown",
   "id": "dbcc409b",
   "metadata": {},
   "source": [
    "*OUTPUT*\n",
    "```json\n",
    "{\n",
    "  \"primary\": \"Account Management\",\n",
    "  \"secondary\": \"Close account\"\n",
    "}\n",
    "```"
   ]
  },
  {
   "cell_type": "markdown",
   "id": "d1a3dbd0",
   "metadata": {},
   "source": [
    "The nice thing about asking for a \n",
    "structured output like a JSON is that you can then read this \n",
    "easily into some kind of object, so a dictionary for example in Python, \n",
    "or something else if you're using a different language, and \n",
    "then you can use this as the input to a subsequent step. "
   ]
  },
  {
   "cell_type": "code",
   "execution_count": null,
   "id": "2ebdb137",
   "metadata": {},
   "outputs": [],
   "source": [
    "user_message = f\"\"\"\\\n",
    "Tell me more about your flat screen tvs\"\"\"\n",
    "messages =  [  \n",
    "{'role':'system', \n",
    " 'content': system_message},    \n",
    "{'role':'user', \n",
    " 'content': f\"{delimiter}{user_message}{delimiter}\"},  \n",
    "] \n",
    "response = get_completion_from_messages(messages)\n",
    "print(response)"
   ]
  },
  {
   "cell_type": "markdown",
   "id": "8e910eef",
   "metadata": {},
   "source": [
    "*OUTPUT*\n",
    "```json\n",
    "{\n",
    "  \"primary\": \"General Inquiry\",\n",
    "  \"secondary\": \"Product information\"\n",
    "}\n",
    "```"
   ]
  },
  {
   "cell_type": "markdown",
   "id": "1bd2d275",
   "metadata": {},
   "source": [
    "In general, based on the categorization \n",
    "of the customer inquiry, we can now provide a set of more specific \n",
    "instructions to handle the next steps."
   ]
  }
 ],
 "metadata": {
  "kernelspec": {
   "display_name": "Python 3 (ipykernel)",
   "language": "python",
   "name": "python3"
  },
  "language_info": {
   "codemirror_mode": {
    "name": "ipython",
    "version": 3
   },
   "file_extension": ".py",
   "mimetype": "text/x-python",
   "name": "python",
   "nbconvert_exporter": "python",
   "pygments_lexer": "ipython3",
   "version": "3.10.10"
  }
 },
 "nbformat": 4,
 "nbformat_minor": 5
}
