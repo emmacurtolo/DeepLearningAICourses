{
 "cells": [
  {
   "cell_type": "markdown",
   "id": "dab69bb0",
   "metadata": {},
   "source": [
    "# L4: Process Inputs: Chain of Thought Reasoning"
   ]
  },
  {
   "cell_type": "markdown",
   "id": "c85845f3",
   "metadata": {},
   "source": [
    "## Setup\n",
    "#### Load the API key and relevant Python libaries.\n",
    "In this course, we've provided some code that loads the OpenAI API key for you."
   ]
  },
  {
   "cell_type": "code",
   "execution_count": null,
   "id": "32a1b297",
   "metadata": {},
   "outputs": [],
   "source": [
    "import os\n",
    "import openai\n",
    "import sys\n",
    "from dotenv import load_dotenv, find_dotenv\n",
    "_ = load_dotenv(find_dotenv())\n",
    "\n",
    "openai.api_key  = os.environ['OPENAI_API_KEY']"
   ]
  },
  {
   "cell_type": "code",
   "execution_count": null,
   "id": "80ebf5cc",
   "metadata": {},
   "outputs": [],
   "source": [
    "def get_completion_from_messages(messages, \n",
    "                                 model=\"gpt-3.5-turbo\", \n",
    "                                 temperature=0, max_tokens=500):\n",
    "    response = openai.ChatCompletion.create(\n",
    "        model=model,\n",
    "        messages=messages,\n",
    "        temperature=temperature, \n",
    "        max_tokens=max_tokens, \n",
    "    )\n",
    "    return response.choices[0].message[\"content\"]"
   ]
  },
  {
   "cell_type": "markdown",
   "id": "96ca636a",
   "metadata": {},
   "source": [
    "Sometimes a model might make \n",
    "reasoning errors by rushing to an incorrect conclusion, so \n",
    "we can reframe the query to request a series \n",
    "of relevant reasoning steps before the model provides \n",
    "a final answer, so that it can think longer \n",
    "and more methodically about the problem. \n",
    "And in general, we call this strategy of \n",
    "asking the model to reason about a problem in steps, \n",
    "\"Chain of Thought Reasoning\".\n",
    "\n",
    "For some applications, \n",
    "the reasoning process that a model uses to arrive at a final \n",
    "answer would be inappropriate to share with the user.\n",
    "\n",
    "Inner monologue is a tactic that can be \n",
    "used to mitigate this, and this is just a fancy \n",
    "way of saying hiding the model's reasoning from the user. \n",
    "The idea of inner monologue is to instruct \n",
    "the model to put parts of the output \n",
    "that are meant to be hidden from the \n",
    "user into a structured format that makes passing them easy.\n",
    "Then, before presenting the output to the user, \n",
    "the output is passed and only part of the output is made \n",
    "visible."
   ]
  },
  {
   "cell_type": "markdown",
   "id": "8a1da622",
   "metadata": {},
   "source": [
    "## Chain-of-Thought Prompting"
   ]
  },
  {
   "cell_type": "markdown",
   "id": "2c4194ef",
   "metadata": {},
   "source": [
    "Using the delimiters will mean that it \n",
    "will be easier for us later to get just this response to the customer. \n",
    "And kind of cut off everything before."
   ]
  },
  {
   "cell_type": "code",
   "execution_count": null,
   "id": "fadfac02",
   "metadata": {},
   "outputs": [],
   "source": [
    "delimiter = \"####\"\n",
    "system_message = f\"\"\"\n",
    "Follow these steps to answer the customer queries.\n",
    "The customer query will be delimited with four hashtags,\\\n",
    "i.e. {delimiter}. \n",
    "\n",
    "Step 1:{delimiter} First decide whether the user is \\\n",
    "asking a question about a specific product or products. \\\n",
    "Product cateogry doesn't count. \n",
    "\n",
    "Step 2:{delimiter} If the user is asking about \\\n",
    "specific products, identify whether \\\n",
    "the products are in the following list.\n",
    "All available products: \n",
    "1. Product: TechPro Ultrabook\n",
    "   Category: Computers and Laptops\n",
    "   Brand: TechPro\n",
    "   Model Number: TP-UB100\n",
    "   Warranty: 1 year\n",
    "   Rating: 4.5\n",
    "   Features: 13.3-inch display, 8GB RAM, 256GB SSD, Intel Core i5 processor\n",
    "   Description: A sleek and lightweight ultrabook for everyday use.\n",
    "   Price: $799.99\n",
    "\n",
    "2. Product: BlueWave Gaming Laptop\n",
    "   Category: Computers and Laptops\n",
    "   Brand: BlueWave\n",
    "   Model Number: BW-GL200\n",
    "   Warranty: 2 years\n",
    "   Rating: 4.7\n",
    "   Features: 15.6-inch display, 16GB RAM, 512GB SSD, NVIDIA GeForce RTX 3060\n",
    "   Description: A high-performance gaming laptop for an immersive experience.\n",
    "   Price: $1199.99\n",
    "\n",
    "3. Product: PowerLite Convertible\n",
    "   Category: Computers and Laptops\n",
    "   Brand: PowerLite\n",
    "   Model Number: PL-CV300\n",
    "   Warranty: 1 year\n",
    "   Rating: 4.3\n",
    "   Features: 14-inch touchscreen, 8GB RAM, 256GB SSD, 360-degree hinge\n",
    "   Description: A versatile convertible laptop with a responsive touchscreen.\n",
    "   Price: $699.99\n",
    "\n",
    "4. Product: TechPro Desktop\n",
    "   Category: Computers and Laptops\n",
    "   Brand: TechPro\n",
    "   Model Number: TP-DT500\n",
    "   Warranty: 1 year\n",
    "   Rating: 4.4\n",
    "   Features: Intel Core i7 processor, 16GB RAM, 1TB HDD, NVIDIA GeForce GTX 1660\n",
    "   Description: A powerful desktop computer for work and play.\n",
    "   Price: $999.99\n",
    "\n",
    "5. Product: BlueWave Chromebook\n",
    "   Category: Computers and Laptops\n",
    "   Brand: BlueWave\n",
    "   Model Number: BW-CB100\n",
    "   Warranty: 1 year\n",
    "   Rating: 4.1\n",
    "   Features: 11.6-inch display, 4GB RAM, 32GB eMMC, Chrome OS\n",
    "   Description: A compact and affordable Chromebook for everyday tasks.\n",
    "   Price: $249.99\n",
    "\n",
    "Step 3:{delimiter} If the message contains products \\\n",
    "in the list above, list any assumptions that the \\\n",
    "user is making in their \\\n",
    "message e.g. that Laptop X is bigger than \\\n",
    "Laptop Y, or that Laptop Z has a 2 year warranty.\n",
    "\n",
    "Step 4:{delimiter}: If the user made any assumptions, \\\n",
    "figure out whether the assumption is true based on your \\\n",
    "product information. \n",
    "\n",
    "Step 5:{delimiter}: First, politely correct the \\\n",
    "customer's incorrect assumptions if applicable. \\\n",
    "Only mention or reference products in the list of \\\n",
    "5 available products, as these are the only 5 \\\n",
    "products that the store sells. \\\n",
    "Answer the customer in a friendly tone.\n",
    "\n",
    "Use the following format:\n",
    "Step 1:{delimiter} <step 1 reasoning>\n",
    "Step 2:{delimiter} <step 2 reasoning>\n",
    "Step 3:{delimiter} <step 3 reasoning>\n",
    "Step 4:{delimiter} <step 4 reasoning>\n",
    "Response to user:{delimiter} <response to customer>\n",
    "\n",
    "Make sure to include {delimiter} to separate every step.\n",
    "\"\"\""
   ]
  },
  {
   "cell_type": "code",
   "execution_count": null,
   "id": "a3005e71",
   "metadata": {},
   "outputs": [],
   "source": [
    "user_message = f\"\"\"\n",
    "by how much is the BlueWave Chromebook more expensive \\\n",
    "than the TechPro Desktop\"\"\"\n",
    "\n",
    "messages =  [  \n",
    "{'role':'system', \n",
    " 'content': system_message},    \n",
    "{'role':'user', \n",
    " 'content': f\"{delimiter}{user_message}{delimiter}\"},  \n",
    "] \n",
    "\n",
    "response = get_completion_from_messages(messages)\n",
    "print(response)\n",
    "#the model performs better if it also has time to think."
   ]
  },
  {
   "cell_type": "markdown",
   "id": "5b47af50",
   "metadata": {},
   "source": [
    "*OUTPUT*\n",
    "\n",
    "Step 1:#### The user is asking about the price difference between the BlueWave Chromebook and the TechPro Desktop.\n",
    "\n",
    "Step 2:#### Both the BlueWave Chromebook and the TechPro Desktop are available products.\n",
    "\n",
    "Step 3:#### The user assumes that the BlueWave Chromebook is more expensive than the TechPro Desktop.\n",
    "\n",
    "Step 4:#### Based on the product information, the price of the BlueWave Chromebook is 249.99, and the price of the TechPro Desktop is 999.99. Therefore, the TechPro Desktop is actually more expensive than the BlueWave Chromebook.\n",
    "\n",
    "Response to user:#### The BlueWave Chromebook is actually less expensive than the TechPro Desktop. The BlueWave Chromebook is priced at 249.99, while the TechPro Desktop is priced at 999.99."
   ]
  },
  {
   "cell_type": "code",
   "execution_count": null,
   "id": "f2be3a28",
   "metadata": {},
   "outputs": [],
   "source": [
    "user_message = f\"\"\"\n",
    "do you sell tvs\"\"\"\n",
    "messages =  [  \n",
    "{'role':'system', \n",
    " 'content': system_message},    \n",
    "{'role':'user', \n",
    " 'content': f\"{delimiter}{user_message}{delimiter}\"},  \n",
    "] \n",
    "response = get_completion_from_messages(messages)\n",
    "print(response)"
   ]
  },
  {
   "cell_type": "markdown",
   "id": "ab00af9f",
   "metadata": {},
   "source": [
    "*OUTPUT*\n",
    "\n",
    "Step 1:#### The user is asking if the store sells TVs, which is a question about a specific product category.\n",
    "\n",
    "Step 2:#### TVs are not included in the list of available products. The store only sells computers and laptops.\n",
    "\n",
    "Response to user:#### I'm sorry, but we currently do not sell TVs. Our store specializes in computers and laptops. If you have any questions or need assistance with our available products, feel free to ask."
   ]
  },
  {
   "cell_type": "markdown",
   "id": "70b62e08",
   "metadata": {},
   "source": [
    "N.B. The model then \n",
    "skips to the response to user step because it realizes that the \n",
    "intermediary steps are not actually necessary. \n",
    "I will say that we did ask for the output in this specific format. \n",
    "So technically, the model hasn't exactly followed our request. \n",
    "Again, more advanced models will be better at doing that. "
   ]
  },
  {
   "cell_type": "markdown",
   "id": "7dc4940a",
   "metadata": {},
   "source": [
    "## Inner Monologue\n",
    "- Since we asked the LLM to separate its reasoning steps by a delimiter, we can hide the chain-of-thought reasoning from the final output that the user sees."
   ]
  },
  {
   "cell_type": "markdown",
   "id": "c37aa8e5",
   "metadata": {},
   "source": [
    "What we can do is actually just cut the string at the \n",
    "last occurrence of this delimiter token or string \n",
    "of four hashtags and then only print the \n",
    "final part of the model output. "
   ]
  },
  {
   "cell_type": "code",
   "execution_count": null,
   "id": "d3e10e8c",
   "metadata": {},
   "outputs": [],
   "source": [
    "try:\n",
    "    final_response = response.split(delimiter)[-1].strip() #we're going to strip any white space\n",
    "except Exception as e:\n",
    "    final_response = \"Sorry, I'm having trouble right now, please try asking another question.\"\n",
    "    \n",
    "print(final_response)"
   ]
  },
  {
   "cell_type": "markdown",
   "id": "b7975513",
   "metadata": {},
   "source": [
    "*OUTPUT*\n",
    "\n",
    "I'm sorry, but we currently do not sell TVs. Our store specializes in computers and laptops. If you have any questions or need assistance with our available products, feel free to ask."
   ]
  },
  {
   "cell_type": "markdown",
   "id": "ccd5927c",
   "metadata": {},
   "source": [
    "In general, finding the optimal trade-off \n",
    "in prompt complexity requires some experimentation. \n",
    " \n",
    "So definitely good to try a number of different \n",
    "prompts before deciding to use one."
   ]
  }
 ],
 "metadata": {
  "kernelspec": {
   "display_name": "Python 3 (ipykernel)",
   "language": "python",
   "name": "python3"
  },
  "language_info": {
   "codemirror_mode": {
    "name": "ipython",
    "version": 3
   },
   "file_extension": ".py",
   "mimetype": "text/x-python",
   "name": "python",
   "nbconvert_exporter": "python",
   "pygments_lexer": "ipython3",
   "version": "3.10.10"
  }
 },
 "nbformat": 4,
 "nbformat_minor": 5
}
