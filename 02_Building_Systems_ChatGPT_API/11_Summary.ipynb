{
 "cells": [
  {
   "cell_type": "markdown",
   "id": "179506f9",
   "metadata": {},
   "source": [
    "We went over details of how an LLM works, including subtleties like the \n",
    "tokenizer and why it can't reverse lollipop. \n",
    "We learned methods for evaluating user inputs to \n",
    "ensure the quality and safety of the system, \n",
    "processing inputs using both chain of thought reasoning and \n",
    "splitting tasks into subtasks with chain prompts, \n",
    "and checking outputs before showing them to users. \n",
    "We also took a look at methods for evaluating the system over \n",
    "time so as to monitor and improve its performance. \n",
    " \n",
    "Throughout the course, we also discussed the importance of \n",
    "building responsibly with these tools, ensuring that the \n",
    "model is safe and provides appropriate \n",
    "responses that are accurate, relevant and in the tone you want. "
   ]
  }
 ],
 "metadata": {
  "kernelspec": {
   "display_name": "Python 3 (ipykernel)",
   "language": "python",
   "name": "python3"
  },
  "language_info": {
   "codemirror_mode": {
    "name": "ipython",
    "version": 3
   },
   "file_extension": ".py",
   "mimetype": "text/x-python",
   "name": "python",
   "nbconvert_exporter": "python",
   "pygments_lexer": "ipython3",
   "version": "3.10.10"
  }
 },
 "nbformat": 4,
 "nbformat_minor": 5
}
