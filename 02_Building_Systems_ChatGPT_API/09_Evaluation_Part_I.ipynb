{
 "cells": [
  {
   "cell_type": "markdown",
   "id": "e6ad0fe2",
   "metadata": {},
   "source": [
    "# Evaluation part I\n",
    "\n",
    "Evaluate LLM responses when there is a single \"right answer\"."
   ]
  },
  {
   "cell_type": "markdown",
   "id": "193af9e5",
   "metadata": {},
   "source": [
    "After you've built such a system, how do you know how it's working? \n",
    "\n",
    "And maybe even as you deploy it and let users use it, \n",
    "how can you track how it's doing and find any \n",
    "shortcomings and continue to improve the quality of \n",
    "the answers of your system? \n",
    "\n",
    "In this video, I'd like to share with you some best practices \n",
    "for __evaluating the outputs of an LLM__ and I want to share \n",
    "with you specifically what it feels like to build one of these \n",
    "systems. \n",
    "One key distinction between what you hear me talk \n",
    "about in this video and what you may have seen in more \n",
    "traditional machine learning supervised learning applications \n",
    "is because you can build such an application so quickly, \n",
    "the methods for evaluating it, it tends not to start \n",
    "off with a test set. Instead, you often __end up \n",
    "gradually building up a set of test examples.__"
   ]
  },
  {
   "cell_type": "markdown",
   "id": "f516d863",
   "metadata": {},
   "source": [
    "![Token](immagini\\09_evaluation.png)"
   ]
  },
  {
   "cell_type": "markdown",
   "id": "377ec328",
   "metadata": {},
   "source": [
    "In the traditional supervised learning approach, collecting additional test examples was manageable due to the substantial size of the training data. This involved dividing the data into training, development, and test sets, commonly used during the development process.\n",
    "\n",
    "However, building applications using __modern language models like LLMs follows a different approach__. Developers start with a __small set__ of labeled examples and __fine-tune__ the model by tuning prompts to work effectively on this limited data.\n",
    "\n",
    "As testing and evaluation progress, __more examples are opportunistically added to the development set to create a slowly growing evaluation data__. Metrics like average accuracy are used to measure performance on this small set of examples, and developers have the flexibility to stop if the model meets their requirements at any point.\n",
    "\n",
    "__If the confidence in the model's performance is still insufficient, a randomly sampled set of examples is collected for further tuning__, which serves as an extended development set. Only if a higher level of precision is needed, such as improving performance from 91% to 93%, is a hold-out test set utilized.\n",
    "\n",
    "For high-stakes applications where incorrect outputs can cause harm, __it is crucial to rigorously evaluate the system's performance__. In such cases, both development and test sets are necessary to ensure correctness and safety.\n",
    "\n",
    "For lower-risk tasks, developers can stop the process earlier if the risks are modest, avoiding the effort of collecting larger datasets for evaluation.\n",
    "\n",
    "__In summary, the process of building applications using LLMs involves starting with a small set of examples, gradually expanding the development set, and using metrics to measure performance. The evaluation process can be stopped if the model meets requirements, but for high-stakes applications, rigorous evaluation with test sets becomes essential.__"
   ]
  },
  {
   "cell_type": "markdown",
   "id": "70330401",
   "metadata": {},
   "source": [
    "## Setup\n",
    "#### Load the API key and relevant Python libaries.\n",
    "In this course, we've provided some code that loads the OpenAI API key for you."
   ]
  },
  {
   "cell_type": "code",
   "execution_count": null,
   "id": "f09d1285",
   "metadata": {},
   "outputs": [],
   "source": [
    "import os\n",
    "import openai\n",
    "import sys\n",
    "sys.path.append('../..')\n",
    "import utils\n",
    "from dotenv import load_dotenv, find_dotenv\n",
    "_ = load_dotenv(find_dotenv()) # read local .env file\n",
    "\n",
    "openai.api_key  = os.environ['OPENAI_API_KEY']"
   ]
  },
  {
   "cell_type": "code",
   "execution_count": null,
   "id": "d1dd030e",
   "metadata": {},
   "outputs": [],
   "source": [
    "def get_completion_from_messages(messages, model=\"gpt-3.5-turbo\", temperature=0, max_tokens=500):\n",
    "    response = openai.ChatCompletion.create(\n",
    "        model=model,\n",
    "        messages=messages,\n",
    "        temperature=temperature, \n",
    "        max_tokens=max_tokens, \n",
    "    )\n",
    "    return response.choices[0].message[\"content\"]"
   ]
  },
  {
   "cell_type": "markdown",
   "id": "cf29e5dd",
   "metadata": {},
   "source": [
    "#### Get the relevant products and categories\n",
    "Here is the list of products and categories that are in the product catalog."
   ]
  },
  {
   "cell_type": "code",
   "execution_count": null,
   "id": "5052c79e",
   "metadata": {},
   "outputs": [],
   "source": [
    "products_and_category = utils.get_products_and_category()\n",
    "products_and_category\n",
    "# Use the utils function to get a list of products and categories. "
   ]
  },
  {
   "cell_type": "markdown",
   "id": "c4df172b",
   "metadata": {},
   "source": [
    "*OUTPUT*\n",
    "```json\n",
    "{'Computers and Laptops': ['TechPro Ultrabook',\n",
    "  'BlueWave Gaming Laptop',\n",
    "  'PowerLite Convertible',\n",
    "  'TechPro Desktop',\n",
    "  'BlueWave Chromebook'],\n",
    " 'Smartphones and Accessories': ['SmartX ProPhone',\n",
    "  'MobiTech PowerCase',\n",
    "  'SmartX MiniPhone',\n",
    "  'MobiTech Wireless Charger',\n",
    "  'SmartX EarBuds'],\n",
    " 'Televisions and Home Theater Systems': ['CineView 4K TV',\n",
    "  'SoundMax Home Theater',\n",
    "  'CineView 8K TV',\n",
    "  'SoundMax Soundbar',\n",
    "  'CineView OLED TV'],\n",
    " 'Gaming Consoles and Accessories': ['GameSphere X',\n",
    "  'ProGamer Controller',\n",
    "  'GameSphere Y',\n",
    "  'ProGamer Racing Wheel',\n",
    "  'GameSphere VR Headset'],\n",
    " 'Audio Equipment': ['AudioPhonic Noise-Canceling Headphones',\n",
    "  'WaveSound Bluetooth Speaker',\n",
    "  'AudioPhonic True Wireless Earbuds',\n",
    "  'WaveSound Soundbar',\n",
    "  'AudioPhonic Turntable'],\n",
    " 'Cameras and Camcorders': ['FotoSnap DSLR Camera',\n",
    "  'ActionCam 4K',\n",
    "  'FotoSnap Mirrorless Camera',\n",
    "  'ZoomMaster Camcorder',\n",
    "  'FotoSnap Instant Camera']}\n",
    "  ```"
   ]
  },
  {
   "cell_type": "markdown",
   "id": "845fe8b0",
   "metadata": {},
   "source": [
    "### Find relevant product and category names (version 1)\n",
    "This could be the version that is running in production."
   ]
  },
  {
   "cell_type": "code",
   "execution_count": null,
   "id": "7848ced8",
   "metadata": {},
   "outputs": [],
   "source": [
    "def find_category_and_product_v1(user_input,products_and_category):\n",
    "\n",
    "    delimiter = \"####\"\n",
    "    system_message = f\"\"\"\n",
    "    You will be provided with customer service queries. \\\n",
    "    The customer service query will be delimited with {delimiter} characters.\n",
    "    Output a python list of json objects, where each object has the following format:\n",
    "        'category': <one of Computers and Laptops, Smartphones and Accessories, Televisions and Home Theater Systems, \\\n",
    "    Gaming Consoles and Accessories, Audio Equipment, Cameras and Camcorders>,\n",
    "    AND\n",
    "        'products': <a list of products that must be found in the allowed products below>\n",
    "\n",
    "\n",
    "    Where the categories and products must be found in the customer service query.\n",
    "    If a product is mentioned, it must be associated with the correct category in the allowed products list below.\n",
    "    If no products or categories are found, output an empty list.\n",
    "    \n",
    "\n",
    "    List out all products that are relevant to the customer service query based on how closely it relates\n",
    "    to the product name and product category.\n",
    "    Do not assume, from the name of the product, any features or attributes such as relative quality or price.\n",
    "\n",
    "    The allowed products are provided in JSON format.\n",
    "    The keys of each item represent the category.\n",
    "    The values of each item is a list of products that are within that category.\n",
    "    Allowed products: {products_and_category}\n",
    "    \n",
    "\n",
    "    \"\"\"\n",
    "    \n",
    "    few_shot_user_1 = \"\"\"I want the most expensive computer.\"\"\"\n",
    "    few_shot_assistant_1 = \"\"\" \n",
    "    [{'category': 'Computers and Laptops', \\\n",
    "'products': ['TechPro Ultrabook', 'BlueWave Gaming Laptop', 'PowerLite Convertible', 'TechPro Desktop', 'BlueWave Chromebook']}]\n",
    "    \"\"\"\n",
    "    \n",
    "    messages =  [  \n",
    "    {'role':'system', 'content': system_message},    \n",
    "    {'role':'user', 'content': f\"{delimiter}{few_shot_user_1}{delimiter}\"},  \n",
    "    {'role':'assistant', 'content': few_shot_assistant_1 },\n",
    "    {'role':'user', 'content': f\"{delimiter}{user_input}{delimiter}\"},  \n",
    "    ] \n",
    "    return get_completion_from_messages(messages)\n"
   ]
  },
  {
   "cell_type": "markdown",
   "id": "374e6421",
   "metadata": {},
   "source": [
    "few_shot\n",
    "\n",
    "But the prompt specifies a set of instructions, and \n",
    "it actually gives the language model one example \n",
    "of a good output. This is sometimes called a few-shot or \n",
    "technically one-shot prompting, because we're actually using a \n",
    "user message and a system message to give \n",
    "it one example of a good output."
   ]
  },
  {
   "cell_type": "markdown",
   "id": "23889bbb",
   "metadata": {},
   "source": [
    "### Evaluate on some queries"
   ]
  },
  {
   "cell_type": "code",
   "execution_count": null,
   "id": "2ccbe43f",
   "metadata": {},
   "outputs": [],
   "source": [
    "customer_msg_0 = f\"\"\"Which TV can I buy if I'm on a budget?\"\"\"\n",
    "\n",
    "products_by_category_0 = find_category_and_product_v1(customer_msg_0,\n",
    "                                                      products_and_category)\n",
    "print(products_by_category_0)"
   ]
  },
  {
   "cell_type": "markdown",
   "id": "3fa00964",
   "metadata": {},
   "source": [
    "*OUTPUT*\n",
    "```json\n",
    "[{'category': 'Televisions and Home Theater Systems',\n",
    "  'products': ['CineView 4K TV', 'SoundMax Home Theater', 'CineView 8K TV', 'SoundMax Soundbar', 'CineView OLED TV']}]\n",
    "```"
   ]
  },
  {
   "cell_type": "code",
   "execution_count": null,
   "id": "b416af19",
   "metadata": {},
   "outputs": [],
   "source": [
    "customer_msg_1 = f\"\"\"I need a charger for my smartphone\"\"\"\n",
    "\n",
    "products_by_category_1 = find_category_and_product_v1(customer_msg_1,\n",
    "                                                      products_and_category)\n",
    "print(products_by_category_1)"
   ]
  },
  {
   "cell_type": "markdown",
   "id": "efe3ba4b",
   "metadata": {},
   "source": [
    "*OUTPUT*\n",
    "```json\n",
    "[{'category': 'Smartphones and Accessories', \n",
    "  'products': ['MobiTech PowerCase', 'MobiTech Wireless Charger', 'SmartX EarBuds']}]\n",
    "```"
   ]
  },
  {
   "cell_type": "code",
   "execution_count": null,
   "id": "04959d21",
   "metadata": {},
   "outputs": [],
   "source": [
    "customer_msg_2 = f\"\"\"\n",
    "What computers do you have?\"\"\"\n",
    "\n",
    "products_by_category_2 = find_category_and_product_v1(customer_msg_2,\n",
    "                                                      products_and_category)\n",
    "products_by_category_2"
   ]
  },
  {
   "cell_type": "markdown",
   "id": "364cd41c",
   "metadata": {},
   "source": [
    "*OUTPUT*\n",
    "```json\n",
    "\" \\n    \n",
    "[{'category': 'Computers and Laptops', \n",
    "'products': ['TechPro Ultrabook', 'BlueWave Gaming Laptop', 'PowerLite Convertible', 'TechPro Desktop', 'BlueWave Chromebook']}]\"\n",
    "```"
   ]
  },
  {
   "cell_type": "markdown",
   "id": "fc5b4d70",
   "metadata": {},
   "source": [
    "So, here I have three prompts, and if you are developing \n",
    "this prompt for the first time, it would be quite reasonable \n",
    "to to have one or two or three examples like this, \n",
    "and to keep on tuning the prompt until \n",
    "it gives appropriate outputs, until the prompt is retrieving the \n",
    "relevant products and categories to the \n",
    "customer request for all of your prompts, \n",
    "all three of them in this example. And if the prompt had been \n",
    "missing some products or something, then what we would \n",
    "do is probably go back to edit the prompt a few times until it gets it \n",
    "right on all three of these prompts. \n",
    "After you've gotten the system to this point, you \n",
    "might then start running the system in testing. Maybe \n",
    "send it to internal test users or try \n",
    "using it yourself, and just run it for a \n",
    "while to see what happens. \n",
    "And sometimes you will run across a prompt that it fails on. "
   ]
  },
  {
   "cell_type": "code",
   "execution_count": null,
   "id": "582e81cd",
   "metadata": {},
   "outputs": [],
   "source": [
    "customer_msg_3 = f\"\"\"\n",
    "tell me about the smartx pro phone and the fotosnap camera, the dslr one.\n",
    "Also, what TVs do you have?\"\"\"\n",
    "\n",
    "products_by_category_3 = find_category_and_product_v1(customer_msg_3,\n",
    "                                                      products_and_category)\n",
    "print(products_by_category_3)"
   ]
  },
  {
   "cell_type": "markdown",
   "id": "f16bdf92",
   "metadata": {},
   "source": [
    "*OUTPUT*\n",
    "![Token](immagini\\10_output.png)\n",
    "\n",
    "So when I run it on this prompt, it looks like it's \n",
    "outputting the right data, but it also outputs a bunch of text here, \n",
    "this extra junk. It makes it harder to \n",
    "parse this into a Python list of dictionaries. \n",
    "So we don't like that it's outputting this extra junk. So when \n",
    "you run across one example that the system \n",
    "fails on, then common practice is to just note down \n",
    "that this is a somewhat tricky example, so let's add this \n",
    "to our set of examples that we're going to test \n",
    "the system on systematically. \n",
    "And if you keep on running the system for a while longer, \n",
    "maybe it works on those examples. We did tune the \n",
    "prompt to three examples, so maybe it will work on many examples, \n",
    "but just by chance you might run across another example where it \n",
    "generates an error."
   ]
  },
  {
   "cell_type": "markdown",
   "id": "a5b36a0f",
   "metadata": {},
   "source": [
    "### Harder test cases\n",
    "Identify queries found in production, where the model is not working as expected."
   ]
  },
  {
   "cell_type": "code",
   "execution_count": null,
   "id": "0ad9a77e",
   "metadata": {},
   "outputs": [],
   "source": [
    "customer_msg_4 = f\"\"\"\n",
    "tell me about the CineView TV, the 8K one, Gamesphere console, the X one.\n",
    "I'm on a budget, what computers do you have?\"\"\"\n",
    "\n",
    "products_by_category_4 = find_category_and_product_v1(customer_msg_4,\n",
    "                                                      products_and_category)\n",
    "print(products_by_category_4)"
   ]
  },
  {
   "cell_type": "markdown",
   "id": "b567244c",
   "metadata": {},
   "source": [
    "*OUTPUT*\n",
    "\n",
    "![Token](immagini\\11_output.png)\n",
    "\n",
    "So this custom message for also causes the \n",
    "system to output a bunch of junk text at the end that \n",
    "we don't want. \n",
    "\n",
    "And so at this point, you may have run this prompt, \n",
    "maybe on hundreds of examples, maybe you have test users, \n",
    "but you would just take the examples, the tricky ones is doing poorly on, \n",
    "and now I have this set of five examples, index from 0 to 4, \n",
    "have this set of five examples that you \n",
    "use to further fine-tune the prompts. \n",
    "\n",
    "And in both of these examples, the LLM had output a \n",
    "bunch of extra junk text at the end that we don't want. \n",
    "And after a little bit of trial and error, you might decide to \n",
    "modify the prompts as follows. "
   ]
  },
  {
   "cell_type": "markdown",
   "id": "4325369d",
   "metadata": {},
   "source": [
    "### Modify the prompt to work on the hard test cases"
   ]
  },
  {
   "cell_type": "markdown",
   "id": "190a07cc",
   "metadata": {},
   "source": []
  },
  {
   "cell_type": "code",
   "execution_count": null,
   "id": "6aa1f718",
   "metadata": {},
   "outputs": [],
   "source": [
    "def find_category_and_product_v2(user_input,products_and_category):\n",
    "    \"\"\"\n",
    "    Added: Do not output any additional text that is not in JSON format.\n",
    "    Added a second example (for few-shot prompting) where user asks for \n",
    "    the cheapest computer. In both few-shot examples, the shown response \n",
    "    is the full list of products in JSON only.\n",
    "    \"\"\"\n",
    "    delimiter = \"####\"\n",
    "    system_message = f\"\"\"\n",
    "    You will be provided with customer service queries. \\\n",
    "    The customer service query will be delimited with {delimiter} characters.\n",
    "    Output a python list of json objects, where each object has the following format:\n",
    "        'category': <one of Computers and Laptops, Smartphones and Accessories, Televisions and Home Theater Systems, \\\n",
    "    Gaming Consoles and Accessories, Audio Equipment, Cameras and Camcorders>,\n",
    "    AND\n",
    "        'products': <a list of products that must be found in the allowed products below>\n",
    "    Do not output any additional text that is not in JSON format.\n",
    "    Do not write any explanatory text after outputting the requested JSON.\n",
    "\n",
    "\n",
    "    Where the categories and products must be found in the customer service query.\n",
    "    If a product is mentioned, it must be associated with the correct category in the allowed products list below.\n",
    "    If no products or categories are found, output an empty list.\n",
    "    \n",
    "\n",
    "    List out all products that are relevant to the customer service query based on how closely it relates\n",
    "    to the product name and product category.\n",
    "    Do not assume, from the name of the product, any features or attributes such as relative quality or price.\n",
    "\n",
    "    The allowed products are provided in JSON format.\n",
    "    The keys of each item represent the category.\n",
    "    The values of each item is a list of products that are within that category.\n",
    "    Allowed products: {products_and_category}\n",
    "    \n",
    "\n",
    "    \"\"\"\n",
    "    \n",
    "    few_shot_user_1 = \"\"\"I want the most expensive computer. What do you recommend?\"\"\"\n",
    "    few_shot_assistant_1 = \"\"\" \n",
    "    [{'category': 'Computers and Laptops', \\\n",
    "'products': ['TechPro Ultrabook', 'BlueWave Gaming Laptop', 'PowerLite Convertible', 'TechPro Desktop', 'BlueWave Chromebook']}]\n",
    "    \"\"\"\n",
    "    \n",
    "    few_shot_user_2 = \"\"\"I want the most cheapest computer. What do you recommend?\"\"\"\n",
    "    few_shot_assistant_2 = \"\"\" \n",
    "    [{'category': 'Computers and Laptops', \\\n",
    "'products': ['TechPro Ultrabook', 'BlueWave Gaming Laptop', 'PowerLite Convertible', 'TechPro Desktop', 'BlueWave Chromebook']}]\n",
    "    \"\"\"\n",
    "    \n",
    "    messages =  [  \n",
    "    {'role':'system', 'content': system_message},    \n",
    "    {'role':'user', 'content': f\"{delimiter}{few_shot_user_1}{delimiter}\"},  \n",
    "    {'role':'assistant', 'content': few_shot_assistant_1 },\n",
    "    {'role':'user', 'content': f\"{delimiter}{few_shot_user_2}{delimiter}\"},  \n",
    "    {'role':'assistant', 'content': few_shot_assistant_2 },\n",
    "    {'role':'user', 'content': f\"{delimiter}{user_input}{delimiter}\"},  \n",
    "    ] \n",
    "    return get_completion_from_messages(messages)\n"
   ]
  },
  {
   "cell_type": "markdown",
   "id": "b5dc9869",
   "metadata": {},
   "source": [
    "### Evaluate the modified prompt on the hard tests cases"
   ]
  },
  {
   "cell_type": "code",
   "execution_count": null,
   "id": "0ab6d6a9",
   "metadata": {},
   "outputs": [],
   "source": [
    "customer_msg_3 = f\"\"\"\n",
    "tell me about the smartx pro phone and the fotosnap camera, the dslr one.\n",
    "Also, what TVs do you have?\"\"\"\n",
    "\n",
    "products_by_category_3 = find_category_and_product_v2(customer_msg_3,\n",
    "                                                      products_and_category)\n",
    "print(products_by_category_3)"
   ]
  },
  {
   "cell_type": "markdown",
   "id": "d523c952",
   "metadata": {},
   "source": [
    "*OUTPUT*\n",
    "```json\n",
    "[{'category': 'Smartphones and Accessories', 'products': ['SmartX ProPhone']}, {'category': 'Cameras and Camcorders', 'products': ['FotoSnap DSLR Camera']}, {'category': 'Televisions and Home Theater Systems', 'products': ['CineView 4K TV', 'SoundMax Home Theater', 'CineView 8K TV', 'SoundMax Soundbar', 'CineView OLED TV']}]\n",
    "```"
   ]
  },
  {
   "cell_type": "markdown",
   "id": "5205987c",
   "metadata": {},
   "source": [
    "### Regression testing: verify that the model still works on previous test cases\n",
    "Check that modifying the model to fix the hard test cases does not negatively affect its performance on previous test cases."
   ]
  },
  {
   "cell_type": "code",
   "execution_count": null,
   "id": "cee05e25",
   "metadata": {},
   "outputs": [],
   "source": [
    "customer_msg_0 = f\"\"\"Which TV can I buy if I'm on a budget?\"\"\"\n",
    "\n",
    "products_by_category_0 = find_category_and_product_v2(customer_msg_0,\n",
    "                                                      products_and_category)\n",
    "print(products_by_category_0)"
   ]
  },
  {
   "cell_type": "markdown",
   "id": "a5ce3fb2",
   "metadata": {},
   "source": [
    "*OUTPUT*\n",
    "```json\n",
    "[{'category': 'Televisions and Home Theater Systems', 'products': ['CineView 4K TV', 'SoundMax Home Theater', 'CineView 8K TV', 'SoundMax Soundbar', 'CineView OLED TV']}]\n",
    "```"
   ]
  },
  {
   "cell_type": "markdown",
   "id": "2a36d814",
   "metadata": {},
   "source": [
    "You can kind of tell that if I had to copy-paste 5 prompts, \n",
    "customers such as 0, 1, 2, 3, and 4, into \n",
    "my Jupyter notebook and run them and then manually look \n",
    "at them to see if they output in the right categories and \n",
    "products. You can kind of do it. I can look \n",
    "at this and go, \"Yep, category, TV and home \n",
    "theater systems, products. Yep, looks like you \n",
    "got all of them.\". \n",
    "But it's actually a little bit painful to do this manually, to \n",
    "manually inspect or to look at this output to make sure with \n",
    "your eyes that this is exactly the right output. \n",
    "So when the development set that you're tuning to becomes more \n",
    "than just a small handful of examples, it \n",
    "then becomes useful to start to automate the testing process. "
   ]
  },
  {
   "cell_type": "markdown",
   "id": "4c1568e3",
   "metadata": {},
   "source": [
    "### Gather development set for automated testing"
   ]
  },
  {
   "cell_type": "code",
   "execution_count": null,
   "id": "3915b0c4",
   "metadata": {},
   "outputs": [],
   "source": [
    "msg_ideal_pairs_set = [\n",
    "    \n",
    "    # eg 0\n",
    "    {'customer_msg':\"\"\"Which TV can I buy if I'm on a budget?\"\"\",\n",
    "     'ideal_answer':{\n",
    "        'Televisions and Home Theater Systems':set(\n",
    "            ['CineView 4K TV', 'SoundMax Home Theater', 'CineView 8K TV', 'SoundMax Soundbar', 'CineView OLED TV']\n",
    "        )}\n",
    "    },\n",
    "\n",
    "    # eg 1\n",
    "    {'customer_msg':\"\"\"I need a charger for my smartphone\"\"\",\n",
    "     'ideal_answer':{\n",
    "        'Smartphones and Accessories':set(\n",
    "            ['MobiTech PowerCase', 'MobiTech Wireless Charger', 'SmartX EarBuds']\n",
    "        )}\n",
    "    },\n",
    "    # eg 2\n",
    "    {'customer_msg':f\"\"\"What computers do you have?\"\"\",\n",
    "     'ideal_answer':{\n",
    "           'Computers and Laptops':set(\n",
    "               ['TechPro Ultrabook', 'BlueWave Gaming Laptop', 'PowerLite Convertible', 'TechPro Desktop', 'BlueWave Chromebook'\n",
    "               ])\n",
    "                }\n",
    "    },\n",
    "\n",
    "    # eg 3\n",
    "    {'customer_msg':f\"\"\"tell me about the smartx pro phone and \\\n",
    "    the fotosnap camera, the dslr one.\\\n",
    "    Also, what TVs do you have?\"\"\",\n",
    "     'ideal_answer':{\n",
    "        'Smartphones and Accessories':set(\n",
    "            ['SmartX ProPhone']),\n",
    "        'Cameras and Camcorders':set(\n",
    "            ['FotoSnap DSLR Camera']),\n",
    "        'Televisions and Home Theater Systems':set(\n",
    "            ['CineView 4K TV', 'SoundMax Home Theater','CineView 8K TV', 'SoundMax Soundbar', 'CineView OLED TV'])\n",
    "        }\n",
    "    }, \n",
    "    \n",
    "    # eg 4\n",
    "    {'customer_msg':\"\"\"tell me about the CineView TV, the 8K one, Gamesphere console, the X one.\n",
    "I'm on a budget, what computers do you have?\"\"\",\n",
    "     'ideal_answer':{\n",
    "        'Televisions and Home Theater Systems':set(\n",
    "            ['CineView 8K TV']),\n",
    "        'Gaming Consoles and Accessories':set(\n",
    "            ['GameSphere X']),\n",
    "        'Computers and Laptops':set(\n",
    "            ['TechPro Ultrabook', 'BlueWave Gaming Laptop', 'PowerLite Convertible', 'TechPro Desktop', 'BlueWave Chromebook'])\n",
    "        }\n",
    "    },\n",
    "    \n",
    "    # eg 5\n",
    "    {'customer_msg':f\"\"\"What smartphones do you have?\"\"\",\n",
    "     'ideal_answer':{\n",
    "           'Smartphones and Accessories':set(\n",
    "               ['SmartX ProPhone', 'MobiTech PowerCase', 'SmartX MiniPhone', 'MobiTech Wireless Charger', 'SmartX EarBuds'\n",
    "               ])\n",
    "                    }\n",
    "    },\n",
    "    # eg 6\n",
    "    {'customer_msg':f\"\"\"I'm on a budget.  Can you recommend some smartphones to me?\"\"\",\n",
    "     'ideal_answer':{\n",
    "        'Smartphones and Accessories':set(\n",
    "            ['SmartX EarBuds', 'SmartX MiniPhone', 'MobiTech PowerCase', 'SmartX ProPhone', 'MobiTech Wireless Charger']\n",
    "        )}\n",
    "    },\n",
    "\n",
    "    # eg 7 # this will output a subset of the ideal answer\n",
    "    {'customer_msg':f\"\"\"What Gaming consoles would be good for my friend who is into racing games?\"\"\",\n",
    "     'ideal_answer':{\n",
    "        'Gaming Consoles and Accessories':set([\n",
    "            'GameSphere X',\n",
    "            'ProGamer Controller',\n",
    "            'GameSphere Y',\n",
    "            'ProGamer Racing Wheel',\n",
    "            'GameSphere VR Headset'\n",
    "     ])}\n",
    "    },\n",
    "    # eg 8\n",
    "    {'customer_msg':f\"\"\"What could be a good present for my videographer friend?\"\"\",\n",
    "     'ideal_answer': {\n",
    "        'Cameras and Camcorders':set([\n",
    "        'FotoSnap DSLR Camera', 'ActionCam 4K', 'FotoSnap Mirrorless Camera', 'ZoomMaster Camcorder', 'FotoSnap Instant Camera'\n",
    "        ])}\n",
    "    },\n",
    "    \n",
    "    # eg 9\n",
    "    {'customer_msg':f\"\"\"I would like a hot tub time machine.\"\"\",\n",
    "     'ideal_answer': []\n",
    "    }\n",
    "    \n",
    "]\n"
   ]
  },
  {
   "cell_type": "markdown",
   "id": "a6db75ba",
   "metadata": {},
   "source": [
    "So here is a set of 10 examples where I'm specifying 10 customer messages. So \n",
    "here's a customer message, \"Which TV can I buy if I'm on a \n",
    "budget?\" as well as what's the ideal answer."
   ]
  },
  {
   "cell_type": "markdown",
   "id": "fe539b0c",
   "metadata": {},
   "source": [
    "### Evaluate test cases by comparing to the ideal answers"
   ]
  },
  {
   "cell_type": "markdown",
   "id": "069029ab",
   "metadata": {},
   "source": [
    "If you want to evaluate automatically, \n",
    "what the prompt is doing on any of these 10 examples, \n",
    "here is a function to do so."
   ]
  },
  {
   "cell_type": "code",
   "execution_count": null,
   "id": "cc6a5206",
   "metadata": {},
   "outputs": [],
   "source": [
    "import json\n",
    "\n",
    "def eval_response_with_ideal(response, ideal, debug=False):\n",
    "    \"\"\"\n",
    "    Evaluta la correttezza delle risposte rispetto alle risposte ideali.\n",
    "    \n",
    "    Args:\n",
    "        response (str): La risposta da valutare (JSON-like).\n",
    "        ideal (dict): Le risposte ideali strutturate come un dizionario.\n",
    "        debug (bool, optional): Abilita la modalità di debug per stampare informazioni aggiuntive. Default: False.\n",
    "    \n",
    "    Returns:\n",
    "        float: Percentuale di risposte corrette rispetto alle risposte ideali.\n",
    "    \"\"\"\n",
    "    \n",
    "    if debug:\n",
    "        print(\"response\")\n",
    "        print(response)\n",
    "    \n",
    "    # json.loads() si aspetta le doppie virgolette, non gli apici singoli\n",
    "    json_like_str = response.replace(\"'\", '\"')\n",
    "    \n",
    "    # Parsing della stringa JSON-like in una lista di dizionari\n",
    "    l_of_d = json.loads(json_like_str)\n",
    "    \n",
    "    # Caso speciale: entrambe le risposte sono vuote\n",
    "    if l_of_d == [] and ideal == []:\n",
    "        return 1\n",
    "    \n",
    "    # Altrimenti, se la risposta o l'ideale sono vuoti, c'è un mismatch\n",
    "    elif l_of_d == [] or ideal == []:\n",
    "        return 0\n",
    "    \n",
    "    correct = 0\n",
    "    \n",
    "    if debug:\n",
    "        print(\"l_of_d is\")\n",
    "        print(l_of_d)\n",
    "        \n",
    "    # Iterazione attraverso ciascun dizionario nella lista\n",
    "    for d in l_of_d:\n",
    "        cat = d.get('category')\n",
    "        prod_l = d.get('products')\n",
    "        \n",
    "        # Verifica se sia presente la categoria e la lista di prodotti\n",
    "        if cat and prod_l:\n",
    "            # Converte la lista in un set per facilitare il confronto\n",
    "            prod_set = set(prod_l)\n",
    "            # Ottiene l'insieme ideale di prodotti per la categoria\n",
    "            ideal_cat = ideal.get(cat)\n",
    "            \n",
    "            if ideal_cat:\n",
    "                prod_set_ideal = set(ideal.get(cat))\n",
    "            else:\n",
    "                if debug:\n",
    "                    print(f\"Categoria {cat} non trovata negli ideali\")\n",
    "                    print(f\"Ideali: {ideal}\")\n",
    "                continue\n",
    "                \n",
    "            if debug:\n",
    "                print(\"prod_set\\n\", prod_set)\n",
    "                print()\n",
    "                print(\"prod_set_ideal\\n\", prod_set_ideal)\n",
    "\n",
    "            # Confronto tra insiemi\n",
    "            if prod_set == prod_set_ideal:\n",
    "                if debug:\n",
    "                    print(\"corretto\")\n",
    "                correct += 1\n",
    "            else:\n",
    "                print(\"errato\")\n",
    "                print(f\"prod_set: {prod_set}\")\n",
    "                print(f\"prod_set_ideal: {prod_set_ideal}\")\n",
    "                if prod_set <= prod_set_ideal:\n",
    "                    print(\"La risposta è un sottoinsieme della risposta ideale\")\n",
    "                elif prod_set >= prod_set_ideal:\n",
    "                    print(\"La risposta è un sovrainsieme della risposta ideale\")\n",
    "\n",
    "    # Calcolo percentuale corretta rispetto al numero totale di elementi nella lista\n",
    "    pc_correct = correct / len(l_of_d)\n",
    "        \n",
    "    return pc_correct\n"
   ]
  },
  {
   "cell_type": "code",
   "execution_count": null,
   "id": "ccc0d18b",
   "metadata": {},
   "outputs": [],
   "source": [
    "print(f'Customer message: {msg_ideal_pairs_set[7][\"customer_msg\"]}')\n",
    "print(f'Ideal answer: {msg_ideal_pairs_set[7][\"ideal_answer\"]}')"
   ]
  },
  {
   "cell_type": "markdown",
   "id": "49778181",
   "metadata": {},
   "source": [
    "*OUTPUT*\n",
    "\n",
    "Customer message: What Gaming consoles would be good for my friend who is into racing games?\n",
    "\n",
    "Ideal answer: {'Gaming Consoles and Accessories': {'GameSphere X', 'GameSphere Y', 'ProGamer Racing Wheel', 'ProGamer Controller', 'GameSphere VR Headset'}}"
   ]
  },
  {
   "cell_type": "code",
   "execution_count": null,
   "id": "0dfcf9b3",
   "metadata": {},
   "outputs": [],
   "source": [
    "response = find_category_and_product_v2(msg_ideal_pairs_set[7][\"customer_msg\"],\n",
    "                                         products_and_category)\n",
    "print(f'Response: {response}')\n",
    "\n",
    "eval_response_with_ideal(response,\n",
    "                              msg_ideal_pairs_set[7][\"ideal_answer\"])"
   ]
  },
  {
   "cell_type": "markdown",
   "id": "4e7bc934",
   "metadata": {},
   "source": [
    "*OUTPUT*\n",
    "\n",
    "Response:  \n",
    "    [{'category': 'Gaming Consoles and Accessories', 'products': ['GameSphere X', 'ProGamer Controller', 'GameSphere Y', 'ProGamer Racing Wheel', 'GameSphere VR Headset']}]\n",
    "    \n",
    "1.0"
   ]
  },
  {
   "cell_type": "markdown",
   "id": "8392cf37",
   "metadata": {},
   "source": [
    "### Run evaluation on all test cases and calculate the fraction of cases that are correct"
   ]
  },
  {
   "cell_type": "markdown",
   "id": "86716114",
   "metadata": {},
   "source": [
    "So what I would do if I'm tuning the prompt now is I would then \n",
    "use a fold to loop over all 10 of the development set examples, where \n",
    "we repeatedly pull out the customer message, get \n",
    "the ideal answer, the right answer, call \n",
    "the arm to get a response, evaluate it, and then, you know, accumulate \n",
    "it in average. "
   ]
  },
  {
   "cell_type": "code",
   "execution_count": null,
   "id": "061890e2",
   "metadata": {},
   "outputs": [],
   "source": [
    "# Note, this will not work if any of the api calls time out\n",
    "score_accum = 0\n",
    "for i, pair in enumerate(msg_ideal_pairs_set):\n",
    "    print(f\"example {i}\")\n",
    "    \n",
    "    customer_msg = pair['customer_msg']\n",
    "    ideal = pair['ideal_answer']\n",
    "    \n",
    "    # print(\"Customer message\",customer_msg)\n",
    "    # print(\"ideal:\",ideal)\n",
    "    response = find_category_and_product_v2(customer_msg,\n",
    "                                                      products_and_category)\n",
    "\n",
    "    \n",
    "    # print(\"products_by_category\",products_by_category)\n",
    "    score = eval_response_with_ideal(response,ideal,debug=False)\n",
    "    print(f\"{i}: {score}\")\n",
    "    score_accum += score\n",
    "    \n",
    "\n",
    "n_examples = len(msg_ideal_pairs_set)\n",
    "fraction_correct = score_accum / n_examples\n",
    "print(f\"Fraction correct out of {n_examples}: {fraction_correct}\")"
   ]
  },
  {
   "cell_type": "markdown",
   "id": "2ac45ceb",
   "metadata": {},
   "source": [
    "*OUTPUT*\n",
    "\n",
    "example 0\n",
    "\n",
    "0: 1.0\n",
    "\n",
    "example 1\n",
    "\n",
    "incorrect\n",
    "\n",
    "prod_set: {'SmartX MiniPhone', 'SmartX ProPhone', 'MobiTech Wireless Charger', 'SmartX EarBuds', 'MobiTech PowerCase'}\n",
    "\n",
    "prod_set_ideal: {'MobiTech Wireless Charger', 'SmartX EarBuds', 'MobiTech PowerCase'}\n",
    "\n",
    "response is a superset of the ideal answer\n",
    "\n",
    "1: 0.0\n",
    "\n",
    "example 2\n",
    "\n",
    "2: 1.0\n",
    "\n",
    "example 3\n",
    "\n",
    "3: 1.0\n",
    "\n",
    "example 4\n",
    "\n",
    "incorrect\n",
    "\n",
    "prod_set: {'SoundMax Soundbar', 'CineView 4K TV', 'SoundMax Home Theater', 'CineView OLED TV', 'CineView 8K TV'}\n",
    "\n",
    "prod_set_ideal: {'CineView 8K TV'}\n",
    "\n",
    "response is a superset of the ideal answer\n",
    "\n",
    "incorrect\n",
    "\n",
    "prod_set: {'GameSphere X', 'GameSphere Y', 'ProGamer Racing Wheel', 'ProGamer Controller', 'GameSphere VR Headset'}\n",
    "\n",
    "prod_set_ideal: {'GameSphere X'}\n",
    "\n",
    "response is a superset of the ideal answer\n",
    "\n",
    "4: 0.3333333333333333\n",
    "\n",
    "example 5\n",
    "\n",
    "5: 1.0\n",
    "\n",
    "example 6\n",
    "\n",
    "6: 1.0\n",
    "\n",
    "example 7\n",
    "\n",
    "7: 1.0\n",
    "\n",
    "example 8\n",
    "\n",
    "8: 1.0\n",
    "\n",
    "example 9\n",
    "\n",
    "9: 1\n",
    "\n",
    "Fraction correct out of 10: 0.8333333333333334"
   ]
  },
  {
   "cell_type": "markdown",
   "id": "232e365c",
   "metadata": {},
   "source": [
    "The notebook demonstrates going through steps 1, 2, and 3 of the bulleted list, resulting in a good development set of 10 examples to tune and validate the prompts. For increased rigor, developers can collect a randomly sampled set of around 100 examples, or even go further with a holdout test set for evaluation.\n",
    "\n",
    "For many applications, stopping at step 3 suffices, as it yields a reasonably performing system quickly. However, for safety-critical applications or those with potential harm, a more extensive test set is necessary before deployment.\n",
    "\n",
    "The workflow of building applications using prompts is different from traditional supervised learning, with faster iteration. Despite using a small number of hand-curated examples, the evaluation method can be surprisingly effective in improving prompt effectiveness and system performance."
   ]
  }
 ],
 "metadata": {
  "kernelspec": {
   "display_name": "Python 3 (ipykernel)",
   "language": "python",
   "name": "python3"
  },
  "language_info": {
   "codemirror_mode": {
    "name": "ipython",
    "version": 3
   },
   "file_extension": ".py",
   "mimetype": "text/x-python",
   "name": "python",
   "nbconvert_exporter": "python",
   "pygments_lexer": "ipython3",
   "version": "3.10.10"
  }
 },
 "nbformat": 4,
 "nbformat_minor": 5
}
