{
 "cells": [
  {
   "cell_type": "markdown",
   "id": "4f4ea954",
   "metadata": {},
   "source": [
    "# Building Systems with the ChatGPT API\n",
    "## Introduction\n",
    "In this short course, we'd like to share with \n",
    "you best practices for BUILDING A COMPLEX APPLICATION \n",
    "USING AN LLM. \n",
    "\n",
    "We used the running example of building an end-to-end customer \n",
    "service assistant system that chains multiple \n",
    "calls to a language model, using different instructions depending on \n",
    "the output of the previous call, and sometimes \n",
    "even looking things up from external sources. \n",
    "\n",
    "#### So for example, given a user input like, \"Tell me about what TVs are for sale?\", we'd use the following steps to process this. \n",
    "\n",
    "1. First, you can evaluate the input to make sure it doesn't contain any problematic content, such as hateful speech. \n",
    "2. Next, the system will process the input. It will identify what type of query this is. Is it a complaint or a product information request and so on? \n",
    "3. Once it has established that it is a product inquiry, it will retrieve the relevant information about TVs and use a language model to write a helpful response. \n",
    "4. Finally, you'll check the output to make sure it isn't problematic, such as inaccurate or inappropriate answers. \n"
   ]
  },
  {
   "cell_type": "markdown",
   "id": "cc6d7470",
   "metadata": {},
   "source": [
    "You often want to sequentially process the user \n",
    "input in multiple steps to get to the final output that is \n",
    "then shown to the user. \n",
    "And as you build complex systems using LLMs, \n",
    "over the long term you often want to \n",
    "also keep on improving the system.\n",
    "\n",
    "Through this short course we hope you'll come away confident in \n",
    "your abilities to build a complex multi-step application \n",
    "and also be set up to maintain and keep on improving it. "
   ]
  }
 ],
 "metadata": {
  "kernelspec": {
   "display_name": "Python 3 (ipykernel)",
   "language": "python",
   "name": "python3"
  },
  "language_info": {
   "codemirror_mode": {
    "name": "ipython",
    "version": 3
   },
   "file_extension": ".py",
   "mimetype": "text/x-python",
   "name": "python",
   "nbconvert_exporter": "python",
   "pygments_lexer": "ipython3",
   "version": "3.10.10"
  }
 },
 "nbformat": 4,
 "nbformat_minor": 5
}
