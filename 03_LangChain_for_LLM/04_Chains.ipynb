{
 "cells": [
  {
   "cell_type": "markdown",
   "id": "baed9b1c",
   "metadata": {},
   "source": [
    "# Chains in LangChain\n",
    "\n",
    "## Outline\n",
    "\n",
    "* LLMChain\n",
    "* Sequential Chains\n",
    "  * SimpleSequentialChain\n",
    "  * SequentialChain\n",
    "* Router Chain"
   ]
  },
  {
   "cell_type": "markdown",
   "id": "c646bcdd",
   "metadata": {},
   "source": [
    "The chain usually combines an LLM, large language model, \n",
    "together with a prompt, and with this building block you \n",
    "can also put a bunch of these building blocks \n",
    "together to carry out a sequence of operations on your text or \n",
    "on your other data. "
   ]
  },
  {
   "cell_type": "code",
   "execution_count": null,
   "id": "982ff3f8",
   "metadata": {},
   "outputs": [],
   "source": [
    "import warnings\n",
    "warnings.filterwarnings('ignore')"
   ]
  },
  {
   "cell_type": "code",
   "execution_count": null,
   "id": "0f2a2b47",
   "metadata": {},
   "outputs": [],
   "source": [
    "import os\n",
    "\n",
    "from dotenv import load_dotenv, find_dotenv\n",
    "_ = load_dotenv(find_dotenv()) # read local .env file"
   ]
  },
  {
   "cell_type": "code",
   "execution_count": null,
   "id": "f1783f77",
   "metadata": {},
   "outputs": [],
   "source": [
    "#!pip install pandas"
   ]
  },
  {
   "cell_type": "code",
   "execution_count": null,
   "id": "3f9c7968",
   "metadata": {},
   "outputs": [],
   "source": [
    "import pandas as pd\n",
    "df = pd.read_csv('Data.csv')"
   ]
  },
  {
   "cell_type": "code",
   "execution_count": null,
   "id": "5790e79b",
   "metadata": {},
   "outputs": [],
   "source": [
    "df.head()"
   ]
  },
  {
   "cell_type": "markdown",
   "id": "61ad1029",
   "metadata": {},
   "source": [
    "| Product                | Review                                                                                           |\n",
    "|------------------------|--------------------------------------------------------------------------------------------------|\n",
    "| Queen Size Sheet Set   | I ordered a king size set. My only criticism was that the sheets were a bit too thin for my liking. |\n",
    "| Waterproof Phone Pouch | I loved the waterproof pouch, although the opening was a little tricky to seal at times.        |\n",
    "| Luxury Air Mattress    | This mattress had a small hole in the top of it, causing a bit of discomfort during use.        |\n",
    "| Pillows Insert         | This is the best throw pillow filler on Amazon, provides great support and fluffiness.         |\n",
    "| Milk Frother Handheld  | I loved this product. But they only seem to last for a few months before breaking.              |\n"
   ]
  },
  {
   "cell_type": "markdown",
   "id": "335631f2",
   "metadata": {},
   "source": [
    "## LLMChain"
   ]
  },
  {
   "cell_type": "markdown",
   "id": "7ad868ad",
   "metadata": {},
   "source": [
    "So the first chain we're going to cover is the LLM chain. And \n",
    "this is a simple but really powerful chain \n",
    "that underpins a lot of the chains that we'll go \n",
    "over in the future. \n",
    "And so, we're going to import three different things. We're going \n",
    "to import the OpenAI model, so the LLM. We're going to import the chat prompt \n",
    "template. And so this is the prompt. And then we're \n",
    "going to import the LLM chain. "
   ]
  },
  {
   "cell_type": "code",
   "execution_count": null,
   "id": "3b764695",
   "metadata": {},
   "outputs": [],
   "source": [
    "from langchain.chat_models import ChatOpenAI\n",
    "from langchain.prompts import ChatPromptTemplate\n",
    "from langchain.chains import LLMChain"
   ]
  },
  {
   "cell_type": "markdown",
   "id": "83febbdc",
   "metadata": {},
   "source": [
    "We're going \n",
    "to initialize the language model that we want \n",
    "to use. So we're going to initialize the \n",
    "chat OpenAI with a high temperature so that we can get \n",
    "some fun descriptions. "
   ]
  },
  {
   "cell_type": "code",
   "execution_count": null,
   "id": "db23b185",
   "metadata": {},
   "outputs": [],
   "source": [
    "llm = ChatOpenAI(temperature=0.9)"
   ]
  },
  {
   "cell_type": "code",
   "execution_count": null,
   "id": "0b7473a5",
   "metadata": {},
   "outputs": [],
   "source": [
    "prompt = ChatPromptTemplate.from_template(\n",
    "    \"What is the best name to describe \\\n",
    "    a company that makes {product}?\"\n",
    ")"
   ]
  },
  {
   "cell_type": "markdown",
   "id": "4e3b53e7",
   "metadata": {},
   "source": [
    "LLM chain = It's just the combination of the LLM \n",
    "and the prompt."
   ]
  },
  {
   "cell_type": "code",
   "execution_count": null,
   "id": "8f66c1ab",
   "metadata": {},
   "outputs": [],
   "source": [
    "chain = LLMChain(llm=llm, prompt=prompt)"
   ]
  },
  {
   "cell_type": "code",
   "execution_count": null,
   "id": "d59a0586",
   "metadata": {},
   "outputs": [],
   "source": [
    "product = \"Queen Size Sheet Set\"\n",
    "chain.run(product)\n",
    "# it will format the prompt under the hood, and then it will pass the whole prompt into the LLM."
   ]
  },
  {
   "cell_type": "markdown",
   "id": "b907d4bb",
   "metadata": {},
   "source": [
    "*OUTPUT*\n",
    "\n",
    "'Royal Rest'"
   ]
  },
  {
   "cell_type": "markdown",
   "id": "7dfa840a",
   "metadata": {},
   "source": [
    "![Chain](immagini/08_chain.png)"
   ]
  },
  {
   "cell_type": "markdown",
   "id": "bcf1223d",
   "metadata": {},
   "source": [
    "So the LLM chain is the most basic type of chain. \n",
    "And that's going to be used a lot in the future. And \n",
    "so we can see how this will be used in \n",
    "the next type of chain, which will be sequential chains. And \n",
    "so sequential chains run a sequence of chains \n",
    "one after another. "
   ]
  },
  {
   "cell_type": "markdown",
   "id": "77799fb8",
   "metadata": {},
   "source": [
    "## SimpleSequentialChain"
   ]
  },
  {
   "cell_type": "code",
   "execution_count": null,
   "id": "97790f26",
   "metadata": {},
   "outputs": [],
   "source": [
    "from langchain.chains import SimpleSequentialChain"
   ]
  },
  {
   "cell_type": "code",
   "execution_count": null,
   "id": "61e65508",
   "metadata": {},
   "outputs": [],
   "source": [
    "llm = ChatOpenAI(temperature=0.9)\n",
    "\n",
    "# prompt template 1\n",
    "first_prompt = ChatPromptTemplate.from_template(\n",
    "    \"What is the best name to describe \\\n",
    "    a company that makes {product}?\"\n",
    ")\n",
    "\n",
    "# Chain 1\n",
    "chain_one = LLMChain(llm=llm, prompt=first_prompt)"
   ]
  },
  {
   "cell_type": "code",
   "execution_count": null,
   "id": "89bdcd94",
   "metadata": {},
   "outputs": [],
   "source": [
    "\n",
    "# prompt template 2\n",
    "second_prompt = ChatPromptTemplate.from_template(\n",
    "    \"Write a 20 words description for the following \\\n",
    "    company:{company_name}\"\n",
    ")\n",
    "# chain 2\n",
    "chain_two = LLMChain(llm=llm, prompt=second_prompt)"
   ]
  },
  {
   "cell_type": "code",
   "execution_count": null,
   "id": "da99f9c6",
   "metadata": {},
   "outputs": [],
   "source": [
    "overall_simple_chain = SimpleSequentialChain(chains=[chain_one, chain_two],\n",
    "                                             verbose=True\n",
    "                                            )"
   ]
  },
  {
   "cell_type": "code",
   "execution_count": null,
   "id": "e2351ac0",
   "metadata": {},
   "outputs": [],
   "source": [
    "overall_simple_chain.run(product)"
   ]
  },
  {
   "cell_type": "markdown",
   "id": "5c1f5fe6",
   "metadata": {},
   "source": [
    "*OUTPUT*\n",
    "```\n",
    "> Entering new SimpleSequentialChain chain...\n",
    "\"Regal Rest Linens\"\n",
    "Regal Rest Linens offers luxurious and comfortable bed linens, ensuring a peaceful and restful night's sleep for customers.\n",
    "\n",
    "> Finished chain.\n",
    "\"Regal Rest Linens offers luxurious and comfortable bed linens, ensuring a peaceful and restful night's sleep for customers.\"\n",
    "```"
   ]
  },
  {
   "cell_type": "markdown",
   "id": "1cb3518c",
   "metadata": {},
   "source": [
    "The simple sequential chain works well when there's \n",
    "only a single input and a single output. \n",
    "But what about when there are multiple inputs or multiple outputs? \n",
    "And so we can do this by using just the regular sequential chain. "
   ]
  },
  {
   "cell_type": "markdown",
   "id": "b742b243",
   "metadata": {},
   "source": [
    "## SequentialChain"
   ]
  },
  {
   "cell_type": "code",
   "execution_count": null,
   "id": "0ceaae21",
   "metadata": {},
   "outputs": [],
   "source": [
    "from langchain.chains import SequentialChain"
   ]
  },
  {
   "cell_type": "code",
   "execution_count": null,
   "id": "ed037b57",
   "metadata": {},
   "outputs": [],
   "source": [
    "llm = ChatOpenAI(temperature=0.9)\n",
    "\n",
    "# prompt template 1: translate to english\n",
    "first_prompt = ChatPromptTemplate.from_template(\n",
    "    \"Translate the following review to english:\"\n",
    "    \"\\n\\n{Review}\"\n",
    ")\n",
    "# chain 1: input= Review and output= English_Review\n",
    "chain_one = LLMChain(llm=llm, prompt=first_prompt, \n",
    "                     output_key=\"English_Review\"\n",
    "                    )\n"
   ]
  },
  {
   "cell_type": "code",
   "execution_count": null,
   "id": "71327623",
   "metadata": {},
   "outputs": [],
   "source": [
    "second_prompt = ChatPromptTemplate.from_template(\n",
    "    \"Can you summarize the following review in 1 sentence:\"\n",
    "    \"\\n\\n{English_Review}\"\n",
    ")\n",
    "# chain 2: input= English_Review and output= summary\n",
    "chain_two = LLMChain(llm=llm, prompt=second_prompt, \n",
    "                     output_key=\"summary\"\n",
    "                    )\n"
   ]
  },
  {
   "cell_type": "code",
   "execution_count": null,
   "id": "7e428a29",
   "metadata": {},
   "outputs": [],
   "source": [
    "# prompt template 3: translate to english\n",
    "third_prompt = ChatPromptTemplate.from_template(\n",
    "    \"What language is the following review:\\n\\n{Review}\"\n",
    ")\n",
    "# chain 3: input= Review and output= language\n",
    "chain_three = LLMChain(llm=llm, prompt=third_prompt,\n",
    "                       output_key=\"language\"\n",
    "                      )\n"
   ]
  },
  {
   "cell_type": "code",
   "execution_count": null,
   "id": "e9980f87",
   "metadata": {},
   "outputs": [],
   "source": [
    "\n",
    "# prompt template 4: follow up message\n",
    "fourth_prompt = ChatPromptTemplate.from_template(\n",
    "    \"Write a follow up response to the following \"\n",
    "    \"summary in the specified language:\"\n",
    "    \"\\n\\nSummary: {summary}\\n\\nLanguage: {language}\"\n",
    ")\n",
    "# chain 4: input= summary, language and output= followup_message\n",
    "chain_four = LLMChain(llm=llm, prompt=fourth_prompt,\n",
    "                      output_key=\"followup_message\"\n",
    "                     )\n"
   ]
  },
  {
   "cell_type": "markdown",
   "id": "488e6e93",
   "metadata": {},
   "source": [
    "One important thing to note about all these subchains \n",
    "is that the input keys and output keys \n",
    "need to be pretty precise."
   ]
  },
  {
   "cell_type": "markdown",
   "id": "a3e29990",
   "metadata": {},
   "source": [
    "![Chain](immagini/09_chain.png)"
   ]
  },
  {
   "cell_type": "markdown",
   "id": "6dd65488",
   "metadata": {},
   "source": [
    " The simple sequential chain takes in multiple chains, \n",
    "where each one has a single input and a single output. \n",
    "To see a visual representation of this, we can look at the slide, \n",
    "where it has one chain \n",
    "feeding into the other chain, one after another. \n",
    "Here we can see a visual description of the sequential chain. \n",
    "Comparing it to the above chain, you can notice that any \n",
    "step in the chain can take in multiple input variables. \n",
    "This is useful when you have more complicated downstream \n",
    "chains that need to be a composition of multiple \n",
    "previous chains. \n",
    "\n",
    "We have all these chains, we can easily combine \n",
    "them in the sequential chain. You'll notice here that we'll pass \n",
    "in the four chains we created into the \n",
    "chains variable. We'll create the inputs variable with the one \n",
    "human input, which is the review. \n",
    "And then we want to return all the intermediate outputs. \n",
    "So the English review, the summary, and then the follow-up message. "
   ]
  },
  {
   "cell_type": "code",
   "execution_count": null,
   "id": "80f2eb5f",
   "metadata": {},
   "outputs": [],
   "source": [
    "# overall_chain: input= Review \n",
    "# and output= English_Review,summary, followup_message\n",
    "overall_chain = SequentialChain(\n",
    "    chains=[chain_one, chain_two, chain_three, chain_four],\n",
    "    input_variables=[\"Review\"],\n",
    "    output_variables=[\"English_Review\", \"summary\",\"followup_message\"],\n",
    "    verbose=True\n",
    ")"
   ]
  },
  {
   "cell_type": "markdown",
   "id": "d360183d",
   "metadata": {},
   "source": [
    "We can run this over some of the data. "
   ]
  },
  {
   "cell_type": "code",
   "execution_count": null,
   "id": "364feabc",
   "metadata": {},
   "outputs": [],
   "source": [
    "review = df.Review[5]\n",
    "overall_chain(review)"
   ]
  },
  {
   "cell_type": "markdown",
   "id": "b891279f",
   "metadata": {},
   "source": [
    "```\n",
    "> Entering new SequentialChain chain...\n",
    "\n",
    "> Finished chain.\n",
    "{'Review': \"Je trouve le goût médiocre. La mousse ne tient pas, c'est bizarre. J'achète les mêmes dans le commerce et le goût est bien meilleur...\\nVieux lot ou contrefaçon !?\",\n",
    " 'English_Review': \"I find the taste mediocre. The foam doesn't last, it's weird. I buy the same ones in stores and the taste is much better...\\nOld batch or counterfeit?!\",\n",
    " 'summary': 'The reviewer is disappointed with the mediocre taste, lack of foam longevity, and suspects the possibility of receiving either an old batch or counterfeit product compared to the better-tasting ones purchased from physical stores.',\n",
    " 'followup_message': \"Réponse: Cher(e) client(e),\\n\\nNous vous remercions d'avoir partagé votre expérience avec notre produit. Nous sommes désolés d'apprendre que vous avez été déçu(e) par le goût moyen et la faible longévité de la mousse. Nous tenons à vous assurer que nous prenons vos commentaires très au sérieux.\\n\\nIl est important pour nous de fournir à nos clients des produits de haute qualité. Nous nous excusons si vous avez reçu un produit qui ne correspondait pas à vos attentes. Si vous pensez avoir reçu un vieux lot ou une contrefaçon, nous vous encourageons vivement à nous contacter directement afin de résoudre ce problème.\\n\\nNous avons à cœur de satisfaire nos clients et nous aimerions avoir l'opportunité de rectifier cette situation. Votre satisfaction est notre priorité.\\n\\nEncore une fois, nous vous remercions d'avoir pris le temps de partager votre avis. Nous espérons avoir l'occasion de regagner votre confiance et de vous offrir une expérience positive à l'avenir.\\n\\nCordialement,\\nL'équipe du service client\"}\n",
    " ```"
   ]
  },
  {
   "cell_type": "markdown",
   "id": "d689a9ac",
   "metadata": {},
   "source": [
    "A pretty common but basic operation is to \n",
    "route an input to a chain depending on \n",
    "what exactly that input is. \n",
    "A good way to imagine this is if you have multiple sub chains, \n",
    "each of which specialized for a particular type of input, \n",
    "you could have a router chain which first \n",
    "decides which subchain to pass it to and then passes it to \n",
    "that chain. "
   ]
  },
  {
   "cell_type": "markdown",
   "id": "e7840dd6",
   "metadata": {},
   "source": [
    "![Chain](immagini/11_chain.png)"
   ]
  },
  {
   "cell_type": "markdown",
   "id": "93350f4d",
   "metadata": {},
   "source": [
    "## Router Chain"
   ]
  },
  {
   "cell_type": "code",
   "execution_count": null,
   "id": "ee4a1a02",
   "metadata": {},
   "outputs": [],
   "source": [
    "physics_template = \"\"\"You are a very smart physics professor. \\\n",
    "You are great at answering questions about physics in a concise\\\n",
    "and easy to understand manner. \\\n",
    "When you don't know the answer to a question you admit\\\n",
    "that you don't know.\n",
    "\n",
    "Here is a question:\n",
    "{input}\"\"\"\n",
    "\n",
    "\n",
    "math_template = \"\"\"You are a very good mathematician. \\\n",
    "You are great at answering math questions. \\\n",
    "You are so good because you are able to break down \\\n",
    "hard problems into their component parts, \n",
    "answer the component parts, and then put them together\\\n",
    "to answer the broader question.\n",
    "\n",
    "Here is a question:\n",
    "{input}\"\"\"\n",
    "\n",
    "history_template = \"\"\"You are a very good historian. \\\n",
    "You have an excellent knowledge of and understanding of people,\\\n",
    "events and contexts from a range of historical periods. \\\n",
    "You have the ability to think, reflect, debate, discuss and \\\n",
    "evaluate the past. You have a respect for historical evidence\\\n",
    "and the ability to make use of it to support your explanations \\\n",
    "and judgements.\n",
    "\n",
    "Here is a question:\n",
    "{input}\"\"\"\n",
    "\n",
    "\n",
    "computerscience_template = \"\"\" You are a successful computer scientist.\\\n",
    "You have a passion for creativity, collaboration,\\\n",
    "forward-thinking, confidence, strong problem-solving capabilities,\\\n",
    "understanding of theories and algorithms, and excellent communication \\\n",
    "skills. You are great at answering coding questions. \\\n",
    "You are so good because you know how to solve a problem by \\\n",
    "describing the solution in imperative steps \\\n",
    "that a machine can easily interpret and you know how to \\\n",
    "choose a solution that has a good balance between \\\n",
    "time complexity and space complexity. \n",
    "\n",
    "Here is a question:\n",
    "{input}\"\"\""
   ]
  },
  {
   "cell_type": "code",
   "execution_count": null,
   "id": "e081b64d",
   "metadata": {},
   "outputs": [],
   "source": [
    "prompt_infos = [\n",
    "    {\n",
    "        \"name\": \"physics\", \n",
    "        \"description\": \"Good for answering questions about physics\", \n",
    "        \"prompt_template\": physics_template\n",
    "    },\n",
    "    {\n",
    "        \"name\": \"math\", \n",
    "        \"description\": \"Good for answering math questions\", \n",
    "        \"prompt_template\": math_template\n",
    "    },\n",
    "    {\n",
    "        \"name\": \"History\", \n",
    "        \"description\": \"Good for answering history questions\", \n",
    "        \"prompt_template\": history_template\n",
    "    },\n",
    "    {\n",
    "        \"name\": \"computer science\", \n",
    "        \"description\": \"Good for answering computer science questions\", \n",
    "        \"prompt_template\": computerscience_template\n",
    "    }\n",
    "]"
   ]
  },
  {
   "cell_type": "markdown",
   "id": "bcfc56ba",
   "metadata": {},
   "source": [
    "Here we need a multi-prompt chain. \n",
    "This is a specific type of chain that is used when routing \n",
    "between multiple different prompt templates. \n",
    "\n",
    "\n",
    "LLM router chain: \n",
    "This uses a language model itself to route \n",
    "between the different subchains. This is where the \n",
    "description and the name provided above will be used. \n",
    "We'll also import a router output parser. \n",
    "This parses the LLM output into a dictionary \n",
    "that can be used downstream to determine which \n",
    "chain to use and what the input to that chain should be. "
   ]
  },
  {
   "cell_type": "code",
   "execution_count": null,
   "id": "d2155c15",
   "metadata": {},
   "outputs": [],
   "source": [
    "from langchain.chains.router import MultiPromptChain\n",
    "from langchain.chains.router.llm_router import LLMRouterChain,RouterOutputParser\n",
    "from langchain.prompts import PromptTemplate\n",
    "\n",
    "# LLMRouterChain = This uses a language model itself to route between the different subchains.\n",
    "# This is where the description and the name provided above will be used. \n",
    "# RouterOutputParser =  This parses the LLM output into a dictionary that can be used downstream to determine which \n",
    "# chain to use and what the input to that chain should be."
   ]
  },
  {
   "cell_type": "code",
   "execution_count": null,
   "id": "e624ed80",
   "metadata": {},
   "outputs": [],
   "source": [
    "llm = ChatOpenAI(temperature=0)"
   ]
  },
  {
   "cell_type": "code",
   "execution_count": null,
   "id": "d7742c51",
   "metadata": {},
   "outputs": [],
   "source": [
    "destination_chains = {}\n",
    "for p_info in prompt_infos:\n",
    "    name = p_info[\"name\"]\n",
    "    prompt_template = p_info[\"prompt_template\"]\n",
    "    prompt = ChatPromptTemplate.from_template(template=prompt_template)\n",
    "    chain = LLMChain(llm=llm, prompt=prompt)\n",
    "    destination_chains[name] = chain  \n",
    "    \n",
    "destinations = [f\"{p['name']}: {p['description']}\" for p in prompt_infos]\n",
    "destinations_str = \"\\n\".join(destinations)"
   ]
  },
  {
   "cell_type": "markdown",
   "id": "3d628123",
   "metadata": {},
   "source": [
    "These are the chains \n",
    "that will be called by the router chain. \n",
    "As you can see, each destination chain itself \n",
    "is a language model chain, an LLM chain. \n",
    "In addition to the destination chains, we also need a default chain. \n",
    "This is the chain that's called when the router can't decide \n",
    "which of the subchains to use."
   ]
  },
  {
   "cell_type": "code",
   "execution_count": null,
   "id": "015b7cd3",
   "metadata": {},
   "outputs": [],
   "source": [
    "default_prompt = ChatPromptTemplate.from_template(\"{input}\")\n",
    "default_chain = LLMChain(llm=llm, prompt=default_prompt)"
   ]
  },
  {
   "cell_type": "code",
   "execution_count": null,
   "id": "aa62f5aa",
   "metadata": {},
   "outputs": [],
   "source": [
    "MULTI_PROMPT_ROUTER_TEMPLATE = \"\"\"Given a raw text input to a \\\n",
    "language model select the model prompt best suited for the input. \\\n",
    "You will be given the names of the available prompts and a \\\n",
    "description of what the prompt is best suited for. \\\n",
    "You may also revise the original input if you think that revising\\\n",
    "it will ultimately lead to a better response from the language model.\n",
    "\n",
    "<< FORMATTING >>\n",
    "Return a markdown code snippet with a JSON object formatted to look like:\n",
    "```json\n",
    "{{{{\n",
    "    \"destination\": string \\ name of the prompt to use or \"DEFAULT\"\n",
    "    \"next_inputs\": string \\ a potentially modified version of the original input\n",
    "}}}}\n",
    "```\n",
    "\n",
    "REMEMBER: \"destination\" MUST be one of the candidate prompt \\\n",
    "names specified below OR it can be \"DEFAULT\" if the input is not\\\n",
    "well suited for any of the candidate prompts.\n",
    "REMEMBER: \"next_inputs\" can just be the original input \\\n",
    "if you don't think any modifications are needed.\n",
    "\n",
    "<< CANDIDATE PROMPTS >>\n",
    "{destinations}\n",
    "\n",
    "<< INPUT >>\n",
    "{{input}}\n",
    "\n",
    "<< OUTPUT (remember to include the ```json)>>\"\"\""
   ]
  },
  {
   "cell_type": "code",
   "execution_count": null,
   "id": "9860f81e",
   "metadata": {},
   "outputs": [],
   "source": [
    "router_template = MULTI_PROMPT_ROUTER_TEMPLATE.format(\n",
    "    destinations=destinations_str\n",
    ")\n",
    "router_prompt = PromptTemplate(\n",
    "    template=router_template,\n",
    "    input_variables=[\"input\"],\n",
    "    output_parser=RouterOutputParser(),\n",
    ")\n",
    "\n",
    "router_chain = LLMRouterChain.from_llm(llm, router_prompt)"
   ]
  },
  {
   "cell_type": "markdown",
   "id": "4d20b789",
   "metadata": {},
   "source": [
    "Note that here we have the router output parser. \n",
    "This is important as it will help this chain \n",
    "decide which subchains to route between. \n",
    "And finally, putting it all together, we can create \n",
    "the overall chain. "
   ]
  },
  {
   "cell_type": "code",
   "execution_count": null,
   "id": "885cd2a9",
   "metadata": {},
   "outputs": [],
   "source": [
    "chain = MultiPromptChain(router_chain=router_chain, \n",
    "                         destination_chains=destination_chains, \n",
    "                         default_chain=default_chain, verbose=True\n",
    "                        )"
   ]
  },
  {
   "cell_type": "code",
   "execution_count": null,
   "id": "e44ca6d0",
   "metadata": {},
   "outputs": [],
   "source": [
    "chain.run(\"What is black body radiation?\")"
   ]
  },
  {
   "cell_type": "markdown",
   "id": "29b626e8",
   "metadata": {},
   "source": [
    "![Chain](immagini/12_chain.png)"
   ]
  },
  {
   "cell_type": "code",
   "execution_count": null,
   "id": "e8805b79",
   "metadata": {},
   "outputs": [],
   "source": [
    "chain.run(\"what is 2 + 2\")"
   ]
  },
  {
   "cell_type": "markdown",
   "id": "d866b630",
   "metadata": {},
   "source": [
    "![Chain](immagini/13_chain.png)"
   ]
  },
  {
   "cell_type": "code",
   "execution_count": null,
   "id": "1016db3a",
   "metadata": {},
   "outputs": [],
   "source": [
    "chain.run(\"Why does every cell in our body contain DNA?\")"
   ]
  },
  {
   "cell_type": "markdown",
   "id": "ffd9a7dc",
   "metadata": {},
   "source": [
    "![Chain](immagini/14_chain.png)"
   ]
  }
 ],
 "metadata": {
  "kernelspec": {
   "display_name": "Python 3 (ipykernel)",
   "language": "python",
   "name": "python3"
  },
  "language_info": {
   "codemirror_mode": {
    "name": "ipython",
    "version": 3
   },
   "file_extension": ".py",
   "mimetype": "text/x-python",
   "name": "python",
   "nbconvert_exporter": "python",
   "pygments_lexer": "ipython3",
   "version": "3.10.10"
  }
 },
 "nbformat": 4,
 "nbformat_minor": 5
}
