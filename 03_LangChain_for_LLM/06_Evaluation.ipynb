{
 "cells": [
  {
   "cell_type": "markdown",
   "id": "2c867f91",
   "metadata": {},
   "source": [
    "# LangChain: Evaluation\n",
    "\n",
    "## Outline:\n",
    "\n",
    "* Example generation\n",
    "* Manual evaluation (and debuging)\n",
    "* LLM-assisted evaluation"
   ]
  },
  {
   "cell_type": "markdown",
   "id": "5be4e487",
   "metadata": {},
   "source": [
    "When building a complex application using an LLM, one of the \n",
    "important but sometimes tricky steps is how do you \n",
    "evaluate how well your application is doing? \n",
    "\n",
    "Is it meeting some accuracy criteria? \n",
    "\n",
    "And also, if you decide to change your implementation, \n",
    "maybe swap in a different LLM, or change the strategy \n",
    "of how you use a vector database or something else to retrieve chunks, \n",
    "or change some other parameters of your system, \n",
    "how do you know if you're making it better or worse?\n",
    "\n",
    "**Frameworks on how to think about evaluating a LLM-based application**\n",
    "\n",
    "These applications are really chains and sequences of \n",
    "a lot of different steps. And so honestly, part of the first \n",
    "thing that you should do is just understand \n",
    "what exactly is going in and coming out of each step. \n",
    "And so some of the tools can really just be thought of \n",
    "as visualizers or debuggers in that vein. \n",
    "But it's often really useful to get a more holistic picture on a lot \n",
    "of different data points of how the model is doing. And \n",
    "one way to do that is by looking at things by eye. But \n",
    "there's also this really cool idea of using language models themselves \n",
    "and chains themselves to evaluate other \n",
    "language models, and other chains, and other \n",
    "applications."
   ]
  },
  {
   "cell_type": "markdown",
   "id": "1e514aea",
   "metadata": {},
   "source": [
    "## Import API key"
   ]
  },
  {
   "cell_type": "code",
   "execution_count": null,
   "id": "390444a7",
   "metadata": {},
   "outputs": [],
   "source": [
    "import os\n",
    "\n",
    "from dotenv import load_dotenv, find_dotenv\n",
    "_ = load_dotenv(find_dotenv()) # read local .env file"
   ]
  },
  {
   "cell_type": "markdown",
   "id": "777d561d",
   "metadata": {},
   "source": [
    "## Create our QandA application"
   ]
  },
  {
   "cell_type": "markdown",
   "id": "5c783ffd",
   "metadata": {},
   "source": [
    "First, we \n",
    "need to have the chain or the application that we're going \n",
    "to evaluate in the first place. \n",
    "And we're going to use the document question answering chain \n",
    "from the previous lesson. "
   ]
  },
  {
   "cell_type": "code",
   "execution_count": null,
   "id": "23fd7b18",
   "metadata": {},
   "outputs": [],
   "source": [
    "# import everything we need\n",
    "from langchain.chains import RetrievalQA\n",
    "from langchain.chat_models import ChatOpenAI\n",
    "from langchain.document_loaders import CSVLoader\n",
    "from langchain.indexes import VectorstoreIndexCreator\n",
    "from langchain.vectorstores import DocArrayInMemorySearch"
   ]
  },
  {
   "cell_type": "code",
   "execution_count": null,
   "id": "1ee7eaaa",
   "metadata": {},
   "outputs": [],
   "source": [
    "# load the same data that we were using\n",
    "\n",
    "file = 'OutdoorClothingCatalog_1000.csv'\n",
    "loader = CSVLoader(file_path=file)\n",
    "data = loader.load()"
   ]
  },
  {
   "cell_type": "code",
   "execution_count": null,
   "id": "f4381be7",
   "metadata": {},
   "outputs": [],
   "source": [
    "# create that index with one line\n",
    "\n",
    "index = VectorstoreIndexCreator(\n",
    "    vectorstore_cls=DocArrayInMemorySearch\n",
    ").from_loaders([loader])"
   ]
  },
  {
   "cell_type": "code",
   "execution_count": null,
   "id": "f8418f77",
   "metadata": {},
   "outputs": [],
   "source": [
    "# create the retrieval QA chain by specifying the language model, the chain type, the retriever,\n",
    "# and then the verbosity that we're going to print out\n",
    "\n",
    "llm = ChatOpenAI(temperature = 0.0)\n",
    "qa = RetrievalQA.from_chain_type(\n",
    "    llm=llm, \n",
    "    chain_type=\"stuff\", \n",
    "    retriever=index.vectorstore.as_retriever(), \n",
    "    verbose=True,\n",
    "    chain_type_kwargs = {\n",
    "        \"document_separator\": \"<<<<>>>>>\"\n",
    "    }\n",
    ")"
   ]
  },
  {
   "cell_type": "markdown",
   "id": "a6c1d9e1",
   "metadata": {},
   "source": [
    "We need to really figure out what are \n",
    "some data points that we want to evaluate it on.\n",
    "\n",
    "- The first method is the most simple, which is basically we're \n",
    "going to come up with data points that we think \n",
    "are good examples ourselves. \n",
    "And so to do that, we can just look at some of the data and come up \n",
    "with example questions and then example ground truth \n",
    "answers that we can later use to evaluate."
   ]
  },
  {
   "cell_type": "markdown",
   "id": "94c4bb31",
   "metadata": {},
   "source": [
    "### Coming up with test datapoints"
   ]
  },
  {
   "cell_type": "code",
   "execution_count": null,
   "id": "a4d2125c",
   "metadata": {},
   "outputs": [],
   "source": [
    "data[10]"
   ]
  },
  {
   "cell_type": "markdown",
   "id": "54c1dad8",
   "metadata": {},
   "source": [
    "*OUTPUT*\n"
   ]
  },
  {
   "cell_type": "markdown",
   "id": "f0181cba",
   "metadata": {},
   "source": [
    "```\n",
    "Document(page_content=\": 10\\nname: Cozy Comfort Pullover Set, Stripe\\ndescription: Perfect for lounging, this striped knit set lives up to its name. We used ultrasoft fabric and an easy design that's as comfortable at bedtime as it is when we have to make a quick run out.\\n\\nSize & Fit\\n- Pants are Favorite Fit: Sits lower on the waist.\\n- Relaxed Fit: Our most generous fit sits farthest from the body.\\n\\nFabric & Care\\n- In the softest blend of 63% polyester, 35% rayon and 2% spandex.\\n\\nAdditional Features\\n- Relaxed fit top with raglan sleeves and rounded hem.\\n- Pull-on pants have a wide elastic waistband and drawstring, side pockets and a modern slim leg.\\n\\nImported.\", metadata={'source': 'OutdoorClothingCatalog_1000.csv', 'row': 10})\n",
    "```"
   ]
  },
  {
   "cell_type": "code",
   "execution_count": null,
   "id": "afb231a8",
   "metadata": {},
   "outputs": [],
   "source": [
    "data[11]"
   ]
  },
  {
   "cell_type": "markdown",
   "id": "3bc0c1f2",
   "metadata": {},
   "source": [
    "*OUTPUT*\n"
   ]
  },
  {
   "cell_type": "markdown",
   "id": "9a5da803",
   "metadata": {},
   "source": [
    "```\n",
    "Document(page_content=': 11\\nname: Ultra-Lofty 850 Stretch Down Hooded Jacket\\ndescription: This technical stretch down jacket from our DownTek collection is sure to keep you warm and comfortable with its full-stretch construction providing exceptional range of motion. With a slightly fitted style that falls at the hip and best with a midweight layer, this jacket is suitable for light activity up to 20° and moderate activity up to -30°. The soft and durable 100% polyester shell offers complete windproof protection and is insulated with warm, lofty goose down. Other features include welded baffles for a no-stitch construction and excellent stretch, an adjustable hood, an interior media port and mesh stash pocket and a hem drawcord. Machine wash and dry. Imported.', metadata={'source': 'OutdoorClothingCatalog_1000.csv', 'row': 11})\n",
    "```"
   ]
  },
  {
   "cell_type": "markdown",
   "id": "ebbee654",
   "metadata": {},
   "source": [
    "### Hard-coded examples"
   ]
  },
  {
   "cell_type": "code",
   "execution_count": null,
   "id": "5ac59f13",
   "metadata": {},
   "outputs": [],
   "source": [
    "# we can create some example query and answer pairs.\n",
    "\n",
    "examples = [\n",
    "    {\n",
    "        \"query\": \"Do the Cozy Comfort Pullover Set\\\n",
    "        have side pockets?\",\n",
    "        \"answer\": \"Yes\"\n",
    "    },\n",
    "    {\n",
    "        \"query\": \"What collection is the Ultra-Lofty \\\n",
    "        850 Stretch Down Hooded Jacket from?\",\n",
    "        \"answer\": \"The DownTek collection\"\n",
    "    }\n",
    "]"
   ]
  },
  {
   "cell_type": "markdown",
   "id": "1bb3d20e",
   "metadata": {},
   "source": [
    "So here we've \n",
    "created two examples. \n",
    "But this doesn't really scale that well. It \n",
    "takes a bit of time to look through each example \n",
    "and figure out what's going on. And so is there a way that \n",
    "we can automate it? \n",
    "\n",
    "We think we can automate it is with language models themselves. "
   ]
  },
  {
   "cell_type": "markdown",
   "id": "d966b617",
   "metadata": {},
   "source": [
    "### LLM-Generated examples"
   ]
  },
  {
   "cell_type": "code",
   "execution_count": null,
   "id": "c9e86ae7",
   "metadata": {},
   "outputs": [],
   "source": [
    "#  import the QA generation chain\n",
    "\n",
    "from langchain.evaluation.qa import QAGenerateChain\n",
    "\n",
    "# this will take in documents and it will create a question answer pair from each document. "
   ]
  },
  {
   "cell_type": "code",
   "execution_count": null,
   "id": "50c21439",
   "metadata": {},
   "outputs": [],
   "source": [
    "# create this chain by passing in the Chat OpenAI language model\n",
    "\n",
    "example_gen_chain = QAGenerateChain.from_llm(ChatOpenAI())"
   ]
  },
  {
   "cell_type": "code",
   "execution_count": null,
   "id": "2f8930ee",
   "metadata": {},
   "outputs": [],
   "source": [
    "# create a bunch of examples. \n",
    "# And so we're going to use the apply and parse method because this is applying an output parser to \n",
    "# the result because we want to get back a dictionary that has the query and answer pair, not \n",
    "# just a single string. \n",
    "\n",
    "new_examples = example_gen_chain.apply_and_parse(\n",
    "    [{\"doc\": t} for t in data[:5]]\n",
    ")"
   ]
  },
  {
   "cell_type": "markdown",
   "id": "3b987509",
   "metadata": {},
   "source": [
    "What exactly is returned here, \n",
    "we can see a query, and we can see an answer, and let's \n",
    "check the document that this is a question and answer for."
   ]
  },
  {
   "cell_type": "code",
   "execution_count": null,
   "id": "d4bd613f",
   "metadata": {},
   "outputs": [],
   "source": [
    "new_examples[0]"
   ]
  },
  {
   "cell_type": "markdown",
   "id": "bde19521",
   "metadata": {},
   "source": [
    "*OUTPUT*\n"
   ]
  },
  {
   "cell_type": "markdown",
   "id": "8cd3aff6",
   "metadata": {},
   "source": [
    "```\n",
    "{'query': \"What is the weight of each pair of Women's Campside Oxfords?\",\n",
    " 'answer': \"The approximate weight of each pair of Women's Campside Oxfords is 1 lb. 1 oz.\"}\n",
    " ```"
   ]
  },
  {
   "cell_type": "markdown",
   "id": "b0c8fbad",
   "metadata": {},
   "source": [
    "We just generated a bunch of question-answer pairs. We didn't \n",
    "have to write it all ourselves. Saves us a bunch of \n",
    "time"
   ]
  },
  {
   "cell_type": "code",
   "execution_count": null,
   "id": "eae0ab82",
   "metadata": {},
   "outputs": [],
   "source": [
    "data[0]"
   ]
  },
  {
   "cell_type": "markdown",
   "id": "a02075e4",
   "metadata": {},
   "source": [
    "*OUTPUT*\n"
   ]
  },
  {
   "cell_type": "markdown",
   "id": "d2c2e965",
   "metadata": {},
   "source": [
    "```\n",
    "Document(page_content=\": 0\\nname: Women's Campside Oxfords\\ndescription: This ultracomfortable lace-to-toe Oxford boasts a super-soft canvas, thick cushioning, and quality construction for a broken-in feel from the first time you put them on. \\n\\nSize & Fit: Order regular shoe size. For half sizes not offered, order up to next whole size. \\n\\nSpecs: Approx. weight: 1 lb.1 oz. per pair. \\n\\nConstruction: Soft canvas material for a broken-in feel and look. Comfortable EVA innersole with Cleansport NXT® antimicrobial odor control. Vintage hunt, fish and camping motif on innersole. Moderate arch contour of innersole. EVA foam midsole for cushioning and support. Chain-tread-inspired molded rubber outsole with modified chain-tread pattern. Imported. \\n\\nQuestions? Please contact us for any inquiries.\", metadata={'source': 'OutdoorClothingCatalog_1000.csv', 'row': 0})\n",
    "```"
   ]
  },
  {
   "cell_type": "markdown",
   "id": "b9841af5",
   "metadata": {},
   "source": [
    "### Combine examples"
   ]
  },
  {
   "cell_type": "code",
   "execution_count": null,
   "id": "79cab618",
   "metadata": {},
   "outputs": [],
   "source": [
    "# add these examples into the examples that we already created\n",
    "\n",
    "examples += new_examples"
   ]
  },
  {
   "cell_type": "markdown",
   "id": "35d9819b",
   "metadata": {},
   "source": [
    "How exactly do we evaluate what's going on?\n",
    "\n",
    "The first thing we want to do is just run \n",
    "an example through the chain, and take a look at the output it \n",
    "produces. "
   ]
  },
  {
   "cell_type": "code",
   "execution_count": null,
   "id": "b9f5dcf5",
   "metadata": {},
   "outputs": [],
   "source": [
    "qa.run(examples[0][\"query\"])"
   ]
  },
  {
   "cell_type": "markdown",
   "id": "7713f815",
   "metadata": {},
   "source": [
    "*OUTPUT*\n"
   ]
  },
  {
   "cell_type": "markdown",
   "id": "dce4697e",
   "metadata": {},
   "source": [
    "```\n",
    "> Entering new RetrievalQA chain...\n",
    "\n",
    "> Finished chain.\n",
    "'The Cozy Comfort Pullover Set, Stripe does have side pockets.'\n",
    "```"
   ]
  },
  {
   "cell_type": "markdown",
   "id": "69b4235f",
   "metadata": {},
   "source": [
    "This is a little bit limiting in terms \n",
    "of what we can see that's actually happening inside the chain. \n",
    " \n",
    "What is the actual prompt that's going into the language model? What \n",
    "are the documents that it retrieves? If this were a more \n",
    "complex chain with multiple steps in it, what \n",
    "are the intermediate results? \n",
    "It's oftentimes **not enough to just look at the final answer to understand \n",
    "what is or could be going wrong in the chain.**"
   ]
  },
  {
   "cell_type": "markdown",
   "id": "15cf8a39",
   "metadata": {},
   "source": [
    "## Manual Evaluation"
   ]
  },
  {
   "cell_type": "code",
   "execution_count": null,
   "id": "04d6692d",
   "metadata": {},
   "outputs": [],
   "source": [
    "# fun little util in LangChain called \"langchain.debug\"\n",
    "\n",
    "import langchain\n",
    "langchain.debug = True"
   ]
  },
  {
   "cell_type": "code",
   "execution_count": null,
   "id": "aa535786",
   "metadata": {},
   "outputs": [],
   "source": [
    "# rerun the same example as above\n",
    "\n",
    "qa.run(examples[0][\"query\"])"
   ]
  },
  {
   "cell_type": "markdown",
   "id": "7b632b6f",
   "metadata": {},
   "source": [
    "*OUTPUT*"
   ]
  },
  {
   "cell_type": "markdown",
   "id": "8313bec6",
   "metadata": {},
   "source": [
    "```python\n",
    "[chain/start] [1:chain:RetrievalQA] Entering Chain run with input:\n",
    "{\n",
    "  \"query\": \"Do the Cozy Comfort Pullover Set have side pockets?\"\n",
    "}\n",
    "[chain/start] [1:chain:RetrievalQA > 2:chain:StuffDocumentsChain] Entering Chain run with input:\n",
    "[inputs]\n",
    "[chain/start] [1:chain:RetrievalQA > 2:chain:StuffDocumentsChain > 3:chain:LLMChain] Entering Chain run with input:\n",
    "{\n",
    "  \"question\": \"Do the Cozy Comfort Pullover Set have side pockets?\",\n",
    "  \"context\": \": 10\\nname: Cozy Comfort Pullover Set, Stripe\\ndescription: Perfect for lounging, this striped knit set lives up to its name. We used ultrasoft fabric and an easy design that's as comfortable at bedtime as it is when we have to make a quick run out.\\n\\nSize & Fit\\n- Pants are Favorite Fit: Sits lower on the waist.\\n- Relaxed Fit: Our most generous fit sits farthest from the body.\\n\\nFabric & Care\\n- In the softest blend of 63% polyester, 35% rayon and 2% spandex.\\n\\nAdditional Features\\n- Relaxed fit top with raglan sleeves and rounded hem.\\n- Pull-on pants have a wide elastic waistband and drawstring, side pockets and a modern slim leg.\\n\\nImported.<<<<>>>>>: 73\\nname: Cozy Cuddles Knit Pullover Set\\ndescription: Perfect for lounging, this knit set lives up to its name. We used ultrasoft fabric and an easy design that's as comfortable at bedtime as it is when we have to make a quick run out. \\n\\nSize & Fit \\nPants are Favorite Fit: Sits lower on the waist. \\nRelaxed Fit: Our most generous fit sits farthest from the body. \\n\\nFabric & Care \\nIn the softest blend of 63% polyester, 35% rayon and 2% spandex.\\n\\nAdditional Features \\nRelaxed fit top with raglan sleeves and rounded hem. \\nPull-on pants have a wide elastic waistband and drawstring, side pockets and a modern slim leg. \\nImported.<<<<>>>>>: 151\\nname: Cozy Quilted Sweatshirt\\ndescription: Our sweatshirt is an instant classic with its great quilted texture and versatile weight that easily transitions between seasons. With a traditional fit that is relaxed through the chest, sleeve, and waist, this pullover is lightweight enough to be worn most months of the year. The cotton blend fabric is super soft and comfortable, making it the perfect casual layer. To make dressing easy, this sweatshirt also features a snap placket and a heritage-inspired Mt. Katahdin logo patch. For care, machine wash and dry. Imported.<<<<>>>>>: 265\\nname: Cozy Workout Vest\\ndescription: For serious warmth that won't weigh you down, reach for this fleece-lined vest, which provides you with layering options whether you're inside or outdoors.\\nSize & Fit\\nRelaxed Fit. Falls at hip.\\nFabric & Care\\nSoft, textured fleece lining. Nylon shell. Machine wash and dry. \\nAdditional Features \\nTwo handwarmer pockets. Knit side panels stretch for a more flattering fit. Shell fabric is treated to resist water and stains. Imported.\"\n",
    "}\n",
    "[llm/start] [1:chain:RetrievalQA > 2:chain:StuffDocumentsChain > 3:chain:LLMChain > 4:llm:ChatOpenAI] Entering LLM run with input:\n",
    "{\n",
    "  \"prompts\": [\n",
    "    \"System: Use the following pieces of context to answer the users question. \\nIf you don't know the answer, just say that you don't know, don't try to make up an answer.\\n----------------\\n: 10\\nname: Cozy Comfort Pullover Set, Stripe\\ndescription: Perfect for lounging, this striped knit set lives up to its name. We used ultrasoft fabric and an easy design that's as comfortable at bedtime as it is when we have to make a quick run out.\\n\\nSize & Fit\\n- Pants are Favorite Fit: Sits lower on the waist.\\n- Relaxed Fit: Our most generous fit sits farthest from the body.\\n\\nFabric & Care\\n- In the softest blend of 63% polyester, 35% rayon and 2% spandex.\\n\\nAdditional Features\\n- Relaxed fit top with raglan sleeves and rounded hem.\\n- Pull-on pants have a wide elastic waistband and drawstring, side pockets and a modern slim leg.\\n\\nImported.<<<<>>>>>: 73\\nname: Cozy Cuddles Knit Pullover Set\\ndescription: Perfect for lounging, this knit set lives up to its name. We used ultrasoft fabric and an easy design that's as comfortable at bedtime as it is when we have to make a quick run out. \\n\\nSize & Fit \\nPants are Favorite Fit: Sits lower on the waist. \\nRelaxed Fit: Our most generous fit sits farthest from the body. \\n\\nFabric & Care \\nIn the softest blend of 63% polyester, 35% rayon and 2% spandex.\\n\\nAdditional Features \\nRelaxed fit top with raglan sleeves and rounded hem. \\nPull-on pants have a wide elastic waistband and drawstring, side pockets and a modern slim leg. \\nImported.<<<<>>>>>: 151\\nname: Cozy Quilted Sweatshirt\\ndescription: Our sweatshirt is an instant classic with its great quilted texture and versatile weight that easily transitions between seasons. With a traditional fit that is relaxed through the chest, sleeve, and waist, this pullover is lightweight enough to be worn most months of the year. The cotton blend fabric is super soft and comfortable, making it the perfect casual layer. To make dressing easy, this sweatshirt also features a snap placket and a heritage-inspired Mt. Katahdin logo patch. For care, machine wash and dry. Imported.<<<<>>>>>: 265\\nname: Cozy Workout Vest\\ndescription: For serious warmth that won't weigh you down, reach for this fleece-lined vest, which provides you with layering options whether you're inside or outdoors.\\nSize & Fit\\nRelaxed Fit. Falls at hip.\\nFabric & Care\\nSoft, textured fleece lining. Nylon shell. Machine wash and dry. \\nAdditional Features \\nTwo handwarmer pockets. Knit side panels stretch for a more flattering fit. Shell fabric is treated to resist water and stains. Imported.\\nHuman: Do the Cozy Comfort Pullover Set have side pockets?\"\n",
    "  ]\n",
    "}\n",
    "[llm/end] [1:chain:RetrievalQA > 2:chain:StuffDocumentsChain > 3:chain:LLMChain > 4:llm:ChatOpenAI] [1.73s] Exiting LLM run with output:\n",
    "{\n",
    "  \"generations\": [\n",
    "    [\n",
    "      {\n",
    "        \"text\": \"The Cozy Comfort Pullover Set, Stripe does have side pockets.\",\n",
    "        \"generation_info\": null,\n",
    "        \"message\": {\n",
    "          \"content\": \"The Cozy Comfort Pullover Set, Stripe does have side pockets.\",\n",
    "          \"additional_kwargs\": {},\n",
    "          \"example\": false\n",
    "        }\n",
    "      }\n",
    "    ]\n",
    "  ],\n",
    "  \"llm_output\": {\n",
    "    \"token_usage\": {\n",
    "      \"prompt_tokens\": 628,\n",
    "      \"completion_tokens\": 14,\n",
    "      \"total_tokens\": 642\n",
    "    },\n",
    "    \"model_name\": \"gpt-3.5-turbo\"\n",
    "  }\n",
    "}\n",
    "[chain/end] [1:chain:RetrievalQA > 2:chain:StuffDocumentsChain > 3:chain:LLMChain] [1.73s] Exiting Chain run with output:\n",
    "{\n",
    "  \"text\": \"The Cozy Comfort Pullover Set, Stripe does have side pockets.\"\n",
    "}\n",
    "[chain/end] [1:chain:RetrievalQA > 2:chain:StuffDocumentsChain] [1.73s] Exiting Chain run with output:\n",
    "{\n",
    "  \"output_text\": \"The Cozy Comfort Pullover Set, Stripe does have side pockets.\"\n",
    "}\n",
    "[chain/end] [1:chain:RetrievalQA] [1.97s] Exiting Chain run with output:\n",
    "{\n",
    "  \"result\": \"The Cozy Comfort Pullover Set, Stripe does have side pockets.\"\n",
    "}\n",
    "'The Cozy Comfort Pullover Set, Stripe does have side pockets.'\n",
    "```"
   ]
  },
  {
   "cell_type": "markdown",
   "id": "4766a798",
   "metadata": {},
   "source": [
    "When doing question answering, oftentimes when a wrong result is \n",
    "returned, it's not necessarily the language model itself that's messing \n",
    "up. It's actually the retrieval step that's messing up. \n",
    " \n",
    "And so taking a really close look at \n",
    "what exactly the question is, and what exactly the context is, \n",
    "can help debug what's going wrong.\n",
    "\n",
    "We also get back a \n",
    "bunch of information like the \"token_usage\", so the \"prompt_tokens\", the \n",
    "\"completion_tokens\", \"total_tokens\", and the \"model_name\". \n",
    " \n",
    "And this can be really useful to track the tokens that you're \n",
    "using in your chains or calls to language models over time and \n",
    "keep track of the total number of tokens, which \n",
    "corresponds very closely to the total cost."
   ]
  },
  {
   "cell_type": "code",
   "execution_count": null,
   "id": "ffd1a287",
   "metadata": {},
   "outputs": [],
   "source": [
    "# Turn off the debug mode\n",
    "# turn off the debug mode in order to just not print everything out onto the screen\n",
    "\n",
    "langchain.debug = False"
   ]
  },
  {
   "cell_type": "markdown",
   "id": "71e58dfc",
   "metadata": {},
   "source": [
    "But what about all the examples we created? \n",
    "How are we going to evaluate those? \n",
    "Similarly to when creating them, one way to do it would be manually. \n",
    "We could run the chain over all the examples, then look at the outputs, \n",
    "and try to figure out what's going on, whether it's correct, incorrect, partially \n",
    "correct. Similar to creating the examples, that starts \n",
    "to get a little bit tedious over time. \n",
    "And so let's go back to our favorite solution. Can \n",
    "we ask a language model to do it?"
   ]
  },
  {
   "cell_type": "markdown",
   "id": "7fa670df",
   "metadata": {},
   "source": [
    "## LLM assisted evaluation"
   ]
  },
  {
   "cell_type": "code",
   "execution_count": null,
   "id": "d3c9435e",
   "metadata": {},
   "outputs": [],
   "source": [
    "# create predictions for all the different examples\n",
    "\n",
    "predictions = qa.apply(examples)"
   ]
  },
  {
   "cell_type": "markdown",
   "id": "7dbcf66e",
   "metadata": {},
   "source": [
    "```\n",
    "> Entering new RetrievalQA chain...\n",
    "\n",
    "> Finished chain.\n",
    "\n",
    "\n",
    "> Entering new RetrievalQA chain...\n",
    "\n",
    "> Finished chain.\n",
    "\n",
    "\n",
    "> Entering new RetrievalQA chain...\n",
    "\n",
    "> Finished chain.\n",
    "\n",
    "\n",
    "> Entering new RetrievalQA chain...\n",
    "\n",
    "> Finished chain.\n",
    "\n",
    "\n",
    "> Entering new RetrievalQA chain...\n",
    "\n",
    "> Finished chain.\n",
    "\n",
    "\n",
    "> Entering new RetrievalQA chain...\n",
    "\n",
    "> Finished chain.\n",
    "\n",
    "\n",
    "> Entering new RetrievalQA chain...\n",
    "\n",
    "> Finished chain.\n",
    "```"
   ]
  },
  {
   "cell_type": "markdown",
   "id": "ca3a5cdd",
   "metadata": {},
   "source": [
    "We can think about evaluating them"
   ]
  },
  {
   "cell_type": "code",
   "execution_count": null,
   "id": "41166c54",
   "metadata": {},
   "outputs": [],
   "source": [
    "# import the QA, question answering, eval chain\n",
    "\n",
    "from langchain.evaluation.qa import QAEvalChain"
   ]
  },
  {
   "cell_type": "code",
   "execution_count": null,
   "id": "70304d50",
   "metadata": {},
   "outputs": [],
   "source": [
    "# create this chain with a language model, because \n",
    "# again, we're going to be using a language model to help do the evaluation\n",
    "\n",
    "llm = ChatOpenAI(temperature=0)\n",
    "eval_chain = QAEvalChain.from_llm(llm)"
   ]
  },
  {
   "cell_type": "code",
   "execution_count": null,
   "id": "ed86e380",
   "metadata": {},
   "outputs": [],
   "source": [
    "# we're going to call evaluate on this chain. We're \n",
    "# going to pass in examples and predictions, and we're going to \n",
    "# get back a bunch of graded outputs.\n",
    "\n",
    "graded_outputs = eval_chain.evaluate(examples, predictions)"
   ]
  },
  {
   "cell_type": "code",
   "execution_count": null,
   "id": "93478bda",
   "metadata": {},
   "outputs": [],
   "source": [
    "# in order to see what exactly is going on for each example, we're going to loop through them.\n",
    "\n",
    "for i, eg in enumerate(examples):\n",
    "    print(f\"Example {i}:\")\n",
    "    print(\"Question: \" + predictions[i]['query'])\n",
    "    print(\"Real Answer: \" + predictions[i]['answer'])\n",
    "    print(\"Predicted Answer: \" + predictions[i]['result'])\n",
    "    print(\"Predicted Grade: \" + graded_outputs[i]['text'])\n",
    "    print()"
   ]
  },
  {
   "cell_type": "markdown",
   "id": "2614f1f0",
   "metadata": {},
   "source": [
    "*OUTPUT*"
   ]
  },
  {
   "cell_type": "markdown",
   "id": "d32d5ccb",
   "metadata": {},
   "source": [
    "```\n",
    "Example 0:\n",
    "Question: Do the Cozy Comfort Pullover Set have side pockets?\n",
    "Real Answer: Yes\n",
    "Predicted Answer: The Cozy Comfort Pullover Set, Stripe does have side pockets.\n",
    "Predicted Grade: CORRECT\n",
    "\n",
    "Example 1:\n",
    "Question: What collection is the Ultra-Lofty 850 Stretch Down Hooded Jacket from?\n",
    "Real Answer: The DownTek collection\n",
    "Predicted Answer: The Ultra-Lofty 850 Stretch Down Hooded Jacket is from the DownTek collection.\n",
    "Predicted Grade: CORRECT\n",
    "\n",
    "Example 2:\n",
    "Question: What is the weight of each pair of Women's Campside Oxfords?\n",
    "Real Answer: The approximate weight of each pair of Women's Campside Oxfords is 1 lb. 1 oz.\n",
    "Predicted Answer: The weight of each pair of Women's Campside Oxfords is approximately 1 lb. 1 oz.\n",
    "Predicted Grade: CORRECT\n",
    "\n",
    "Example 3:\n",
    "Question: What are the dimensions of the small and medium Recycled Waterhog Dog Mat?\n",
    "Real Answer: The dimensions of the small Recycled Waterhog Dog Mat are 18\" x 28\" and the dimensions of the medium Recycled Waterhog Dog Mat are 22.5\" x 34.5\".\n",
    "Predicted Answer: The small Recycled Waterhog Dog Mat has dimensions of 18\" x 28\" and the medium size has dimensions of 22.5\" x 34.5\".\n",
    "Predicted Grade: CORRECT\n",
    "\n",
    "Example 4:\n",
    "Question: What are some features of the Infant and Toddler Girls' Coastal Chill Swimsuit?\n",
    "Real Answer: The swimsuit features bright colors, ruffles, and exclusive whimsical prints. It is made of four-way-stretch and chlorine-resistant fabric, ensuring that it keeps its shape and resists snags. The swimsuit is also UPF 50+ rated, providing the highest rated sun protection possible by blocking 98% of the sun's harmful rays. The crossover no-slip straps and fully lined bottom ensure a secure fit and maximum coverage. Finally, it can be machine washed and line dried for best results.\n",
    "Predicted Answer: The Infant and Toddler Girls' Coastal Chill Swimsuit is a two-piece swimsuit with bright colors, ruffles, and exclusive whimsical prints. It is made of four-way-stretch and chlorine-resistant fabric that keeps its shape and resists snags. The swimsuit has UPF 50+ rated fabric that provides the highest rated sun protection possible, blocking 98% of the sun's harmful rays. The crossover no-slip straps and fully lined bottom ensure a secure fit and maximum coverage. It is machine washable and should be line dried for best results.\n",
    "Predicted Grade: CORRECT\n",
    "\n",
    "Example 5:\n",
    "Question: What is the fabric composition of the Refresh Swimwear V-Neck Tankini Contrasts?\n",
    "Real Answer: The body of the Refresh Swimwear V-Neck Tankini Contrasts is made of 82% recycled nylon and 18% Lycra® spandex, while the lining is made of 90% recycled nylon and 10% Lycra® spandex.\n",
    "Predicted Answer: The Refresh Swimwear V-Neck Tankini Contrasts is made of 82% recycled nylon with 18% Lycra® spandex for the body and 90% recycled nylon with 10% Lycra® spandex for the lining.\n",
    "Predicted Grade: CORRECT\n",
    "\n",
    "Example 6:\n",
    "Question: What is the fabric composition of the EcoFlex 3L Storm Pants?\n",
    "Real Answer: The EcoFlex 3L Storm Pants are made of 100% nylon, exclusive of trim.\n",
    "Predicted Answer: The fabric composition of the EcoFlex 3L Storm Pants is 100% nylon, exclusive of trim.\n",
    "Predicted Grade: CORRECT\n",
    "```"
   ]
  },
  {
   "cell_type": "markdown",
   "id": "30b01eca",
   "metadata": {},
   "source": [
    "We're going to print out the question, and \n",
    "again, this was generated by a language model. \n",
    "We're going to print out the real answer, and \n",
    "again, this was also generated by a language model when it had the whole \n",
    "document in front of it, and so it could generate \n",
    "a ground truth answer. \n",
    "We're going to print out the predicted answer, and \n",
    "this is generated by a language model when it's doing \n",
    "the QA chain, when it's doing the retrieval with the embeddings and the \n",
    "vector databases, passing that into a language model, and then trying \n",
    "to guess the predicted answer. \n",
    "And then we're also going to print out the grade, and \n",
    "again, this is also generated by a \n",
    "language model when it's asking the eval chain to grade what's going on \n",
    "and whether it's correct or incorrect. "
   ]
  },
  {
   "cell_type": "markdown",
   "id": "0820a3da",
   "metadata": {},
   "source": [
    "So let's look at the first example. The question here is, \"Does \n",
    "the Cozy Comfort Pullover Set have side pockets?\". \n",
    "\n",
    "The \n",
    "real answer, and we created this, is \"Yes\". \n",
    "\n",
    "The predicted answer, which the language model produced was, \n",
    "\"The Cozy Comfort Pullover Set, Stripe does have side pockets\". \n",
    "\n",
    "And so we can understand that this is a correct answer. \n",
    "And actually the language model does as well, \n",
    "and it grades it correct. \n",
    "\n",
    "But let's think about why we actually need to use the language \n",
    "model in the first place. \n",
    "These two strings are actually nothing alike. \n",
    "They're very different. One's really short, one's really long. I don't even \n",
    "think, yes doesn't appear anywhere in this string. So if we were to \n",
    "try to do some string matching, or exact matching, or even \n",
    "some regexes here, it wouldn't know what to \n",
    "do. They're not the same thing. And that shows off the importance of \n",
    "using the language model to do evaluation here. You've got these answers, \n",
    "which are arbitrary strings. There's no single one \n",
    "truth string that is the best possible answer. There's \n",
    "many different variants. And as long as they have \n",
    "the same semantic meaning, they should be graded as \n",
    "being similar."
   ]
  },
  {
   "cell_type": "markdown",
   "id": "44f70f5a",
   "metadata": {},
   "source": [
    "#### LangChain Evaluation Platform\n",
    "This is a way to \n",
    "do everything that we just did in the notebook, but \n",
    "persisted and show it in a UI. And so let's check it out. Here, \n",
    "we can see that we have a session. We called it, deeplearningai."
   ]
  },
  {
   "cell_type": "markdown",
   "id": "d8837a77",
   "metadata": {},
   "source": [
    "![Evaluation](immagini/26_evaluation.png)"
   ]
  },
  {
   "cell_type": "markdown",
   "id": "75335a64",
   "metadata": {},
   "source": [
    "![Evaluation](immagini/27_evaluation.png)"
   ]
  },
  {
   "cell_type": "markdown",
   "id": "e59b0455",
   "metadata": {},
   "source": [
    "![Evaluation](immagini/28_evaluation.png)"
   ]
  }
 ],
 "metadata": {
  "kernelspec": {
   "display_name": "Python 3 (ipykernel)",
   "language": "python",
   "name": "python3"
  },
  "language_info": {
   "codemirror_mode": {
    "name": "ipython",
    "version": 3
   },
   "file_extension": ".py",
   "mimetype": "text/x-python",
   "name": "python",
   "nbconvert_exporter": "python",
   "pygments_lexer": "ipython3",
   "version": "3.10.10"
  }
 },
 "nbformat": 4,
 "nbformat_minor": 5
}
