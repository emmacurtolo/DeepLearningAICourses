{
 "cells": [
  {
   "cell_type": "markdown",
   "id": "71ef4fc8",
   "metadata": {},
   "source": [
    "# LangChain: Models, Prompts and Output Parsers\n",
    "\n",
    "\n",
    "## Outline\n",
    "\n",
    " * Direct API calls to OpenAI\n",
    " * API calls through LangChain:\n",
    "   * Prompts\n",
    "   * Models\n",
    "   * Output parsers"
   ]
  },
  {
   "cell_type": "markdown",
   "id": "1d949df0",
   "metadata": {},
   "source": [
    "So models refers to the language models underpinning a \n",
    "lot of it. Prompts refers to \n",
    "the style of creating inputs to pass into the models. \n",
    "And then parsers is on the opposite end. \n",
    "It involves taking the output of these models \n",
    "and parsing it into a more structured format \n",
    "so that you can do things downstream with it. \n",
    "\n",
    "When you build an application using LLM, there'll \n",
    "often be reusable models. We repeatedly prompt a model, parses \n",
    "outputs, and so LangChain gives an easy set of abstractions to \n",
    "do this type of operation."
   ]
  },
  {
   "cell_type": "markdown",
   "id": "54aeea07",
   "metadata": {},
   "source": [
    "## Get your [OpenAI API Key](https://platform.openai.com/account/api-keys)"
   ]
  },
  {
   "cell_type": "code",
   "execution_count": null,
   "id": "4379a30b",
   "metadata": {},
   "outputs": [],
   "source": [
    "#!pip install python-dotenv\n",
    "#!pip install openai"
   ]
  },
  {
   "cell_type": "code",
   "execution_count": null,
   "id": "e0ab579b",
   "metadata": {},
   "outputs": [],
   "source": [
    "import os\n",
    "import openai\n",
    "\n",
    "from dotenv import load_dotenv, find_dotenv\n",
    "_ = load_dotenv(find_dotenv()) # read local .env file\n",
    "openai.api_key = os.environ['OPENAI_API_KEY']"
   ]
  },
  {
   "cell_type": "markdown",
   "id": "745a5dc1",
   "metadata": {},
   "source": [
    "## Chat API : OpenAI\n",
    "\n",
    "Let's start with a direct API calls to OpenAI."
   ]
  },
  {
   "cell_type": "code",
   "execution_count": null,
   "id": "31edaf76",
   "metadata": {},
   "outputs": [],
   "source": [
    "def get_completion(prompt, model=\"gpt-3.5-turbo\"):\n",
    "    messages = [{\"role\": \"user\", \"content\": prompt}]\n",
    "    response = openai.ChatCompletion.create(\n",
    "        model=model,\n",
    "        messages=messages,\n",
    "        temperature=0, \n",
    "    )\n",
    "    return response.choices[0].message[\"content\"]\n"
   ]
  },
  {
   "cell_type": "markdown",
   "id": "828ddf4b",
   "metadata": {},
   "source": [
    "With this helper function, you can \n",
    "say get completion on what is 1 plus 1, and this \n",
    "will call ChatGPT, or technically the model, GPT 3.5 Turbo, to \n",
    "give you an answer back"
   ]
  },
  {
   "cell_type": "code",
   "execution_count": null,
   "id": "674a0d13",
   "metadata": {},
   "outputs": [],
   "source": [
    "get_completion(\"What is 1+1?\")"
   ]
  },
  {
   "cell_type": "markdown",
   "id": "a7ae23bc",
   "metadata": {},
   "source": [
    "*OUTPUT*\n",
    "```python\n",
    "'1+1 equals 2.'\n",
    "```"
   ]
  },
  {
   "cell_type": "markdown",
   "id": "bc5eda4f",
   "metadata": {},
   "source": [
    "### English pirate language ask this LLM to translate the text to American English in a calm and respectful tone"
   ]
  },
  {
   "cell_type": "code",
   "execution_count": null,
   "id": "3de7959a",
   "metadata": {},
   "outputs": [],
   "source": [
    "customer_email = \"\"\"\n",
    "Arrr, I be fuming that me blender lid \\\n",
    "flew off and splattered me kitchen walls \\\n",
    "with smoothie! And to make matters worse,\\\n",
    "the warranty don't cover the cost of \\\n",
    "cleaning up me kitchen. I need yer help \\\n",
    "right now, matey!\n",
    "\"\"\""
   ]
  },
  {
   "cell_type": "code",
   "execution_count": null,
   "id": "6dba11b5",
   "metadata": {},
   "outputs": [],
   "source": [
    "style = \"\"\"American English \\\n",
    "in a calm and respectful tone\n",
    "\"\"\""
   ]
  },
  {
   "cell_type": "markdown",
   "id": "5017db25",
   "metadata": {},
   "source": [
    "Little bit of prompting before:\n",
    "\n",
    "I'm going to specify the prompt using an f-string with \n",
    "the instructions, translate the text that is \n",
    "delimited by triple backticks into style that is style, \n",
    "and then plug in these two styles. \n",
    "And so, this generates a prompt that says translate the \n",
    "text and so on."
   ]
  },
  {
   "cell_type": "code",
   "execution_count": null,
   "id": "cfb61697",
   "metadata": {},
   "outputs": [],
   "source": [
    "prompt = f\"\"\"Translate the text \\\n",
    "that is delimited by triple backticks \n",
    "into a style that is {style}.\n",
    "text: ```{customer_email}```\n",
    "\"\"\"\n",
    "\n",
    "print(prompt)"
   ]
  },
  {
   "cell_type": "markdown",
   "id": "6b86c463",
   "metadata": {},
   "source": [
    "*OUTPUT*\n",
    "\n",
    "Translate the text that is delimited by triple backticks \n",
    "into a style that is American English in a calm and respectful tone.\n",
    "```\n",
    "text:```Arrr, I be fuming that me blender lid flew off and splattered me kitchen walls with smoothie! And to make matters worse,the warranty don't cover the cost of cleaning up me kitchen. I need yer help right now, matey!```\n",
    "```"
   ]
  },
  {
   "cell_type": "code",
   "execution_count": null,
   "id": "d8b442ba",
   "metadata": {},
   "outputs": [],
   "source": [
    "response = get_completion(prompt)"
   ]
  },
  {
   "cell_type": "code",
   "execution_count": null,
   "id": "124ae4c6",
   "metadata": {},
   "outputs": [],
   "source": [
    "response"
   ]
  },
  {
   "cell_type": "markdown",
   "id": "eaeda559",
   "metadata": {},
   "source": [
    "*OUTPUT*\n",
    "\n",
    "'I am quite frustrated that my blender lid flew off and made a mess of my kitchen walls with smoothie! To add to my frustration, the warranty does not cover the cost of cleaning up my kitchen. I kindly request your assistance at this moment, my friend.'"
   ]
  },
  {
   "cell_type": "markdown",
   "id": "3ba76efd",
   "metadata": {},
   "source": [
    "So, if you have different customers writing \n",
    "reviews in different languages, not just English pirate, but French, \n",
    "German, Japanese, and so on, you can imagine having to generate \n",
    "a whole sequence of prompts to generate such translations. Let's \n",
    "look at how we can do this in a more convenient, way \n",
    "using LangChain"
   ]
  },
  {
   "cell_type": "markdown",
   "id": "65ea7c5e",
   "metadata": {},
   "source": [
    "## Chat API : LangChain\n",
    "\n",
    "Let's try how we can do the same using LangChain."
   ]
  },
  {
   "cell_type": "code",
   "execution_count": null,
   "id": "b4d85e71",
   "metadata": {},
   "outputs": [],
   "source": [
    "#!pip install --upgrade langchain"
   ]
  },
  {
   "cell_type": "markdown",
   "id": "40f0e462",
   "metadata": {},
   "source": [
    "### Model"
   ]
  },
  {
   "cell_type": "markdown",
   "id": "e5264807",
   "metadata": {},
   "source": [
    " I'm going to import chat OpenAI. This is \n",
    "LangChain's abstraction for the chatGPT API endpoint. \n",
    " \n",
    "And so, if I then set chat equals chat OpenAI \n",
    "and look at what chat is, it creates this object as follows \n",
    "that uses the chatGPT model, which is also called GPT 3.5 turbo. \n",
    " "
   ]
  },
  {
   "cell_type": "code",
   "execution_count": null,
   "id": "7fd2bd25",
   "metadata": {},
   "outputs": [],
   "source": [
    "from langchain.chat_models import ChatOpenAI"
   ]
  },
  {
   "cell_type": "markdown",
   "id": "764af841",
   "metadata": {},
   "source": [
    "When I'm building applications, one thing I will often do \n",
    "is set the temperature parameter to be equal to zero. So \n",
    "the default temperature is 0.7. \n",
    "But let me actually redo that with temperature \n",
    "equals 0.0, and now the temperature is set to 0 to make this output a \n",
    "little bit less random. "
   ]
  },
  {
   "cell_type": "code",
   "execution_count": null,
   "id": "ec320693",
   "metadata": {},
   "outputs": [],
   "source": [
    "# To control the randomness and creativity of the generated\n",
    "# text by an LLM, use temperature = 0.0\n",
    "chat = ChatOpenAI(temperature=0.0)\n",
    "chat"
   ]
  },
  {
   "cell_type": "markdown",
   "id": "3e9d763a",
   "metadata": {},
   "source": [
    "*OUTPUT*\n",
    "```python\n",
    "ChatOpenAI(verbose=False, callbacks=None, callback_manager=None, client=<class 'openai.api_resources.chat_completion.ChatCompletion'>, model_name='gpt-3.5-turbo', temperature=0.0, model_kwargs={}, openai_api_key=None, openai_api_base=None, openai_organization=None, request_timeout=None, max_retries=6, streaming=False, n=1, max_tokens=None)\n",
    "\n",
    "```"
   ]
  },
  {
   "cell_type": "markdown",
   "id": "5fa74b9e",
   "metadata": {},
   "source": [
    "### Prompt template"
   ]
  },
  {
   "cell_type": "code",
   "execution_count": null,
   "id": "3c60d51d",
   "metadata": {},
   "outputs": [],
   "source": [
    "template_string = \"\"\"Translate the text \\\n",
    "that is delimited by triple backticks \\\n",
    "into a style that is {style}. \\\n",
    "text: ```{text}```\n",
    "\"\"\""
   ]
  },
  {
   "cell_type": "markdown",
   "id": "5bc3047e",
   "metadata": {},
   "source": [
    "To repeatedly reuse this template, let's import \n",
    "LangChain's chat prompt template,\n",
    "and then, let me create a prompt template \n",
    "using that template string that we just wrote above."
   ]
  },
  {
   "cell_type": "code",
   "execution_count": null,
   "id": "8a0eac57",
   "metadata": {},
   "outputs": [],
   "source": [
    "from langchain.prompts import ChatPromptTemplate\n",
    "\n",
    "prompt_template = ChatPromptTemplate.from_template(template_string)\n"
   ]
  },
  {
   "cell_type": "code",
   "execution_count": null,
   "id": "cfe4ac65",
   "metadata": {},
   "outputs": [],
   "source": [
    "prompt_template.messages[0].prompt"
   ]
  },
  {
   "cell_type": "markdown",
   "id": "a45aa217",
   "metadata": {},
   "source": [
    "*OUTPUT*\n",
    "```python\n",
    "PromptTemplate(input_variables=['style', 'text'], output_parser=None, partial_variables={}, template='Translate the text that is delimited by triple backticks into a style that is {style}. text: ```{text}```\\n', template_format='f-string', validate_template=True)\n",
    "```"
   ]
  },
  {
   "cell_type": "markdown",
   "id": "369de287",
   "metadata": {},
   "source": [
    "From the prompt template, you can actually \n",
    "extract the original prompt, and it realizes that this \n",
    "prompt has two input variables, the style and the text."
   ]
  },
  {
   "cell_type": "code",
   "execution_count": null,
   "id": "1f3b2701",
   "metadata": {},
   "outputs": [],
   "source": [
    "prompt_template.messages[0].prompt.input_variables"
   ]
  },
  {
   "cell_type": "markdown",
   "id": "0bed2ac9",
   "metadata": {},
   "source": [
    "*OUTPUT*\n",
    "```python\n",
    "['style', 'text']\n",
    "```"
   ]
  },
  {
   "cell_type": "markdown",
   "id": "5705fd08",
   "metadata": {},
   "source": [
    "This is a style that \n",
    "I want the customer message to be translated \n",
    "to"
   ]
  },
  {
   "cell_type": "code",
   "execution_count": null,
   "id": "01d07a4a",
   "metadata": {},
   "outputs": [],
   "source": [
    "customer_style = \"\"\"American English \\\n",
    "in a calm and respectful tone\n",
    "\"\"\""
   ]
  },
  {
   "cell_type": "code",
   "execution_count": null,
   "id": "f5013cd5",
   "metadata": {},
   "outputs": [],
   "source": [
    "customer_email = \"\"\"\n",
    "Arrr, I be fuming that me blender lid \\\n",
    "flew off and splattered me kitchen walls \\\n",
    "with smoothie! And to make matters worse, \\\n",
    "the warranty don't cover the cost of \\\n",
    "cleaning up me kitchen. I need yer help \\\n",
    "right now, matey!\n",
    "\"\"\""
   ]
  },
  {
   "cell_type": "code",
   "execution_count": null,
   "id": "bdb79a8a",
   "metadata": {},
   "outputs": [],
   "source": [
    "customer_messages = prompt_template.format_messages(\n",
    "                    style=customer_style,\n",
    "                    text=customer_email)"
   ]
  },
  {
   "cell_type": "code",
   "execution_count": null,
   "id": "58cfb4a4",
   "metadata": {},
   "outputs": [],
   "source": [
    "print(type(customer_messages))\n",
    "print(type(customer_messages[0]))"
   ]
  },
  {
   "cell_type": "markdown",
   "id": "d74bcc29",
   "metadata": {},
   "source": [
    "*OUTPUT*\n",
    "```python\n",
    "<class 'list'>\n",
    "<class 'langchain.schema.HumanMessage'>\n",
    "```"
   ]
  },
  {
   "cell_type": "markdown",
   "id": "2a667fbc",
   "metadata": {},
   "source": [
    "So if you want to look at the types, \n",
    "the customer message is actually a list, \n",
    "and if you look at the first element of the list, \n",
    "this is more or less that prompt that you would \n",
    "expect this to be creating. "
   ]
  },
  {
   "cell_type": "code",
   "execution_count": null,
   "id": "98f479f8",
   "metadata": {},
   "outputs": [],
   "source": [
    "print(customer_messages[0])"
   ]
  },
  {
   "cell_type": "markdown",
   "id": "f6f6825e",
   "metadata": {},
   "source": [
    "*OUTPUT*\n",
    "```python\n",
    "content=\"Translate the text that is delimited by triple backticks into a style that is American English in a calm and respectful tone\\n. text: ```\\nArrr, I be fuming that me blender lid flew off and splattered me kitchen walls with smoothie! And to make matters worse, the warranty don't cover the cost of cleaning up me kitchen. I need yer help right now, matey!\\n```\\n\" additional_kwargs={} example=False\n",
    "```"
   ]
  },
  {
   "cell_type": "markdown",
   "id": "4e340372",
   "metadata": {},
   "source": [
    "Let's pass this prompt to the LLM, so I'm going \n",
    "to call chat, which we had set earlier, \n",
    "as a reference to the OpenAI chatGPT endpoint, \n",
    "and, if we print out the customer responses content, \n",
    "then, it gives you back this text translated from English \n",
    "pirate to polite American English."
   ]
  },
  {
   "cell_type": "code",
   "execution_count": null,
   "id": "ac5c29d0",
   "metadata": {},
   "outputs": [],
   "source": [
    "# Call the LLM to translate to the style of the customer message\n",
    "customer_response = chat(customer_messages)"
   ]
  },
  {
   "cell_type": "code",
   "execution_count": null,
   "id": "6469d757",
   "metadata": {},
   "outputs": [],
   "source": [
    "print(customer_response.content)"
   ]
  },
  {
   "cell_type": "markdown",
   "id": "d2fd737f",
   "metadata": {},
   "source": [
    "*OUTPUT*\n",
    "\n",
    "I'm really frustrated that my blender lid flew off and made a mess of my kitchen walls with smoothie! And to make things even worse, the warranty doesn't cover the cost of cleaning up my kitchen. I could really use your help right now, my friend!"
   ]
  },
  {
   "cell_type": "markdown",
   "id": "94e78cba",
   "metadata": {},
   "source": [
    "Now they're polite message, but \n",
    "let's say this is what a customer service agent wants. \n",
    "We are going to specify \n",
    "that the service message is going to be \n",
    "translated to this pirate style. So we want it to \n",
    "be in a polite tone that speaks in \n",
    "English pirate. \n",
    "And because we previously created that prompt template, \n",
    "the cool thing is, we can now reuse that prompt template and \n",
    "specify that the output style we want is \n",
    "this service style pirate \n",
    "and the text is this service reply."
   ]
  },
  {
   "cell_type": "code",
   "execution_count": null,
   "id": "7d886c7f",
   "metadata": {},
   "outputs": [],
   "source": [
    "service_reply = \"\"\"Hey there customer, \\\n",
    "the warranty does not cover \\\n",
    "cleaning expenses for your kitchen \\\n",
    "because it's your fault that \\\n",
    "you misused your blender \\\n",
    "by forgetting to put the lid on before \\\n",
    "starting the blender. \\\n",
    "Tough luck! See ya!\n",
    "\"\"\""
   ]
  },
  {
   "cell_type": "code",
   "execution_count": null,
   "id": "e012f56f",
   "metadata": {},
   "outputs": [],
   "source": [
    "service_style_pirate = \"\"\"\\\n",
    "a polite tone \\\n",
    "that speaks in English Pirate\\\n",
    "\"\"\""
   ]
  },
  {
   "cell_type": "code",
   "execution_count": null,
   "id": "dafd6064",
   "metadata": {},
   "outputs": [],
   "source": [
    "service_messages = prompt_template.format_messages(\n",
    "    style=service_style_pirate,\n",
    "    text=service_reply)\n",
    "\n",
    "print(service_messages[0].content)"
   ]
  },
  {
   "cell_type": "markdown",
   "id": "b30b14e0",
   "metadata": {},
   "source": [
    "*OUTPUT*\n",
    "\n",
    "Translate the text that is delimited by triple backticks into a style that is a polite tone that speaks in English Pirate. \n",
    "```\n",
    "text: ```Hey there customer, the warranty does not cover cleaning expenses for your kitchen because it's your fault that you misused your blender by forgetting to put the lid on before starting the blender. Tough luck! See ya!```\n",
    "```"
   ]
  },
  {
   "cell_type": "code",
   "execution_count": null,
   "id": "b08a5ffb",
   "metadata": {},
   "outputs": [],
   "source": [
    "service_response = chat(service_messages)\n",
    "print(service_response.content)"
   ]
  },
  {
   "cell_type": "markdown",
   "id": "36bb5795",
   "metadata": {},
   "source": [
    "*OUTPUT*\n",
    "\n",
    "Ahoy there, matey! Me apologies, but the warranty be not coverin' the costs o' cleanin' yer galley, as 'tis yer own fault fer misusin' yer blender by forgettin' to secure the lid afore ye started blendin'. Aye, tough luck, me heartie! Farewell and fair winds to ye!"
   ]
  },
  {
   "cell_type": "markdown",
   "id": "a7856a69",
   "metadata": {},
   "source": [
    "![Templates](immagini/04_templates_1.png)\n",
    "![Templates](immagini/04_templates_2.png)"
   ]
  },
  {
   "cell_type": "markdown",
   "id": "17ae06ce",
   "metadata": {},
   "source": [
    "So, you might be wondering, why are we using \n",
    "prompt templates instead of, you know, just an f-string? The \n",
    "answer is that as you build sophisticated applications, \n",
    "prompts can be quite long and detailed. \n",
    " \n",
    "And so, prompt templates are a useful abstraction to help you \n",
    "reuse good prompts when you can. \n",
    "This is an example of a relatively long \n",
    "prompt to grade a student's submission \n",
    "for an online learning application. \n",
    "And a prompt like this can be quite long, in which you can ask the \n",
    "LLM to first solve the problem, and then have the \n",
    "output in a certain format, and the output in a certain format. \n",
    " \n",
    "And wrapping this in a LangChain prompt makes \n",
    "it easier to reuse a prompt like this. \n",
    "Also, you see later that LangChain provides \n",
    "prompts for some common operations, such as summarization, or \n",
    "question answering, or connecting to SQL databases, \n",
    "or connecting to different APIs. And so by using some of LangChain's \n",
    "built-in prompts, you can quickly get an application working without \n",
    "needing to, \n",
    "engineer your own prompts.\n",
    "\n",
    "\n",
    "\n",
    "One other aspect of LangChain's prompt libraries \n",
    "is that it also supports __output parsing__, which we'll get to in a minute. \n",
    "But when you're building a complex application using an LLM, \n",
    "you often instruct the LLM \n",
    "to generate its output in a certain format, \n",
    "such as using specific keywords. This example on \n",
    "the left illustrates using an LLM to carry out something called chain \n",
    "of thought reasoning \n",
    "using a framework called the __ReAct__ framework. But don't \n",
    "worry about the technical details, but the keys of that is that \n",
    "- the __THOUGHT__ is what the LLM \n",
    "is thinking, \n",
    "because by giving an LLM space to think, it can often get \n",
    "to more accurate conclusions. \n",
    "- Then __ACTION__ as a keyword to carry the specific action, \n",
    "and \n",
    "- then __OBSERVATION__ to show what it learned from that action, \n",
    "and so on. \n",
    "- And if you have a prompt that instructs the LLM \n",
    "to use these specific keywords, thought, action, and observation, \n",
    "then this prompt can be coupled with a parser \n",
    "to extract out the text that has been \n",
    "tagged with these specific keywords.\n",
    "\n",
    "And so that together \n",
    "gives a very __nice abstraction to specify the \n",
    "input to an LLM__, \n",
    "and then also have a parser correctly interpret \n",
    "the output that the LLM gives."
   ]
  },
  {
   "cell_type": "markdown",
   "id": "a34ecc77",
   "metadata": {},
   "source": [
    "## Output Parsers\n",
    "\n",
    "Let's start with defining how we would like the LLM output to look like:"
   ]
  },
  {
   "cell_type": "code",
   "execution_count": null,
   "id": "4122c148",
   "metadata": {},
   "outputs": [],
   "source": [
    "# Python dictionary\n",
    "{\n",
    "  \"gift\": False,\n",
    "  \"delivery_days\": 5,\n",
    "  \"price_value\": \"pretty affordable!\"\n",
    "}"
   ]
  },
  {
   "cell_type": "markdown",
   "id": "7513fbf9",
   "metadata": {},
   "source": [
    "*OUTPUT*\n",
    "```\n",
    "{'gift': False, 'delivery_days': 5, 'price_value': 'pretty affordable!'}\n",
    "```"
   ]
  },
  {
   "cell_type": "markdown",
   "id": "30574dcd",
   "metadata": {},
   "source": [
    "How you can have \n",
    "an LLM output JSON, \n",
    "and use LangChain to parse that output. \n",
    "And the running example that I'll use will be \n",
    "to extract \n",
    "information from a product review, \n",
    "and format that output in a JSON format.\n",
    "\n",
    "The \n",
    "review template asks the LLM \n",
    "to take as input a customer review \n",
    "and extract \n",
    "these three fields and then format the output as JSON \n",
    "with the following keys."
   ]
  },
  {
   "cell_type": "code",
   "execution_count": null,
   "id": "4ebd0415",
   "metadata": {},
   "outputs": [],
   "source": [
    "customer_review = \"\"\"\\\n",
    "This leaf blower is pretty amazing.  It has four settings:\\\n",
    "candle blower, gentle breeze, windy city, and tornado. \\\n",
    "It arrived in two days, just in time for my wife's \\\n",
    "anniversary present. \\\n",
    "I think my wife liked it so much she was speechless. \\\n",
    "So far I've been the only one using it, and I've been \\\n",
    "using it every other morning to clear the leaves on our lawn. \\\n",
    "It's slightly more expensive than the other leaf blowers \\\n",
    "out there, but I think it's worth it for the extra features.\n",
    "\"\"\"\n",
    "\n",
    "review_template = \"\"\"\\\n",
    "For the following text, extract the following information:\n",
    "\n",
    "gift: Was the item purchased as a gift for someone else? \\\n",
    "Answer True if yes, False if not or unknown.\n",
    "\n",
    "delivery_days: How many days did it take for the product \\\n",
    "to arrive? If this information is not found, output -1.\n",
    "\n",
    "price_value: Extract any sentences about the value or price,\\\n",
    "and output them as a comma separated Python list.\n",
    "\n",
    "Format the output as JSON with the following keys:\n",
    "gift\n",
    "delivery_days\n",
    "price_value\n",
    "\n",
    "text: {text}\n",
    "\"\"\""
   ]
  },
  {
   "cell_type": "markdown",
   "id": "4a05af1a",
   "metadata": {},
   "source": [
    "Wrap this in \n",
    "LangChain.\n",
    "\n",
    "Let's import the chat prompt template.  and then have the prompt templates \n",
    "created from \n",
    "the review template \n",
    "up on top."
   ]
  },
  {
   "cell_type": "code",
   "execution_count": null,
   "id": "a727d3f3",
   "metadata": {},
   "outputs": [],
   "source": [
    "from langchain.prompts import ChatPromptTemplate\n",
    "\n",
    "prompt_template = ChatPromptTemplate.from_template(review_template)\n",
    "print(prompt_template)"
   ]
  },
  {
   "cell_type": "markdown",
   "id": "0039bda3",
   "metadata": {},
   "source": [
    "*OUTPUT*"
   ]
  },
  {
   "cell_type": "markdown",
   "id": "05b4cb74",
   "metadata": {},
   "source": [
    "```\n",
    "input_variables=['text'] output_parser=None partial_variables={} messages=[HumanMessagePromptTemplate(prompt=PromptTemplate(input_variables=['text'], output_parser=None, partial_variables={}, template='For the following text, extract the following information:\\n\\ngift: Was the item purchased as a gift for someone else? Answer True if yes, False if not or unknown.\\n\\ndelivery_days: How many days did it take for the product to arrive? If this information is not found, output -1.\\n\\nprice_value: Extract any sentences about the value or price,and output them as a comma separated Python list.\\n\\nFormat the output as JSON with the following keys:\\ngift\\ndelivery_days\\nprice_value\\n\\ntext: {text}\\n', template_format='f-string', validate_template=True), additional_kwargs={})]\n",
    "```"
   ]
  },
  {
   "cell_type": "markdown",
   "id": "5c10d8b6",
   "metadata": {},
   "source": [
    "Create the OpenAI endpoint, call that endpoint, and then let's \n",
    "print out the response. "
   ]
  },
  {
   "cell_type": "code",
   "execution_count": null,
   "id": "a71e2588",
   "metadata": {},
   "outputs": [],
   "source": [
    "messages = prompt_template.format_messages(text=customer_review)\n",
    "chat = ChatOpenAI(temperature=0.0)\n",
    "response = chat(messages)\n",
    "print(response.content)"
   ]
  },
  {
   "cell_type": "markdown",
   "id": "623fcffe",
   "metadata": {},
   "source": [
    "*OUTPUT*\n",
    "```json\n",
    "{\n",
    "  \"gift\": false,\n",
    "  \"delivery_days\": 2,\n",
    "  \"price_value\": [\"It's slightly more expensive than the other leaf blowers out there, but I think it's worth it for the extra features.\"]\n",
    "}\n",
    "```"
   ]
  },
  {
   "cell_type": "markdown",
   "id": "b462fdb6",
   "metadata": {},
   "source": [
    "__! NOTE__  if we \n",
    "check the type \n",
    "of the response, this is actually a string. \n",
    "So it looks like JSON and looks like it has key-value \n",
    "pairs, but it's actually not a dictionary. This is \n",
    "just \n",
    "one long string. "
   ]
  },
  {
   "cell_type": "code",
   "execution_count": null,
   "id": "1864b25b",
   "metadata": {},
   "outputs": [],
   "source": [
    "type(response.content)"
   ]
  },
  {
   "cell_type": "markdown",
   "id": "3da01793",
   "metadata": {},
   "source": [
    "*OUTPUT*\n",
    "\n",
    "str"
   ]
  },
  {
   "cell_type": "code",
   "execution_count": null,
   "id": "68a33561",
   "metadata": {},
   "outputs": [],
   "source": [
    "# You will get an error by running this line of code \n",
    "# because'gift' is not a dictionary\n",
    "# 'gift' is a string\n",
    "response.content.get('gift')"
   ]
  },
  {
   "cell_type": "markdown",
   "id": "4c1d18f1",
   "metadata": {},
   "source": [
    "```\n",
    "---------------------------------------------------------------------------\n",
    "AttributeError                            Traceback (most recent call last)\n",
    "Cell In[34], line 4\n",
    "      1 # You will get an error by running this line of code \n",
    "      2 # because'gift' is not a dictionary\n",
    "      3 # 'gift' is a string\n",
    "----> 4 response.content.get('gift')\n",
    "\n",
    "AttributeError: 'str' object has no attribute 'get'\n",
    "```"
   ]
  },
  {
   "cell_type": "markdown",
   "id": "9a2a55db",
   "metadata": {},
   "source": [
    "So what I'd really like to do is go to the \n",
    "response content and get the value from the \n",
    "gift key which should be true, but I run this, this \n",
    "should generate an error \n",
    "because, well, this is actually a string. \n",
    "This is not a Python dictionary."
   ]
  },
  {
   "cell_type": "markdown",
   "id": "4b9a10df",
   "metadata": {},
   "source": [
    "### Parse the LLM output string into a Python dictionary"
   ]
  },
  {
   "cell_type": "code",
   "execution_count": null,
   "id": "db832430",
   "metadata": {},
   "outputs": [],
   "source": [
    "# import response schema and structured output parser from LangChain\n",
    "from langchain.output_parsers import ResponseSchema\n",
    "from langchain.output_parsers import StructuredOutputParser"
   ]
  },
  {
   "cell_type": "markdown",
   "id": "be680499",
   "metadata": {},
   "source": [
    "I've specified the schema for these LangChain can actually \n",
    "give you the prompt \n",
    "itself by \n",
    "having the output parser tell you what instructions it wants you \n",
    "to send to the LLM. So if I were to print \n",
    "format instructions. \n",
    "She has a pretty precise set of instructions for the LLM that \n",
    "will cause it to generate an output that the output parser \n",
    "can process. "
   ]
  },
  {
   "cell_type": "code",
   "execution_count": null,
   "id": "741172b9",
   "metadata": {},
   "outputs": [],
   "source": [
    "gift_schema = ResponseSchema(name=\"gift\",\n",
    "                             description=\"Was the item purchased\\\n",
    "                             as a gift for someone else? \\\n",
    "                             Answer True if yes,\\\n",
    "                             False if not or unknown.\")\n",
    "delivery_days_schema = ResponseSchema(name=\"delivery_days\",\n",
    "                                      description=\"How many days\\\n",
    "                                      did it take for the product\\\n",
    "                                      to arrive? If this \\\n",
    "                                      information is not found,\\\n",
    "                                      output -1.\")\n",
    "price_value_schema = ResponseSchema(name=\"price_value\",\n",
    "                                    description=\"Extract any\\\n",
    "                                    sentences about the value or \\\n",
    "                                    price, and output them as a \\\n",
    "                                    comma separated Python list.\")\n",
    "\n",
    "response_schemas = [gift_schema, \n",
    "                    delivery_days_schema,\n",
    "                    price_value_schema]"
   ]
  },
  {
   "cell_type": "code",
   "execution_count": null,
   "id": "a610a8fe",
   "metadata": {},
   "outputs": [],
   "source": [
    "output_parser = StructuredOutputParser.from_response_schemas(response_schemas)"
   ]
  },
  {
   "cell_type": "code",
   "execution_count": null,
   "id": "0bf5800f",
   "metadata": {},
   "outputs": [],
   "source": [
    "format_instructions = output_parser.get_format_instructions()\n"
   ]
  },
  {
   "cell_type": "code",
   "execution_count": null,
   "id": "5a921a6a",
   "metadata": {},
   "outputs": [],
   "source": [
    "print(format_instructions)"
   ]
  },
  {
   "cell_type": "markdown",
   "id": "dc6b4ceb",
   "metadata": {},
   "source": [
    "*OUTPUT*\n",
    "```\n",
    "The output should be a markdown code snippet formatted in the following schema, including the leading and trailing \"\\`\\`\\`json\" and \"\\`\\`\\`\":\n",
    "\n",
    "```json\n",
    "{\n",
    "\t\"gift\": string  // Was the item purchased                             as a gift for someone else?                              Answer True if yes,                             False if not or unknown.\n",
    "\t\"delivery_days\": string  // How many days                                      did it take for the product                                      to arrive? If this                                       information is not found,                                      output -1.\n",
    "\t\"price_value\": string  // Extract any                                    sentences about the value or                                     price, and output them as a                                     comma separated Python list.\n",
    "}\n",
    "```\n",
    "```"
   ]
  },
  {
   "cell_type": "markdown",
   "id": "7194980d",
   "metadata": {},
   "source": [
    "The review template includes the \n",
    "format instructions that LangChain \n",
    "generated.\n",
    "\n",
    "We can create a prompt \n",
    "from the review template too, \n",
    "and then create the \n",
    "messages that will pass \n",
    "to the OpenAI endpoint."
   ]
  },
  {
   "cell_type": "code",
   "execution_count": null,
   "id": "8600fa2b",
   "metadata": {},
   "outputs": [],
   "source": [
    "review_template_2 = \"\"\"\\\n",
    "For the following text, extract the following information:\n",
    "\n",
    "gift: Was the item purchased as a gift for someone else? \\\n",
    "Answer True if yes, False if not or unknown.\n",
    "\n",
    "delivery_days: How many days did it take for the product\\\n",
    "to arrive? If this information is not found, output -1.\n",
    "\n",
    "price_value: Extract any sentences about the value or price,\\\n",
    "and output them as a comma separated Python list.\n",
    "\n",
    "text: {text}\n",
    "\n",
    "{format_instructions}\n",
    "\"\"\"\n",
    "\n",
    "prompt = ChatPromptTemplate.from_template(template=review_template_2)\n",
    "\n",
    "messages = prompt.format_messages(text=customer_review, \n",
    "                                format_instructions=format_instructions)"
   ]
  },
  {
   "cell_type": "code",
   "execution_count": null,
   "id": "f999414f",
   "metadata": {},
   "outputs": [],
   "source": [
    "print(messages[0].content)"
   ]
  },
  {
   "cell_type": "markdown",
   "id": "d859df5f",
   "metadata": {},
   "source": [
    "*OUTPUT*"
   ]
  },
  {
   "cell_type": "markdown",
   "id": "7edd6556",
   "metadata": {},
   "source": [
    "```\n",
    "For the following text, extract the following information:\n",
    "\n",
    "gift: Was the item purchased as a gift for someone else? Answer True if yes, False if not or unknown.\n",
    "\n",
    "delivery_days: How many days did it take for the productto arrive? If this information is not found, output -1.\n",
    "\n",
    "price_value: Extract any sentences about the value or price,and output them as a comma separated Python list.\n",
    "\n",
    "text: This leaf blower is pretty amazing.  It has four settings:candle blower, gentle breeze, windy city, and tornado. It arrived in two days, just in time for my wife's anniversary present. I think my wife liked it so much she was speechless. So far I've been the only one using it, and I've been using it every other morning to clear the leaves on our lawn. It's slightly more expensive than the other leaf blowers out there, but I think it's worth it for the extra features.\n",
    "\n",
    "\n",
    "The output should be a markdown code snippet formatted in the following schema, including the leading and trailing \"\\`\\`\\`json\" and \"\\`\\`\\`\":\n",
    "\n",
    "```json\n",
    "{\n",
    "\t\"gift\": string  // Was the item purchased                             as a gift for someone else?                              Answer True if yes,                             False if not or unknown.\n",
    "\t\"delivery_days\": string  // How many days                                      did it take for the product                                      to arrive? If this                                       information is not found,                                      output -1.\n",
    "\t\"price_value\": string  // Extract any                                    sentences about the value or                                     price, and output them as a                                     comma separated Python list.\n",
    "}\n",
    "```\n",
    "```"
   ]
  },
  {
   "cell_type": "code",
   "execution_count": null,
   "id": "b58a0a46",
   "metadata": {},
   "outputs": [],
   "source": [
    "response = chat(messages)"
   ]
  },
  {
   "cell_type": "code",
   "execution_count": null,
   "id": "0666d890",
   "metadata": {},
   "outputs": [],
   "source": [
    "print(response.content)"
   ]
  },
  {
   "cell_type": "markdown",
   "id": "0332b727",
   "metadata": {},
   "source": [
    "*OUTPUT*\n",
    "```\n",
    "```json\n",
    "{\n",
    "\t\"gift\": false,\n",
    "\t\"delivery_days\": \"2\",\n",
    "\t\"price_value\": \"It's slightly more expensive than the other leaf blowers out there, but I think it's worth it for the extra features.\"\n",
    "}\n",
    "```\n",
    "```"
   ]
  },
  {
   "cell_type": "markdown",
   "id": "d4930e55",
   "metadata": {},
   "source": [
    "Parse this into an output dictionary"
   ]
  },
  {
   "cell_type": "code",
   "execution_count": null,
   "id": "81a01932",
   "metadata": {},
   "outputs": [],
   "source": [
    "output_dict = output_parser.parse(response.content)"
   ]
  },
  {
   "cell_type": "code",
   "execution_count": null,
   "id": "59934de5",
   "metadata": {},
   "outputs": [],
   "source": [
    "output_dict"
   ]
  },
  {
   "cell_type": "markdown",
   "id": "5bc8e70e",
   "metadata": {},
   "source": [
    "*OUTPUT*\n",
    "```python\n",
    "{'gift': False,\n",
    " 'delivery_days': '2',\n",
    " 'price_value': \"It's slightly more expensive than the other leaf blowers out there, but I think it's worth it for the extra features.\"}\n",
    "```"
   ]
  },
  {
   "cell_type": "code",
   "execution_count": null,
   "id": "a7a2eb91",
   "metadata": {},
   "outputs": [],
   "source": [
    "type(output_dict)"
   ]
  },
  {
   "cell_type": "markdown",
   "id": "b74697a0",
   "metadata": {},
   "source": [
    "*OUTPUT*\n",
    "\n",
    "dict"
   ]
  },
  {
   "cell_type": "code",
   "execution_count": null,
   "id": "d18325f5",
   "metadata": {},
   "outputs": [],
   "source": [
    "output_dict.get('gift')"
   ]
  },
  {
   "cell_type": "markdown",
   "id": "a20a9a40",
   "metadata": {},
   "source": [
    "*OUTPUT*\n",
    "\n",
    "True"
   ]
  },
  {
   "cell_type": "code",
   "execution_count": null,
   "id": "4897f423",
   "metadata": {},
   "outputs": [],
   "source": [
    "output_dict.get('delivery_days')"
   ]
  },
  {
   "cell_type": "markdown",
   "id": "905773f3",
   "metadata": {},
   "source": [
    "*OUTPUT*\n",
    "\n",
    "'2'"
   ]
  },
  {
   "cell_type": "markdown",
   "id": "0246c3b1",
   "metadata": {},
   "source": [
    "This is a nifty way to take your LLM output and parse it \n",
    "into a Python dictionary, \n",
    "to make the output easier to use in downstream processing. "
   ]
  },
  {
   "cell_type": "markdown",
   "id": "34b234f0",
   "metadata": {},
   "source": [
    "With these tools, hopefully you'll be able to \n",
    "reuse your own prompt templates easily, share prompt templates \n",
    "with others that you're collaborating with, even \n",
    "use LangChain's built-in prompt templates, which as you \n",
    "just saw, can often be coupled with an output \n",
    "parser, \n",
    "so that the input prompt to output \n",
    "in a specific format and then the parser, \n",
    "parses that output to store the data in a Python dictionary or \n",
    "some other data structure that makes it easy for \n",
    "downstream processing."
   ]
  }
 ],
 "metadata": {
  "kernelspec": {
   "display_name": "Python 3 (ipykernel)",
   "language": "python",
   "name": "python3"
  },
  "language_info": {
   "codemirror_mode": {
    "name": "ipython",
    "version": 3
   },
   "file_extension": ".py",
   "mimetype": "text/x-python",
   "name": "python",
   "nbconvert_exporter": "python",
   "pygments_lexer": "ipython3",
   "version": "3.10.10"
  }
 },
 "nbformat": 4,
 "nbformat_minor": 5
}
