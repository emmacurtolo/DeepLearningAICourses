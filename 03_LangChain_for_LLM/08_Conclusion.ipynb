{
 "cells": [
  {
   "cell_type": "markdown",
   "id": "d03a0743",
   "metadata": {},
   "source": [
    "In this short course, you saw a range of applications, \n",
    "including processing customer reviews, and building an \n",
    "application to answer questions over documents, \n",
    "and even using an LLM to decide when to make \n",
    "a call to an external tool, like web search, \n",
    "to answer complex questions. \n",
    "\n",
    "If a week or two ago, someone had asked you, \n",
    "how much work would it be to build all of these applications? \n",
    "I think a lot of people would have thought, \"Boy, \n",
    "this sounds like weeks, you know, maybe even longer of work.\". \n",
    "But you saw in this short course, how with just a pretty \n",
    "reasonable number of lines of code, you can use LangChain \n",
    "to build all of these applications pretty efficiently. \n",
    " \n",
    "As I hope you take these ideas, maybe even take some \n",
    "code snippets that you saw in the Jupyter \n",
    "Notebooks and use them in your own applications.\n",
    "\n",
    "And these ideas are really just the start. There's \n",
    "a lot of other applications that you can \n",
    "use language models for. These models are so \n",
    "powerful because they're applicable to such a wide \n",
    "range of tasks, whether it be answering questions about CSVs, querying SQL \n",
    "databases, interacting with APIs. \n",
    "\n",
    "There's a lot of different examples of using chains \n",
    "and the combinations of prompts and output parsers \n",
    "and then more chains to do all these \n",
    "things in LangChain. And most of that is due \n",
    "to the LangChain community. So I want to also give \n",
    "a really big thank out to everyone in the community \n",
    "who's contributed, whether it be improvements in the documentation, making \n",
    "it easier for others to get started, or new \n",
    "types of chains opening up a whole new world of possibilities. \n",
    "And so, with that, if you have not yet already done so, \n",
    "I hope you go to your laptop or your desktop and run \n",
    "pip install LangChain and then go use this tool to go build \n",
    "some amazing applications. "
   ]
  }
 ],
 "metadata": {
  "kernelspec": {
   "display_name": "Python 3 (ipykernel)",
   "language": "python",
   "name": "python3"
  },
  "language_info": {
   "codemirror_mode": {
    "name": "ipython",
    "version": 3
   },
   "file_extension": ".py",
   "mimetype": "text/x-python",
   "name": "python",
   "nbconvert_exporter": "python",
   "pygments_lexer": "ipython3",
   "version": "3.10.10"
  }
 },
 "nbformat": 4,
 "nbformat_minor": 5
}
