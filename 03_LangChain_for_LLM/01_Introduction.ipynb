{
 "cells": [
  {
   "cell_type": "markdown",
   "id": "4f4ea954",
   "metadata": {},
   "source": [
    "## LangChain\n",
    "is an open source development \n",
    "framework for building LLM applications. \n",
    "\n",
    "We have two different packages, a Python one and a JavaScript one. \n",
    "They're focused on composition and modularity. So \n",
    "they have a lot of individual components that \n",
    "can be used in conjunction with each other \n",
    "or by themselves. And so that's one of the key value adds. And then \n",
    "the other key value add is a bunch of different use cases. So chains \n",
    "of ways of combining these modular components into \n",
    "more end-to-end applications making it very easy to get \n",
    "started with those use cases. In this class, we'll \n",
    "cover the common components of LangChain. So we'll talk about models. \n",
    "We'll talk about prompts, which are how you get models to \n",
    "do useful and interesting things. \n",
    "We'll talk about indexes, which are ways of ingesting \n",
    "data so that you can combine it with models. And \n",
    "then we'll talk about chains, which are more end-to-end use cases along \n",
    "with agents, which are a very exciting type of end-to-end use case which uses \n",
    "the model as a reasoning engine. "
   ]
  },
  {
   "cell_type": "markdown",
   "id": "529d22a6",
   "metadata": {},
   "source": [
    "![LLM](immagini\\01_intro.png)"
   ]
  },
  {
   "cell_type": "markdown",
   "id": "cc6d7470",
   "metadata": {},
   "source": [
    "![LLM](immagini\\02_intro.png)"
   ]
  }
 ],
 "metadata": {
  "kernelspec": {
   "display_name": "Python 3 (ipykernel)",
   "language": "python",
   "name": "python3"
  },
  "language_info": {
   "codemirror_mode": {
    "name": "ipython",
    "version": 3
   },
   "file_extension": ".py",
   "mimetype": "text/x-python",
   "name": "python",
   "nbconvert_exporter": "python",
   "pygments_lexer": "ipython3",
   "version": "3.10.10"
  }
 },
 "nbformat": 4,
 "nbformat_minor": 5
}
