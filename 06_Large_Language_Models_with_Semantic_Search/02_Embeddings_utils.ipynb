{
 "cells": [
  {
   "cell_type": "markdown",
   "id": "8d61fb18",
   "metadata": {},
   "source": [
    "# utils.py"
   ]
  },
  {
   "cell_type": "code",
   "execution_count": null,
   "id": "5bd3c262",
   "metadata": {},
   "outputs": [],
   "source": [
    "import umap\n",
    "import altair as alt\n",
    "\n",
    "from numba.core.errors import NumbaDeprecationWarning, NumbaPendingDeprecationWarning\n",
    "import warnings"
   ]
  },
  {
   "cell_type": "code",
   "execution_count": null,
   "id": "ccfa0f60",
   "metadata": {},
   "outputs": [],
   "source": [
    "warnings.simplefilter('ignore', category=NumbaDeprecationWarning)\n",
    "warnings.simplefilter('ignore', category=NumbaPendingDeprecationWarning)"
   ]
  },
  {
   "cell_type": "code",
   "execution_count": null,
   "id": "25f70ba5",
   "metadata": {},
   "outputs": [],
   "source": [
    "def umap_plot(text, emb):\n",
    "\n",
    "    cols = list(text.columns)\n",
    "    # UMAP reduces the dimensions from 1024 to 2 dimensions that we can plot\n",
    "    reducer = umap.UMAP(n_neighbors=2)\n",
    "    umap_embeds = reducer.fit_transform(emb)\n",
    "    # Prepare the data to plot and interactive visualization\n",
    "    # using Altair\n",
    "    #df_explore = pd.DataFrame(data={'text': qa['text']})\n",
    "    #print(df_explore)\n",
    "    \n",
    "    #df_explore = pd.DataFrame(data={'text': qa_df[0]})\n",
    "    df_explore = text.copy()\n",
    "    df_explore['x'] = umap_embeds[:,0]\n",
    "    df_explore['y'] = umap_embeds[:,1]\n",
    "    \n",
    "    # Plot\n",
    "    chart = alt.Chart(df_explore).mark_circle(size=60).encode(\n",
    "        x=#'x',\n",
    "        alt.X('x',\n",
    "            scale=alt.Scale(zero=False)\n",
    "        ),\n",
    "        y=\n",
    "        alt.Y('y',\n",
    "            scale=alt.Scale(zero=False)\n",
    "        ),\n",
    "        tooltip=cols\n",
    "        #tooltip=['text']\n",
    "    ).properties(\n",
    "        width=700,\n",
    "        height=400\n",
    "    )\n",
    "    return chart"
   ]
  },
  {
   "cell_type": "code",
   "execution_count": null,
   "id": "cd4e4688",
   "metadata": {},
   "outputs": [],
   "source": [
    "def umap_plot_big(text, emb):\n",
    "\n",
    "    cols = list(text.columns)\n",
    "    # UMAP reduces the dimensions from 1024 to 2 dimensions that we can plot\n",
    "    reducer = umap.UMAP(n_neighbors=100)\n",
    "    umap_embeds = reducer.fit_transform(emb)\n",
    "    # Prepare the data to plot and interactive visualization\n",
    "    # using Altair\n",
    "    #df_explore = pd.DataFrame(data={'text': qa['text']})\n",
    "    #print(df_explore)\n",
    "    \n",
    "    #df_explore = pd.DataFrame(data={'text': qa_df[0]})\n",
    "    df_explore = text.copy()\n",
    "    df_explore['x'] = umap_embeds[:,0]\n",
    "    df_explore['y'] = umap_embeds[:,1]\n",
    "    \n",
    "    # Plot\n",
    "    chart = alt.Chart(df_explore).mark_circle(size=60).encode(\n",
    "        x=#'x',\n",
    "        alt.X('x',\n",
    "            scale=alt.Scale(zero=False)\n",
    "        ),\n",
    "        y=\n",
    "        alt.Y('y',\n",
    "            scale=alt.Scale(zero=False)\n",
    "        ),\n",
    "        tooltip=cols\n",
    "        #tooltip=['text']\n",
    "    ).properties(\n",
    "        width=700,\n",
    "        height=400\n",
    "    )\n",
    "    return chart"
   ]
  },
  {
   "cell_type": "code",
   "execution_count": null,
   "id": "72182fe4",
   "metadata": {},
   "outputs": [],
   "source": [
    "def umap_plot_old(sentences, emb):\n",
    "    # UMAP reduces the dimensions from 1024 to 2 dimensions that we can plot\n",
    "    reducer = umap.UMAP(n_neighbors=2)\n",
    "    umap_embeds = reducer.fit_transform(emb)\n",
    "    # Prepare the data to plot and interactive visualization\n",
    "    # using Altair\n",
    "    #df_explore = pd.DataFrame(data={'text': qa['text']})\n",
    "    #print(df_explore)\n",
    "    \n",
    "    #df_explore = pd.DataFrame(data={'text': qa_df[0]})\n",
    "    df_explore = sentences\n",
    "    df_explore['x'] = umap_embeds[:,0]\n",
    "    df_explore['y'] = umap_embeds[:,1]\n",
    "    \n",
    "    # Plot\n",
    "    chart = alt.Chart(df_explore).mark_circle(size=60).encode(\n",
    "        x=#'x',\n",
    "        alt.X('x',\n",
    "            scale=alt.Scale(zero=False)\n",
    "        ),\n",
    "        y=\n",
    "        alt.Y('y',\n",
    "            scale=alt.Scale(zero=False)\n",
    "        ),\n",
    "        tooltip=['text']\n",
    "    ).properties(\n",
    "        width=700,\n",
    "        height=400\n",
    "    )\n",
    "    return chart"
   ]
  }
 ],
 "metadata": {
  "kernelspec": {
   "display_name": "Python 3 (ipykernel)",
   "language": "python",
   "name": "python3"
  },
  "language_info": {
   "codemirror_mode": {
    "name": "ipython",
    "version": 3
   },
   "file_extension": ".py",
   "mimetype": "text/x-python",
   "name": "python",
   "nbconvert_exporter": "python",
   "pygments_lexer": "ipython3",
   "version": "3.10.10"
  }
 },
 "nbformat": 4,
 "nbformat_minor": 5
}
