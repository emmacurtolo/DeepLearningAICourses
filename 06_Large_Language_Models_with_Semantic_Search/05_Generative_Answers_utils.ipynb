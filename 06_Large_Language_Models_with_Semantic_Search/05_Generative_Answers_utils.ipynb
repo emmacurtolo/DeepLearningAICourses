{
 "cells": [
  {
   "cell_type": "code",
   "execution_count": null,
   "id": "c067a222",
   "metadata": {},
   "outputs": [],
   "source": [
    "def print_result(result):\n",
    "    \"\"\" Print results with colorful formatting \"\"\"\n",
    "    for i,item in enumerate(result):\n",
    "        print(f'item {i}')\n",
    "        for key in item.keys():\n",
    "            print(f\"{key}:{item.get(key)}\")\n",
    "            print()\n",
    "        print()"
   ]
  },
  {
   "cell_type": "code",
   "execution_count": null,
   "id": "bb1e13bc",
   "metadata": {},
   "outputs": [],
   "source": [
    "def search_wikipedia_subset(client, query, num_results = 3, results_lang='en',\n",
    "                   properties = [\"text\", \"title\", \"url\", \"views\", \"lang\", \"_additional {distance}\"]):\n",
    "\n",
    "    nearText = {\"concepts\": [query]}\n",
    "    \n",
    "    # To filter by language\n",
    "    if results_lang:\n",
    "        where_filter = {\n",
    "        \"path\": [\"lang\"],\n",
    "        \"operator\": \"Equal\",\n",
    "        \"valueString\": results_lang\n",
    "        }\n",
    "        response = (\n",
    "            client.query\n",
    "            .get(\"Articles\", properties)\n",
    "            .with_where(where_filter)\n",
    "            .with_near_text(nearText)\n",
    "            .with_limit(5)\n",
    "            .do()\n",
    "        )\n",
    "\n",
    "    # Search all languages\n",
    "    else:\n",
    "        response = (\n",
    "            client.query\n",
    "            .get(\"Articles\", properties)\n",
    "            .with_near_text(nearText)\n",
    "            .with_limit(5)\n",
    "            .do()\n",
    "        )\n",
    "\n",
    "\n",
    "    result = response['data']['Get']['Articles']\n",
    "\n",
    "    return result"
   ]
  },
  {
   "cell_type": "code",
   "execution_count": null,
   "id": "1048fbbd",
   "metadata": {},
   "outputs": [],
   "source": [
    "def generate_given_context(query, weav_client, co_client ):\n",
    "    \n",
    "    results = search(client, query, results_lang='en' )\n",
    "\n",
    "    title = results[0]['title']\n",
    "    context = results[0]['text']\n",
    "\n",
    "\n",
    "\n",
    "    prompt = f\"\"\"\n",
    "    You are a useful AI trained to answer questions based on the context your are provided.\n",
    "    Use the Context Information provided below to answer the questions \"{query}\". If the answer to \n",
    "    the question is in the context, extract it and print it. If it's not contained in the provided \n",
    "    information, say \"I do not know\". \n",
    "    ---\n",
    "    Context information about {title}:\n",
    "    Context: {context}\n",
    "    End of Context Information\n",
    "    ---\n",
    "    Question: {query}\n",
    "    \"\"\"\n",
    "\n",
    "    # to answer from the Context Information\n",
    "    prediction = co_client.generate(\n",
    "        prompt=prompt,\n",
    "        max_tokens=50,\n",
    "        # model='command-light',\n",
    "        # temperature=0.3,\n",
    "        num_generations=5)\n",
    "\n",
    "\n",
    "    return prediction, context_title, context_text\n"
   ]
  }
 ],
 "metadata": {
  "kernelspec": {
   "display_name": "Python 3 (ipykernel)",
   "language": "python",
   "name": "python3"
  },
  "language_info": {
   "codemirror_mode": {
    "name": "ipython",
    "version": 3
   },
   "file_extension": ".py",
   "mimetype": "text/x-python",
   "name": "python",
   "nbconvert_exporter": "python",
   "pygments_lexer": "ipython3",
   "version": "3.10.10"
  }
 },
 "nbformat": 4,
 "nbformat_minor": 5
}
