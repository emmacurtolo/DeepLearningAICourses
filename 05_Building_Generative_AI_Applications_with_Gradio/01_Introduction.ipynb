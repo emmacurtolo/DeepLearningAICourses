{
 "cells": [
  {
   "cell_type": "markdown",
   "id": "274a0bd2",
   "metadata": {},
   "source": [
    "# Introduction"
   ]
  },
  {
   "cell_type": "markdown",
   "id": "751015ee",
   "metadata": {},
   "source": [
    "Welcome to this course, Building Generative AI Applications with Gradio, built in partnership with Hugging Face. I would like to introduce the instructor for this course, Apolinario Passos, who goes by Poli. Thanks Andrew, happy to be here. Gradio is a fast and convenient way to demo your machine learning model with a friendly web interface, directly in Python. In this course, we'll learn how to use it to build user interfaces for generative AI applications.\n",
    "\n",
    "After building the machine learning or generative AI part of an application, say you want to build a quick demo to show to others, maybe to get feedback and drive improvements to your system, or maybe just because you think the system is cool and you want to demo it. Gradio lets you do that quickly via a Python interface without needing to write any front-end or web or JavaScript code. \n",
    "\n",
    "In this course you see examples including text summarization, name entity recognition, image captioning, image generation using a diffusion model, and an LLM-based chatbot. For each of these applications, Poli will show how, after you've built the machine learning part of it, you can use Gradio to build a really cool demo quickly and let others interact with and experience what you've built. The first lesson will be built in an app for simple NLP tasks, including summarization and name entity recognition. We're grateful for the hard work of the many people that have contributed to this short course, from the Hugging Face team, Omar Sanseviero, Pedro Cuenca, Philip Schmid, Amy Roberts, Sylvain Gugger, Patrick von Platen, and Suraj Patil, and on the DeepLearning.ai side, Eddie Shyu and Diala Ezzeddine. And with that, let's go on to the next video to get started."
   ]
  }
 ],
 "metadata": {
  "kernelspec": {
   "display_name": "Python 3 (ipykernel)",
   "language": "python",
   "name": "python3"
  },
  "language_info": {
   "codemirror_mode": {
    "name": "ipython",
    "version": 3
   },
   "file_extension": ".py",
   "mimetype": "text/x-python",
   "name": "python",
   "nbconvert_exporter": "python",
   "pygments_lexer": "ipython3",
   "version": "3.10.10"
  }
 },
 "nbformat": 4,
 "nbformat_minor": 5
}
